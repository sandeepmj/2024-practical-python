{
 "cells": [
  {
   "cell_type": "markdown",
   "id": "80295ac5",
   "metadata": {},
   "source": [
    "### Homework\n",
    "\n",
    "<a href=\"https://drive.google.com/file/d/1nZ6GMwQKuQEQ2zKftkod4oHh-RqxfwXB/view?usp=sharing\">This file</a> contains three examples of confession judgements.  Write the ```regex``` required to find the 3 data points in the image. Remember to use regex101.com.\n",
    "\n",
    "Note: there are 3 sets of 3 data points since there are 3 confession judgments. The ```regex``` for each category of data point should capture all 3 occurences. For example, the ```regex``` to capture the month/day/year pattern would capture all three occurences.\n",
    "\n",
    "One further clarification: Since you only know how to search for patterns right now and not how to capture patterns, it is okay if your anchor gets highlighted in the search.\n",
    "\n",
    "For example if you are looking for the date the judgment was filed, it's okay if your pattern captures the anchor too and highlights the entire anchor along with the target date:\n",
    "\n",
    "FILED: ERIE COUNTY CLERK 08/03/2020\n",
    "\n",
    "\n"
   ]
  },
  {
   "cell_type": "markdown",
   "id": "a0704669",
   "metadata": {},
   "source": [
    "Here is a image of a single occurence of each data point (ignore the bad ORC...this is pre-mangoCR)\n",
    "\n",
    "<img src=\"https://sandeepmj.github.io/image-host/regex-datapoints.png\">\n",
    "\n"
   ]
  },
  {
   "cell_type": "markdown",
   "id": "21fb040a",
   "metadata": {},
   "source": [
    "**1. The NYSCEF date received**\n",
    "\n",
    "regex here:"
   ]
  },
  {
   "cell_type": "markdown",
   "id": "f6023faa",
   "metadata": {},
   "source": [
    "**2. The amount the defendant has agreed to replay**\n",
    "\n",
    "regex here:"
   ]
  },
  {
   "cell_type": "markdown",
   "id": "9429a36e",
   "metadata": {},
   "source": [
    "**3. The date by which they will have repaid the total**\n",
    "\n",
    "regex here:"
   ]
  },
  {
   "cell_type": "code",
   "execution_count": null,
   "id": "bb609ed0",
   "metadata": {},
   "outputs": [],
   "source": []
  },
  {
   "cell_type": "code",
   "execution_count": null,
   "id": "ef884b84",
   "metadata": {},
   "outputs": [],
   "source": []
  }
 ],
 "metadata": {
  "kernelspec": {
   "display_name": "Python 3 (ipykernel)",
   "language": "python",
   "name": "python3"
  },
  "language_info": {
   "codemirror_mode": {
    "name": "ipython",
    "version": 3
   },
   "file_extension": ".py",
   "mimetype": "text/x-python",
   "name": "python",
   "nbconvert_exporter": "python",
   "pygments_lexer": "ipython3",
   "version": "3.9.7"
  }
 },
 "nbformat": 4,
 "nbformat_minor": 5
}
