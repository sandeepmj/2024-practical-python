{
 "cells": [
  {
   "cell_type": "markdown",
   "id": "5fb4d600",
   "metadata": {},
   "source": [
    "## Scraping non-tabular, multipage sites\n",
    "Scrape the top 500 <a href=\"https://bestsellingalbums.org/decade/2010\">best-selling albums of the 2010's</a>. Your data must include the following datapoints:\n",
    "\n",
    "- Name of album\n",
    "- Name of artist\n",
    "- Number of albums sold \n",
    "- The link to the page that breaks down sales by country (found by clicking album title)\n",
    "\n"
   ]
  },
  {
   "cell_type": "code",
   "execution_count": 1,
   "id": "ca905d74",
   "metadata": {},
   "outputs": [],
   "source": [
    "## create cells as needed"
   ]
  },
  {
   "cell_type": "code",
   "execution_count": null,
   "id": "aaba252e",
   "metadata": {},
   "outputs": [],
   "source": []
  }
 ],
 "metadata": {
  "kernelspec": {
   "display_name": "Python 3 (ipykernel)",
   "language": "python",
   "name": "python3"
  },
  "language_info": {
   "codemirror_mode": {
    "name": "ipython",
    "version": 3
   },
   "file_extension": ".py",
   "mimetype": "text/x-python",
   "name": "python",
   "nbconvert_exporter": "python",
   "pygments_lexer": "ipython3",
   "version": "3.9.7"
  }
 },
 "nbformat": 4,
 "nbformat_minor": 5
}
