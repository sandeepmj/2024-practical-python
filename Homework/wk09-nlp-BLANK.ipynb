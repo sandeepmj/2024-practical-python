{
  "cells": [
    {
      "cell_type": "markdown",
      "metadata": {
        "id": "7QwY_aPURcTp"
      },
      "source": [
        "# AI - Natural Language Processing\n",
        "## Part 2 - Functionalize NLP for entities\n"
      ]
    },
    {
      "cell_type": "markdown",
      "source": [
        "# ONLY IF NEEDED"
      ],
      "metadata": {
        "id": "NX03HRSs3XTt"
      }
    },
    {
      "cell_type": "markdown",
      "metadata": {
        "id": "ly8WKOVPYV9-"
      },
      "source": [
        "## Step 1. Install Spacy\n",
        "\n",
        "If this first time ever using spacy on this computer, you must first do either the ```!conda install``` or ```!pip install```:"
      ]
    },
    {
      "cell_type": "markdown",
      "metadata": {
        "id": "WlzlERrT2mo2"
      },
      "source": [
        "### TURN OFF FOR COLAB\n",
        "Run for ANACONDA"
      ]
    },
    {
      "cell_type": "code",
      "execution_count": null,
      "metadata": {
        "id": "eTuPWyBP2mo2"
      },
      "outputs": [],
      "source": [
        "conda install -c conda-forge spacy"
      ]
    },
    {
      "cell_type": "markdown",
      "metadata": {
        "id": "G8xpwtwPRcT1"
      },
      "source": [
        "#### Which language model is best for you?\n",
        "<a href=\"https://spacy.io/usage/models\">https://spacy.io/usage/models</a>"
      ]
    },
    {
      "cell_type": "markdown",
      "metadata": {
        "id": "KcPisnnlRcT1"
      },
      "source": [
        "## Step 2. Install language model\n"
      ]
    },
    {
      "cell_type": "markdown",
      "metadata": {
        "id": "XFgsepGs2mo3"
      },
      "source": [
        "### ANACONDA ONLY"
      ]
    },
    {
      "cell_type": "code",
      "execution_count": null,
      "metadata": {
        "id": "XhkhIj5V2mo3"
      },
      "outputs": [],
      "source": [
        "conda install -c conda-forge spacy-model-en_core_web_sm"
      ]
    },
    {
      "cell_type": "markdown",
      "source": [
        "# Import libs"
      ],
      "metadata": {
        "id": "me3p-QJE3QxG"
      }
    },
    {
      "cell_type": "markdown",
      "metadata": {
        "id": "UswqTL7_2mo4"
      },
      "source": [
        "## Import hearings\n",
        "Download <a href=\"https://drive.google.com/file/d/1EUYLeHpHAAW2MGsrT6_jov9cJ-IuDLg-/view?usp=sharing\">this senate hearing</a> and turn it into a spacy doc.\n",
        "\n",
        "Create a spreadsheet with columns for the entity, the label, and its meaning.\n",
        "\n",
        "(remember, you will have to also tap elements from weeks' lessons to accomplish this)"
      ]
    },
    {
      "cell_type": "code",
      "source": [],
      "metadata": {
        "id": "yta9jP3ZA5G8"
      },
      "execution_count": null,
      "outputs": []
    }
  ],
  "metadata": {
    "celltoolbar": "Slideshow",
    "colab": {
      "collapsed_sections": [
        "NX03HRSs3XTt"
      ],
      "provenance": []
    },
    "kernelspec": {
      "display_name": "Python 3 (ipykernel)",
      "language": "python",
      "name": "python3"
    },
    "language_info": {
      "codemirror_mode": {
        "name": "ipython",
        "version": 3
      },
      "file_extension": ".py",
      "mimetype": "text/x-python",
      "name": "python",
      "nbconvert_exporter": "python",
      "pygments_lexer": "ipython3",
      "version": "3.9.7"
    }
  },
  "nbformat": 4,
  "nbformat_minor": 0
}