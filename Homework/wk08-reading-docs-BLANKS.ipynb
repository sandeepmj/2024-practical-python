{
 "cells": [
  {
   "cell_type": "markdown",
   "metadata": {
    "id": "VlCS3pUICfoz"
   },
   "source": [
    "## Scraping Content from Documents\n",
    "\n",
    "[This a folder](https://drive.google.com/file/d/1a_JlM2k_An8CT0MRLYjX6gzYvNm5t3cl/view?usp=share_link) that contains more than two dozen files.\n",
    "\n",
    "Using the lesson on collecting content from documents, please do the following using Python:\n",
    "\n",
    "* Analyze ONLY the .txt files (but do not physically remove the other files from this folder).\n",
    "\n",
    "* Output a CSV file that has 4 columns: year, cognition_related , medical_condition, care_hours\n",
    "\n",
    "* In the cognition_related column, enter ```True``` if the condition is related to Dementia or Alzheimer's disease. ```False``` if it is not.\n",
    "\n",
    "* In the medical_conditions column, enter either “Dementia\" or “Alzheimer’s\" or “Not Specified” depending on the case.\n",
    "* In the care_hours column, enter either \"half-day\" for 12-hour care, \"full-day\" for 24-hour care or “Not Specified\"\n",
    "\n",
    "* Export the CSV to your downloads.\n"
   ]
  },
  {
   "cell_type": "code",
   "execution_count": null,
   "metadata": {
    "id": "MvWkH550CdzY"
   },
   "outputs": [],
   "source": []
  }
 ],
 "metadata": {
  "colab": {
   "provenance": []
  },
  "kernelspec": {
   "display_name": "Python 3 (ipykernel)",
   "language": "python",
   "name": "python3"
  },
  "language_info": {
   "codemirror_mode": {
    "name": "ipython",
    "version": 3
   },
   "file_extension": ".py",
   "mimetype": "text/x-python",
   "name": "python",
   "nbconvert_exporter": "python",
   "pygments_lexer": "ipython3",
   "version": "3.9.7"
  }
 },
 "nbformat": 4,
 "nbformat_minor": 1
}
