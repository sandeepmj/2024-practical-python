{
 "cells": [
  {
   "cell_type": "markdown",
   "id": "d71fa45f",
   "metadata": {},
   "source": [
    "### Homework\n",
    "\n",
    "<a href=\"https://drive.google.com/file/d/1zA9hFSJSKxZ2iX6KcuPY3QfsYatabh4M/view?usp=sharing\">This file</a> contains three examples of confession judgements.  Write the ```regex``` required to find the following 3 data points.\n",
    "\n",
    "Note: there are 3 sets of 3 data points since there are 3 confession judgments. The ```regex``` for each data point should capture all 3 occurences.\n"
   ]
  },
  {
   "cell_type": "markdown",
   "id": "8f306da5",
   "metadata": {},
   "source": [
    "Here is a image of a single occurence of each data point (ignore the bad ORC...this is pre-mangoCR)\n",
    "\n",
    "<img src=\"https://sandeepmj.github.io/image-host/regex-datapoints.png\">\n",
    "\n"
   ]
  },
  {
   "cell_type": "markdown",
   "id": "f4192b0f",
   "metadata": {},
   "source": [
    "**1. The NYSCEF date received**\n",
    "\n",
    "regex here:"
   ]
  },
  {
   "cell_type": "markdown",
   "id": "15eb2686",
   "metadata": {},
   "source": [
    "**2. The amount the defendant has agreed to replay**\n",
    "\n",
    "regex here:"
   ]
  },
  {
   "cell_type": "markdown",
   "id": "0b21d958",
   "metadata": {},
   "source": [
    "**3. The date by which they will have repaid the total**\n",
    "\n",
    "regex here:"
   ]
  },
  {
   "cell_type": "code",
   "execution_count": null,
   "id": "4e9a99be",
   "metadata": {},
   "outputs": [],
   "source": []
  },
  {
   "cell_type": "code",
   "execution_count": null,
   "id": "9c020a1c",
   "metadata": {},
   "outputs": [],
   "source": []
  }
 ],
 "metadata": {
  "kernelspec": {
   "display_name": "Python 3 (ipykernel)",
   "language": "python",
   "name": "python3"
  },
  "language_info": {
   "codemirror_mode": {
    "name": "ipython",
    "version": 3
   },
   "file_extension": ".py",
   "mimetype": "text/x-python",
   "name": "python",
   "nbconvert_exporter": "python",
   "pygments_lexer": "ipython3",
   "version": "3.9.7"
  }
 },
 "nbformat": 4,
 "nbformat_minor": 5
}
