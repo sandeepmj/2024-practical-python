{
 "cells": [
  {
   "cell_type": "markdown",
   "id": "6f9880b7",
   "metadata": {},
   "source": [
    "### Homework\n",
    "\n",
    "<a href=\"https://drive.google.com/file/d/1nZ6GMwQKuQEQ2zKftkod4oHh-RqxfwXB/view?usp=sharing\">This file</a> contains three examples of confession judgements.  Write the ```regex``` required to find the 3 data points in the image.\n",
    "\n",
    "Note: there are 3 sets of 3 data points since there are 3 confession judgments. The ```regex``` for each data point should capture all 3 occurences. For example, the regext to capture the month/day/year pattern would capture all three occurences.\n",
    "\n",
    "Remember to use regex101.com\n"
   ]
  },
  {
   "cell_type": "markdown",
   "id": "d4e38f2e",
   "metadata": {},
   "source": [
    "Here is a image of a single occurence of each data point (ignore the bad ORC...this is pre-mangoCR)\n",
    "\n",
    "<img src=\"https://sandeepmj.github.io/image-host/regex-datapoints.png\">\n",
    "\n"
   ]
  },
  {
   "cell_type": "markdown",
   "id": "f1a9a25f",
   "metadata": {},
   "source": [
    "**1. The NYSCEF date received**\n",
    "\n",
    "regex here:"
   ]
  },
  {
   "cell_type": "markdown",
   "id": "2a5ded46",
   "metadata": {},
   "source": [
    "**2. The amount the defendant has agreed to replay**\n",
    "\n",
    "regex here:"
   ]
  },
  {
   "cell_type": "markdown",
   "id": "3c7a2147",
   "metadata": {},
   "source": [
    "**3. The date by which they will have repaid the total**\n",
    "\n",
    "regex here:"
   ]
  },
  {
   "cell_type": "code",
   "execution_count": null,
   "id": "07864334",
   "metadata": {},
   "outputs": [],
   "source": []
  },
  {
   "cell_type": "code",
   "execution_count": null,
   "id": "99671e3d",
   "metadata": {},
   "outputs": [],
   "source": []
  }
 ],
 "metadata": {
  "kernelspec": {
   "display_name": "Python 3 (ipykernel)",
   "language": "python",
   "name": "python3"
  },
  "language_info": {
   "codemirror_mode": {
    "name": "ipython",
    "version": 3
   },
   "file_extension": ".py",
   "mimetype": "text/x-python",
   "name": "python",
   "nbconvert_exporter": "python",
   "pygments_lexer": "ipython3",
   "version": "3.9.7"
  }
 },
 "nbformat": 4,
 "nbformat_minor": 5
}
