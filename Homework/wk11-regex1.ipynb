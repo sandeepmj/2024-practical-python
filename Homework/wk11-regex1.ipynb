{
 "cells": [
  {
   "cell_type": "markdown",
   "id": "f9097c41",
   "metadata": {},
   "source": [
    "### Homework\n",
    "\n",
    "This file contains three examples of confession judgements.  Write the ```regex``` required to find the following 3 data points.\n",
    "\n",
    "Note: there are 3 sets of 3 data points since there are 3 confession judgments. The ```regex``` for each data point should capture all 3 occurences.\n"
   ]
  },
  {
   "cell_type": "markdown",
   "id": "c8acefd5",
   "metadata": {},
   "source": [
    "Here is a image of a single occurence of each data point (ignore the bad ORC...this is pre-mangoCR)\n",
    "\n",
    "<img src=\"https://sandeepmj.github.io/image-host/regex-datapoints.png\">\n",
    "\n"
   ]
  },
  {
   "cell_type": "markdown",
   "id": "0a22c8d9",
   "metadata": {},
   "source": [
    "**1. The NYSCEF date received**\n",
    "\n",
    "regex here:"
   ]
  },
  {
   "cell_type": "markdown",
   "id": "d80964a4",
   "metadata": {},
   "source": [
    "**2. The amount the defendant has agreed to replay**\n",
    "\n",
    "regex here:"
   ]
  },
  {
   "cell_type": "markdown",
   "id": "4e784dce",
   "metadata": {},
   "source": [
    "**3. The date by which they will have repaid the total**\n",
    "\n",
    "regex here:"
   ]
  },
  {
   "cell_type": "code",
   "execution_count": null,
   "id": "c2a00b30",
   "metadata": {},
   "outputs": [],
   "source": []
  },
  {
   "cell_type": "code",
   "execution_count": null,
   "id": "c21058c1",
   "metadata": {},
   "outputs": [],
   "source": []
  }
 ],
 "metadata": {
  "kernelspec": {
   "display_name": "Python 3 (ipykernel)",
   "language": "python",
   "name": "python3"
  },
  "language_info": {
   "codemirror_mode": {
    "name": "ipython",
    "version": 3
   },
   "file_extension": ".py",
   "mimetype": "text/x-python",
   "name": "python",
   "nbconvert_exporter": "python",
   "pygments_lexer": "ipython3",
   "version": "3.9.7"
  }
 },
 "nbformat": 4,
 "nbformat_minor": 5
}
