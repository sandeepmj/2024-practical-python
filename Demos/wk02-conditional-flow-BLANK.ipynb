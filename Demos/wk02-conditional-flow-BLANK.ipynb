{
 "cells": [
  {
   "cell_type": "markdown",
   "id": "417c67d6",
   "metadata": {},
   "source": [
    "# Controlling the flow\n",
    "\n",
    "We always need to ensure that our scripts are able to handle various scenarios to return error-free and meaningful outputs. We do this by controlling the flow of our code (and not just how fast it runs).\n",
    "\n",
    "Here are two main reasons we will control the flow:\n",
    "\n",
    "### 1. Conditional Statements: decision-making based on conditions\n",
    "\n",
    "> We want our code to flow based on inputs, calculations and other needs. Without flow control, a program would execute linearly without any logical progression.\n",
    "\n",
    "### 2. Exception Handling: managing unforeseen errors\n",
    "\n",
    "> Our scripts might need to interact with external web pages (or documents or other data). We can't account for every single variation we might run into and our code will break down when it doesn't know how to proceed.\n",
    "\n",
    "> Flow control ensures that when errors happen, the program can handle them gracefully instead of crashing.\n",
    "\n",
    "\n",
    "\n",
    "\n",
    "\n",
    "\n",
    "\n",
    "\n"
   ]
  },
  {
   "cell_type": "markdown",
   "id": "a7c95e85",
   "metadata": {},
   "source": [
    "### 1. Conditional Statements\n",
    "\n",
    "\n",
    "<img src=\"https://sandeepmj.github.io/image-host/if-else.png\" width=\"300\">\n"
   ]
  },
  {
   "cell_type": "code",
   "execution_count": null,
   "id": "35ac8b0f",
   "metadata": {},
   "outputs": [],
   "source": [
    "## Write an expression that evaluates someone's age and decides \n",
    "## whether they can be served alcohol\n",
    "\n"
   ]
  },
  {
   "cell_type": "markdown",
   "id": "e2dfad7e",
   "metadata": {},
   "source": [
    "### more often than not, there are multiple conditions that have to be tested:\n",
    "<img src=\"https://sandeepmj.github.io/image-host/if-elif-else.png\" width=\"300\">"
   ]
  },
  {
   "cell_type": "markdown",
   "id": "26dd7657",
   "metadata": {},
   "source": [
    "<b>Create a credit rating expression based on the following values</b>\n",
    "\n",
    "- 300-579: Poor\n",
    "- 580-669: Fair\n",
    "- 670-739: Good\n",
    "- 740-799: Very good\n",
    "- 800-850: Excellent\n",
    "\n",
    "Your output should say \"Your credit of (whatever) is (rating)!\""
   ]
  },
  {
   "cell_type": "code",
   "execution_count": null,
   "id": "b1f670c9",
   "metadata": {},
   "outputs": [],
   "source": [
    "## code here\n",
    "\n"
   ]
  },
  {
   "cell_type": "markdown",
   "id": "4e4c5a56",
   "metadata": {},
   "source": [
    "## Inputs\n",
    "\n",
    "So far we've been assigning a value to a variable.\n",
    "\n",
    "But we can ask for inputs."
   ]
  },
  {
   "cell_type": "code",
   "execution_count": null,
   "id": "75928eb4",
   "metadata": {},
   "outputs": [],
   "source": [
    "## ask someone to enter their age\n"
   ]
  },
  {
   "cell_type": "code",
   "execution_count": null,
   "id": "12c3c085",
   "metadata": {},
   "outputs": [],
   "source": [
    "## call the age\n",
    "\n"
   ]
  },
  {
   "cell_type": "code",
   "execution_count": null,
   "id": "e119e880",
   "metadata": {},
   "outputs": [],
   "source": [
    "## what type of data is it?\n"
   ]
  },
  {
   "cell_type": "code",
   "execution_count": null,
   "id": "78616e8a",
   "metadata": {},
   "outputs": [],
   "source": [
    "## convert to a number\n"
   ]
  },
  {
   "cell_type": "code",
   "execution_count": null,
   "id": "0b249250",
   "metadata": {},
   "outputs": [],
   "source": [
    "## what type of data is it?\n"
   ]
  },
  {
   "cell_type": "code",
   "execution_count": null,
   "id": "0b82bd0d",
   "metadata": {},
   "outputs": [],
   "source": [
    "## ask for age but convert to float\n"
   ]
  },
  {
   "cell_type": "code",
   "execution_count": null,
   "id": "a70fb85a",
   "metadata": {},
   "outputs": [],
   "source": [
    "## what type of data is it?\n"
   ]
  },
  {
   "cell_type": "markdown",
   "id": "74398769",
   "metadata": {},
   "source": [
    "## Search & Replace\n",
    "\n",
    "Sometimes we have to search for a value and remove it."
   ]
  },
  {
   "cell_type": "code",
   "execution_count": null,
   "id": "516183cf",
   "metadata": {},
   "outputs": [],
   "source": [
    "## find and remove the honorific \"Dr.\"\n"
   ]
  },
  {
   "cell_type": "code",
   "execution_count": null,
   "id": "8ab69d33",
   "metadata": {},
   "outputs": [],
   "source": [
    "## code it here\n"
   ]
  },
  {
   "cell_type": "code",
   "execution_count": null,
   "id": "ccc41c65",
   "metadata": {},
   "outputs": [],
   "source": [
    "## one more\n",
    "## Find and replace the % symbol with the word \"percent\"\n",
    "\n",
    "my_pct = \"The price jumped 10%.\"\n"
   ]
  },
  {
   "cell_type": "code",
   "execution_count": null,
   "id": "ac93f359",
   "metadata": {},
   "outputs": [],
   "source": [
    "## code it here\n"
   ]
  },
  {
   "cell_type": "markdown",
   "id": "d4bb08d1",
   "metadata": {},
   "source": [
    "## Your Challenge\n",
    "\n",
    "Update the list below with numbers you can actually run calculations on.\n",
    "\n",
    "Store the updated values in a list called ```calc_revenues```."
   ]
  },
  {
   "cell_type": "code",
   "execution_count": null,
   "id": "d33a9977",
   "metadata": {},
   "outputs": [],
   "source": [
    "## run this cell\n",
    "revenues = [\"$4.5 million\", \n",
    "            \"$1.1 billion\", \n",
    "            \"$2.1 trillion\", \n",
    "            \"$5.6 million\", \n",
    "            \"$6.9 billion\",\n",
    "           \"$100\",\n",
    "           \"$1,000\"]"
   ]
  },
  {
   "cell_type": "code",
   "execution_count": null,
   "id": "ec7c0d9b",
   "metadata": {},
   "outputs": [],
   "source": [
    "## CODE IT HERE\n",
    "        "
   ]
  },
  {
   "cell_type": "code",
   "execution_count": null,
   "id": "31af689f",
   "metadata": {},
   "outputs": [],
   "source": [
    "## call our updated calc_revenues\n",
    "\n"
   ]
  },
  {
   "cell_type": "markdown",
   "id": "c62290c0",
   "metadata": {},
   "source": [
    "### 2. Exception Handling: managing unforeseen errors\n",
    "\n",
    "> Our scripts might need to interact with external web pages (or documents or other data). We can't account for every single variation we might run into and our code will break down when it doesn't know how to proceed.\n",
    "\n",
    "> Flow control ensures that when errors happen, the program can handle them gracefully instead of crashing.\n"
   ]
  },
  {
   "cell_type": "markdown",
   "id": "8781e768",
   "metadata": {},
   "source": [
    "In Python, an ```exception``` is an error that occurs during the execution of a script.\n",
    "If not handled, exceptions will stop the program and raise an error message, like below.\n",
    "\n",
    "We will run into errors when we scrape webpages, read documents and run natural language analysis. \n",
    "\n",
    "We might have to iterate through 10,000 links to scrape the content of each page. If some of those pages aren't structured as our scraper expects, our script will break. We'll get to those more complex cases in the near future. Today, we'll deal with a simplier ```exception```."
   ]
  },
  {
   "cell_type": "code",
   "execution_count": null,
   "id": "c695dccd",
   "metadata": {},
   "outputs": [],
   "source": [
    "## divide 100 by 10\n"
   ]
  },
  {
   "cell_type": "code",
   "execution_count": null,
   "id": "c541f8db",
   "metadata": {},
   "outputs": [],
   "source": [
    "## divide 100 by 0\n",
    "\n"
   ]
  },
  {
   "cell_type": "markdown",
   "id": "b8f761e1",
   "metadata": {},
   "source": [
    "### ```try-except``` blocks:\n",
    "\n",
    "<img src=\"https://sandeepmj.github.io/image-host/try-except.png\" width=\"550\">\n"
   ]
  },
  {
   "cell_type": "code",
   "execution_count": null,
   "id": "224b7c7a",
   "metadata": {},
   "outputs": [],
   "source": [
    "## code try-except block here\n",
    "\n",
    "\n"
   ]
  },
  {
   "cell_type": "markdown",
   "id": "ff453850",
   "metadata": {},
   "source": [
    "### You can have multiple exceptions"
   ]
  },
  {
   "cell_type": "code",
   "execution_count": null,
   "id": "9343935c",
   "metadata": {},
   "outputs": [],
   "source": [
    "## divide a number by a string\n"
   ]
  },
  {
   "cell_type": "code",
   "execution_count": null,
   "id": "a2712ba6",
   "metadata": {},
   "outputs": [],
   "source": [
    "## code try-multiple exceptions here\n"
   ]
  },
  {
   "cell_type": "markdown",
   "id": "4aff1a5a",
   "metadata": {},
   "source": [
    "### ```try-except-finally```\n",
    "\n",
    "We tack on a ```finally``` block that executes code regardless of whether an exception was raised or not, usually just to show us how far our code has progressed.\n",
    "\n",
    "<img src=\"https://sandeepmj.github.io/image-host/try-except-finally.png\" width=\"550\">\n"
   ]
  },
  {
   "cell_type": "code",
   "execution_count": null,
   "id": "056e1ee3",
   "metadata": {},
   "outputs": [],
   "source": [
    "## demo here\n",
    "\n"
   ]
  },
  {
   "cell_type": "markdown",
   "id": "d57a391c",
   "metadata": {},
   "source": [
    "## Totally Unexpected Errors?\n",
    "\n",
    "You actually don't even need to know what type of error you might encounter.\n",
    "\n",
    "Let's say you scraped the following items from a website. Each index position in each list are related items."
   ]
  },
  {
   "cell_type": "code",
   "execution_count": null,
   "id": "0f1b7ddb",
   "metadata": {},
   "outputs": [],
   "source": [
    "## RUN THIS CELL\n",
    "rents = [1_200, 1_700, \" \", 2_100, \"%\", 1_999]\n",
    "incomes = [3_000, 3_500, 4_000, 6_000, 3_500, 5_000 ]"
   ]
  },
  {
   "cell_type": "markdown",
   "id": "97afd90e",
   "metadata": {},
   "source": [
    "**We want to calculate what percent of the income is spent on rent.**"
   ]
  },
  {
   "cell_type": "markdown",
   "id": "9926d990",
   "metadata": {},
   "source": [
    "##  ```zip()``` allows us to ```for loop``` through multiple items¶\n"
   ]
  },
  {
   "cell_type": "code",
   "execution_count": null,
   "id": "b424f223",
   "metadata": {},
   "outputs": [],
   "source": [
    "## zip these two lists together\n"
   ]
  },
  {
   "cell_type": "code",
   "execution_count": null,
   "id": "838664bc",
   "metadata": {},
   "outputs": [],
   "source": [
    "## calculate the percent of income spent on rent:\n",
    "## round to zero decimal places\n",
    "## print( A person pays XXX in rent while earning xxx. That is xx percent of their income)\n",
    "## If there's an exception, print \"There's some error in this list\" and print out the values.\n",
    "\n"
   ]
  },
  {
   "cell_type": "markdown",
   "id": "dbbdf884",
   "metadata": {},
   "source": [
    "### Tracking Errors\n",
    "\n",
    "It's critical to **compile** where and what caused the error.\n",
    "\n",
    "How could we do that?"
   ]
  },
  {
   "cell_type": "code",
   "execution_count": null,
   "id": "311a4b22",
   "metadata": {},
   "outputs": [],
   "source": [
    "### create a list of dictionaries for the related errors\n",
    "\n",
    "        "
   ]
  },
  {
   "cell_type": "code",
   "execution_count": null,
   "id": "3a522541",
   "metadata": {},
   "outputs": [],
   "source": [
    "## call errors\n"
   ]
  },
  {
   "cell_type": "markdown",
   "id": "6a7d5d7f",
   "metadata": {},
   "source": [
    "## Uses in Data Journalism\n",
    "\n",
    "When we scrape, analyze data or documents, we need to control the flow of our code.\n",
    "\n",
    "- ```conditional expressions``` will allow you build logic and control the flow of your code.\n",
    "- ```error handling``` will allos you to write script that doesn't break down when it encounters its first blip, and will even let you collect info on what exactly went wrong."
   ]
  },
  {
   "cell_type": "markdown",
   "id": "3e0c4f86",
   "metadata": {},
   "source": [
    "# If time :-) "
   ]
  },
  {
   "cell_type": "markdown",
   "id": "a55f57c7",
   "metadata": {
    "id": "jT5n6Up0wQbE"
   },
   "source": [
    "## List Comprehension"
   ]
  },
  {
   "cell_type": "code",
   "execution_count": null,
   "id": "0d658132",
   "metadata": {
    "colab": {
     "base_uri": "https://localhost:8080/"
    },
    "executionInfo": {
     "elapsed": 318,
     "status": "ok",
     "timestamp": 1646150036647,
     "user": {
      "displayName": "Sandeep Junnarkar",
      "photoUrl": "https://lh3.googleusercontent.com/a/default-user=s64",
      "userId": "15658885848901522782"
     },
     "user_tz": 300
    },
    "id": "ewAafTSZffPi",
    "outputId": "bf150f7c-d4f0-438f-f328-98b369d2d97d"
   },
   "outputs": [],
   "source": [
    "## run this list\n",
    "numbers = [0, 1, 2, 3, 4, 5, 6, 7, 8, 9, 10]\n",
    "numbers"
   ]
  },
  {
   "cell_type": "code",
   "execution_count": null,
   "id": "ce368b91",
   "metadata": {
    "colab": {
     "base_uri": "https://localhost:8080/"
    },
    "executionInfo": {
     "elapsed": 163,
     "status": "ok",
     "timestamp": 1646150219777,
     "user": {
      "displayName": "Sandeep Junnarkar",
      "photoUrl": "https://lh3.googleusercontent.com/a/default-user=s64",
      "userId": "15658885848901522782"
     },
     "user_tz": 300
    },
    "id": "PYQ8RjbGfsT4",
    "outputId": "d6fa8ecd-0a75-432a-ec82-36140efcfdc5"
   },
   "outputs": [],
   "source": [
    "## use a FOR LOOP (FL) to create a list that holds the numbers times 10\n"
   ]
  },
  {
   "cell_type": "code",
   "execution_count": null,
   "id": "b420a56a",
   "metadata": {
    "colab": {
     "base_uri": "https://localhost:8080/"
    },
    "executionInfo": {
     "elapsed": 269,
     "status": "ok",
     "timestamp": 1646150335897,
     "user": {
      "displayName": "Sandeep Junnarkar",
      "photoUrl": "https://lh3.googleusercontent.com/a/default-user=s64",
      "userId": "15658885848901522782"
     },
     "user_tz": 300
    },
    "id": "ZuKI0ebYf1ON",
    "outputId": "0f38a160-4d15-4287-cf72-585f964bd92e"
   },
   "outputs": [],
   "source": [
    "## use list comprehension (LC) to create a list that holds the numbers times 10\n",
    "\n",
    "\n"
   ]
  },
  {
   "cell_type": "code",
   "execution_count": null,
   "id": "5e69d4cb",
   "metadata": {},
   "outputs": [],
   "source": [
    "## CALL NUMBERS\n",
    "\n"
   ]
  },
  {
   "cell_type": "code",
   "execution_count": null,
   "id": "89229884",
   "metadata": {},
   "outputs": [],
   "source": [
    "## use a for loop to hold on to numbers x 3 and hold only the even numbers in a few list\n",
    "\n"
   ]
  },
  {
   "cell_type": "code",
   "execution_count": null,
   "id": "24ed2f6d",
   "metadata": {},
   "outputs": [],
   "source": [
    "## use a for loop to hold on to numbers x 3 and hold only the odd numbers in a few list\n",
    "\n"
   ]
  },
  {
   "cell_type": "code",
   "execution_count": null,
   "id": "9667767d",
   "metadata": {
    "colab": {
     "base_uri": "https://localhost:8080/"
    },
    "executionInfo": {
     "elapsed": 380,
     "status": "ok",
     "timestamp": 1646150869735,
     "user": {
      "displayName": "Sandeep Junnarkar",
      "photoUrl": "https://lh3.googleusercontent.com/a/default-user=s64",
      "userId": "15658885848901522782"
     },
     "user_tz": 300
    },
    "id": "R9EJBM96gBWy",
    "outputId": "fcc10778-0196-4d5a-8ae5-fee31ae09a53"
   },
   "outputs": [],
   "source": [
    "## use LC to create a list that holds only the even numbers \n",
    "even_lc = [number * 3 for number in numbers if (number * 3) % 2 == 0]\n",
    "even_lc"
   ]
  },
  {
   "cell_type": "code",
   "execution_count": null,
   "id": "a0f5eb1b",
   "metadata": {
    "colab": {
     "base_uri": "https://localhost:8080/"
    },
    "executionInfo": {
     "elapsed": 221,
     "status": "ok",
     "timestamp": 1646151168648,
     "user": {
      "displayName": "Sandeep Junnarkar",
      "photoUrl": "https://lh3.googleusercontent.com/a/default-user=s64",
      "userId": "15658885848901522782"
     },
     "user_tz": 300
    },
    "id": "23TpWeMAgLOX",
    "outputId": "82c1b481-7ae9-4ed5-841a-0cc346b72575"
   },
   "outputs": [],
   "source": [
    "## use LC to create a list that holds only the odd numbers \n",
    "\n"
   ]
  },
  {
   "cell_type": "markdown",
   "id": "ec4e0a8e",
   "metadata": {
    "id": "EEXSVGi2C-w4"
   },
   "source": [
    "###  Combine different data points together \n",
    "\n",
    "#### You scrape some URLs and place them in a list called myURLS (provided below):\n"
   ]
  },
  {
   "cell_type": "code",
   "execution_count": null,
   "id": "f709c223",
   "metadata": {
    "id": "mQwOrDIWC-w4"
   },
   "outputs": [],
   "source": [
    "## run this cell to activate the list\n",
    "myURLS = [\n",
    "    'great-unique-data-1.html',\n",
    "    'great-unique-data-2.html',\n",
    "    'great-unique-data-3.html',\n",
    "    'great-unique-data-4.html',\n",
    "    'great-unique-data-5.html',\n",
    "    'great-unique-data-6.html',\n",
    "    'great-unique-data-7.html',\n",
    "    'great-unique-data-8.html',\n",
    "    'great-unique-data-9.html',\n",
    "    'great-unique-data-10.html',\n",
    "    'great-unique-data-11.html',\n",
    "    'great-unique-data-12.html',\n",
    "    'great-unique-data-13.html',\n",
    "    'great-unique-data-14.html',\n",
    "    'great-unique-data-15.html'\n",
    "]\n"
   ]
  },
  {
   "cell_type": "code",
   "execution_count": null,
   "id": "00b55173",
   "metadata": {
    "colab": {
     "base_uri": "https://localhost:8080/"
    },
    "id": "XGrsmmioC-w4",
    "outputId": "daf42c56-696e-45c5-daec-967ea4801db2"
   },
   "outputs": [],
   "source": [
    "## CALL myURLS to check it out\n"
   ]
  },
  {
   "cell_type": "markdown",
   "id": "6923662f",
   "metadata": {
    "id": "_W4WZ9-_C-w5"
   },
   "source": [
    "### * You realize that these URLs are missing the base of \"http://www.importantsite.com/\"\n",
    "### * Use a ```for loop``` to join the base URL to every partial URL in your list.\n",
    "### * Print each FULL URL\n",
    "It should look like: ```\"http://www.importantsite.com/great-unique-data-14.html``` but with unique numbers"
   ]
  },
  {
   "cell_type": "code",
   "execution_count": null,
   "id": "71e1f570",
   "metadata": {},
   "outputs": [],
   "source": [
    "## build here:\n"
   ]
  },
  {
   "cell_type": "markdown",
   "id": "c18fe304",
   "metadata": {},
   "source": [
    "## Back to toxins list comprehension"
   ]
  },
  {
   "cell_type": "code",
   "execution_count": null,
   "id": "420aae03",
   "metadata": {},
   "outputs": [],
   "source": [
    "# run this cell\n",
    "toxins = [\n",
    "        \"Recombinant Bovine Growth Hormone\", \n",
    "        \"Butylated Hydroxyanisole\", \n",
    "        \"Sodium Aluminum Sulphate\",\n",
    "        \"Potassium Aluminum Sulphate\",\n",
    "        \"Sodium Nitrite\",\n",
    "        \"Polycyclic Aromatic Hydrocarbons\",\n",
    "        \"Dioxins\",\n",
    "        \"Heterocyclic Amines\",\n",
    "        \"Butylated Hydroxytoluene\",\n",
    "        \"Polyvinyl Chloride\",\n",
    "        \"PVC\",\n",
    "        \"Perfluorooctanoic Acid\",\n",
    "        \"PFOA\",\n",
    "        \"Triclosan\",\n",
    "        \"Bisphenol-A\",\n",
    "        \"BPA\",\n",
    "        \"Formaldehyde\",\n",
    "        \"Naphthalene\",\n",
    "        \"Asbestos\"\n",
    "         ]"
   ]
  },
  {
   "cell_type": "markdown",
   "id": "0d2c9a58",
   "metadata": {},
   "source": [
    "Using a ```list comprehension``` create a list called ```sodium_lc``` that captures only the toxins that have the word ```sodium``` in them."
   ]
  },
  {
   "cell_type": "code",
   "execution_count": null,
   "id": "62234f6a",
   "metadata": {},
   "outputs": [],
   "source": [
    "## build here: \n"
   ]
  },
  {
   "cell_type": "code",
   "execution_count": null,
   "id": "d2468323",
   "metadata": {},
   "outputs": [],
   "source": []
  }
 ],
 "metadata": {
  "kernelspec": {
   "display_name": "Python 3 (ipykernel)",
   "language": "python",
   "name": "python3"
  },
  "language_info": {
   "codemirror_mode": {
    "name": "ipython",
    "version": 3
   },
   "file_extension": ".py",
   "mimetype": "text/x-python",
   "name": "python",
   "nbconvert_exporter": "python",
   "pygments_lexer": "ipython3",
   "version": "3.9.7"
  }
 },
 "nbformat": 4,
 "nbformat_minor": 5
}
