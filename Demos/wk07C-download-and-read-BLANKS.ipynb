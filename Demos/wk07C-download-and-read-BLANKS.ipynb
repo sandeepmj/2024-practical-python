{
 "cells": [
  {
   "cell_type": "markdown",
   "metadata": {
    "id": "fv1F1HyA9zmX"
   },
   "source": [
    "# Dowload, Capture, Structure\n",
    "\n",
    "For your homework you downloaded **all** the files on <a href=\"https://sandeepmj.github.io/scrape-example-page/pages.html\">the demo site</a>. \n",
    "\n",
    "Let's say we have all the files <a href=\"https://drive.google.com/file/d/1med3kfLnfkGy2WChtp-Pdsa5QO6Mp569/view?usp=share_link\">in this folder</a>. Download this folder and move it next to your ```.ipynb``` file. (Soon we'll learn how to do this programmatically.)\n",
    "\n",
    "### Goal:\n",
    "\n",
    "Create a dataframe that holds:\n",
    "\n",
    "- name of the renter, \n",
    "- whether their lease of renewed or terminated,\n",
    "- the name of the source file."
   ]
  }
 ],
 "metadata": {
  "celltoolbar": "Slideshow",
  "colab": {
   "collapsed_sections": [],
   "name": "week-8C-download-and-read_BLANK.ipynb",
   "provenance": [
    {
     "file_id": "1O76yK1JGDPc1kRTHTOIDjev2XbLGExhv",
     "timestamp": 1646785092936
    },
    {
     "file_id": "1U8zDTAuA8NQ2JaDzSqzSn03P2iT8KFLG",
     "timestamp": 1639579061177
    },
    {
     "file_id": "1tC30RwvbvYZQU9bLZ75I6kBbMski9LFN",
     "timestamp": 1628626954402
    }
   ]
  },
  "kernelspec": {
   "display_name": "Python 3 (ipykernel)",
   "language": "python",
   "name": "python3"
  },
  "language_info": {
   "codemirror_mode": {
    "name": "ipython",
    "version": 3
   },
   "file_extension": ".py",
   "mimetype": "text/x-python",
   "name": "python",
   "nbconvert_exporter": "python",
   "pygments_lexer": "ipython3",
   "version": "3.9.7"
  }
 },
 "nbformat": 4,
 "nbformat_minor": 1
}
