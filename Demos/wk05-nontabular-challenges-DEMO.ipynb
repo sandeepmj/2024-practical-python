{
 "cells": [
  {
   "cell_type": "markdown",
   "metadata": {
    "id": "s1gmCxq4kQCP"
   },
   "source": [
    "# Challenges Scraping Non-Tabular Data\n",
    "\n",
    "On <a href=\"https://sandeepmj.github.io/scrape-example-page\">this demo page</a> I've reproduced several variations of issues we are likely to encounter when scraping.\n",
    "\n",
    "- Review scrape of an well-organized page.\n",
    "- Dynamically getting column names.\n",
    "- Scraping a challenging page.\n",
    "- Excluding multi-classes.\n",
    "\n",
    "\n",
    "Let's start by scraping <a href=\"https://sandeepmj.github.io/scrape-example-page/#organized\">the organized CEO data</a>."
   ]
  },
  {
   "cell_type": "code",
   "execution_count": 5,
   "metadata": {},
   "outputs": [],
   "source": [
    "## import libraries\n",
    "import pandas as pd\n",
    "from bs4 import BeautifulSoup\n",
    "import requests\n",
    "\n"
   ]
  },
  {
   "cell_type": "code",
   "execution_count": 2,
   "metadata": {},
   "outputs": [],
   "source": [
    "## target url\n",
    "url = \"https://sandeepmj.github.io/scrape-example-page/\""
   ]
  },
  {
   "cell_type": "code",
   "execution_count": 3,
   "metadata": {},
   "outputs": [],
   "source": [
    "## response\n",
    "\n",
    "response = requests.get(url)"
   ]
  },
  {
   "cell_type": "code",
   "execution_count": 6,
   "metadata": {},
   "outputs": [],
   "source": [
    "## turn into soup\n",
    "\n",
    "soup = BeautifulSoup(response.text, \"html.parser\")"
   ]
  },
  {
   "cell_type": "code",
   "execution_count": 10,
   "metadata": {},
   "outputs": [
    {
     "data": {
      "text/plain": [
       "<section id=\"organized\">\n",
       "<h2>Organized - Top 5 Compensated CEOs in 2018</h2>\n",
       "<div class=\"ceo\">\n",
       "<p class=\"rank\">Rank: 1</p>\n",
       "<p class=\"name\">Name: Hock E. Tan</p>\n",
       "<p class=\"annual_compensation\">Annual Compensation: $103.2 million</p>\n",
       "<p class=\"company\">Company: Broadcom</p>\n",
       "</div>\n",
       "<div class=\"ceo\">\n",
       "<p class=\"rank\">Rank: 2</p>\n",
       "<p class=\"name\">Name: Frank Bisignano</p>\n",
       "<p class=\"annual_compensation\">Annual Compensation: $102.2 million</p>\n",
       "<p class=\"company\">Company: First Data (FDC)</p>\n",
       "</div>\n",
       "<div class=\"ceo\">\n",
       "<p class=\"rank\">Rank: 3</p>\n",
       "<p class=\"name\">Name: Michael Rapino</p>\n",
       "<p class=\"annual_compensation\">Annual Compensation: $70.6 million</p>\n",
       "<p class=\"company\">Company: Live Nation Entertainment (LYV)</p>\n",
       "</div>\n",
       "<div class=\"ceo\">\n",
       "<p class=\"rank\">Rank: 4</p>\n",
       "<p class=\"name\">Name: Leslie Moonves</p>\n",
       "<p class=\"annual_compensation\">Annual Compensation: 68.4 million</p>\n",
       "<p class=\"company\">Company: CBS</p>\n",
       "</div>\n",
       "<div class=\"ceo\">\n",
       "<p class=\"rank\">Rank: 5</p>\n",
       "<p class=\"name\">Name: Gregory Maffei</p>\n",
       "<p class=\"annual_compensation\">Annual Compensation: $67.2 million</p>\n",
       "<p class=\"company\">Company: Liberty Media &amp; Qurate Retail Group</p>\n",
       "</div>\n",
       "</section>"
      ]
     },
     "execution_count": 10,
     "metadata": {},
     "output_type": "execute_result"
    }
   ],
   "source": [
    "organized = soup.find(id=\"organized\")\n",
    "organized"
   ]
  },
  {
   "cell_type": "code",
   "execution_count": 8,
   "metadata": {},
   "outputs": [
    {
     "data": {
      "text/plain": [
       "bs4.element.Tag"
      ]
     },
     "execution_count": 8,
     "metadata": {},
     "output_type": "execute_result"
    }
   ],
   "source": [
    "type(organized)"
   ]
  },
  {
   "cell_type": "code",
   "execution_count": 12,
   "metadata": {},
   "outputs": [
    {
     "data": {
      "text/plain": [
       "[<div class=\"ceo\">\n",
       " <p class=\"rank\">Rank: 1</p>\n",
       " <p class=\"name\">Name: Hock E. Tan</p>\n",
       " <p class=\"annual_compensation\">Annual Compensation: $103.2 million</p>\n",
       " <p class=\"company\">Company: Broadcom</p>\n",
       " </div>,\n",
       " <div class=\"ceo\">\n",
       " <p class=\"rank\">Rank: 2</p>\n",
       " <p class=\"name\">Name: Frank Bisignano</p>\n",
       " <p class=\"annual_compensation\">Annual Compensation: $102.2 million</p>\n",
       " <p class=\"company\">Company: First Data (FDC)</p>\n",
       " </div>,\n",
       " <div class=\"ceo\">\n",
       " <p class=\"rank\">Rank: 3</p>\n",
       " <p class=\"name\">Name: Michael Rapino</p>\n",
       " <p class=\"annual_compensation\">Annual Compensation: $70.6 million</p>\n",
       " <p class=\"company\">Company: Live Nation Entertainment (LYV)</p>\n",
       " </div>,\n",
       " <div class=\"ceo\">\n",
       " <p class=\"rank\">Rank: 4</p>\n",
       " <p class=\"name\">Name: Leslie Moonves</p>\n",
       " <p class=\"annual_compensation\">Annual Compensation: 68.4 million</p>\n",
       " <p class=\"company\">Company: CBS</p>\n",
       " </div>,\n",
       " <div class=\"ceo\">\n",
       " <p class=\"rank\">Rank: 5</p>\n",
       " <p class=\"name\">Name: Gregory Maffei</p>\n",
       " <p class=\"annual_compensation\">Annual Compensation: $67.2 million</p>\n",
       " <p class=\"company\">Company: Liberty Media &amp; Qurate Retail Group</p>\n",
       " </div>]"
      ]
     },
     "execution_count": 12,
     "metadata": {},
     "output_type": "execute_result"
    }
   ],
   "source": [
    "## isolate ceos\n",
    "\n",
    "ceos = organized.find_all('div', class_=\"ceo\")\n",
    "ceos"
   ]
  },
  {
   "cell_type": "markdown",
   "metadata": {
    "id": "YfF9k_35kQCS"
   },
   "source": [
    "### The same steps each time:\n",
    "\n",
    "* Is the content on the page (use ```Reveal Source```)?\n",
    "* Where and how is the content held on the page?\n",
    "* Which classes and IDs do we target?\n",
    "* Is there a pattern?\n",
    "* Is there anything that breaks the pattern?"
   ]
  },
  {
   "cell_type": "markdown",
   "metadata": {
    "id": "TTxmq3ZJkQCa"
   },
   "source": [
    "# Excluding classes\n",
    "\n",
    "Most modern sites have tags that include multiple classes.\n",
    "\n",
    "What if you want to target a tag with a single class but that class also appears in tags with others that holds other types of content.\n",
    "\n",
    "For example, capture ```Excluding Some Classes``` section of our page in ```BeautifulSoup``` object.\n",
    "\n"
   ]
  },
  {
   "cell_type": "code",
   "execution_count": 42,
   "metadata": {
    "id": "AnYKKYHFHNTi"
   },
   "outputs": [],
   "source": [
    "## RUN this cell that holds some html\n",
    "some_html = '''<li> Silly List </li>\n",
    "<li class=\"a\"> A alone  - UNWANTED </li>\n",
    "<li class=\"a z\"> A and Z  - UNWANTED </li>\n",
    "<li class=\"z\"> Z first - my target</li>\n",
    "<li class=\"b z\"> B and Z  - UNWANTED</li>\n",
    "<li class=\"x z\"> X and Z - UNWANTED </li>\n",
    "<li class=\"z\"> Z second - my target</li>'''\n",
    "\n"
   ]
  },
  {
   "cell_type": "markdown",
   "metadata": {
    "id": "GVXYAOG_HNTi"
   },
   "source": [
    "### Back to our CEOs"
   ]
  },
  {
   "cell_type": "code",
   "execution_count": null,
   "metadata": {},
   "outputs": [],
   "source": []
  }
 ],
 "metadata": {
  "celltoolbar": "Slideshow",
  "colab": {
   "provenance": []
  },
  "kernelspec": {
   "display_name": "Python 3 (ipykernel)",
   "language": "python",
   "name": "python3"
  },
  "language_info": {
   "codemirror_mode": {
    "name": "ipython",
    "version": 3
   },
   "file_extension": ".py",
   "mimetype": "text/x-python",
   "name": "python",
   "nbconvert_exporter": "python",
   "pygments_lexer": "ipython3",
   "version": "3.9.7"
  }
 },
 "nbformat": 4,
 "nbformat_minor": 1
}
