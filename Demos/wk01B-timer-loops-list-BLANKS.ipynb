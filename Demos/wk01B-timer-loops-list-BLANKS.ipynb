{
 "cells": [
  {
   "cell_type": "markdown",
   "metadata": {
    "id": "XI6zto6STb4w"
   },
   "source": [
    "# Week 1 - Controlling the flow and pace of your code"
   ]
  },
  {
   "cell_type": "markdown",
   "metadata": {
    "id": "30sMtwXFTb4x"
   },
   "source": [
    "#### The following play critical roles:  \n",
    "1. Indentation - running blocks of code.\n",
    "2. Time Delays - pacing the speed of our code.\n",
    "3. For Loops - iterating through data\n",
    "\n"
   ]
  },
  {
   "cell_type": "markdown",
   "metadata": {
    "id": "cIqZt8HlTb4y"
   },
   "source": [
    "## 1. Indentation\n",
    "\n",
    "* Python is unique in requiring indentations.\n",
    "* Indentations signify the start and end of code that belongs together (code blocks).\n",
    "* Without proper indentation, your code won't do what you expect.\n",
    "* Not working as expected? Check if you have indented correctly!"
   ]
  },
  {
   "cell_type": "markdown",
   "metadata": {
    "id": "lSQdSFGnTb4z"
   },
   "source": [
    "### Basic Flow Example: A Counter"
   ]
  },
  {
   "cell_type": "code",
   "execution_count": null,
   "metadata": {
    "colab": {
     "base_uri": "https://localhost:8080/"
    },
    "executionInfo": {
     "elapsed": 194,
     "status": "ok",
     "timestamp": 1646144402137,
     "user": {
      "displayName": "Sandeep Junnarkar",
      "photoUrl": "https://lh3.googleusercontent.com/a/default-user=s64",
      "userId": "15658885848901522782"
     },
     "user_tz": 300
    },
    "id": "OtxKAi18Tb4z",
    "outputId": "dd1b6585-079f-4177-cb56-48ccfa3bd349"
   },
   "outputs": [],
   "source": [
    "## Using a While loop build a counter that counts from 1 to 5.\n",
    "## Print the counter numbers in statement that reads \"The count is\" whatever the count is.\n",
    "## Once it reaches 5, it should print \"Done counting to 5!\"\n",
    "\n"
   ]
  },
  {
   "cell_type": "markdown",
   "metadata": {
    "id": "T8x4Mm-sTb43"
   },
   "source": [
    "### You just controlled flow using indentation and a while loop.\n",
    "\n"
   ]
  },
  {
   "cell_type": "markdown",
   "metadata": {
    "id": "CSS4A88WTb46"
   },
   "source": [
    "## How fast does our code run?"
   ]
  },
  {
   "cell_type": "code",
   "execution_count": null,
   "metadata": {},
   "outputs": [],
   "source": [
    "## import a package that keeps time\n"
   ]
  },
  {
   "cell_type": "code",
   "execution_count": null,
   "metadata": {
    "colab": {
     "base_uri": "https://localhost:8080/"
    },
    "executionInfo": {
     "elapsed": 358,
     "status": "ok",
     "timestamp": 1646144549423,
     "user": {
      "displayName": "Sandeep Junnarkar",
      "photoUrl": "https://lh3.googleusercontent.com/a/default-user=s64",
      "userId": "15658885848901522782"
     },
     "user_tz": 300
    },
    "id": "K3qzy9sfTb46",
    "outputId": "4ef303c7-dea9-4297-c75a-31303419157a"
   },
   "outputs": [],
   "source": [
    "## loop through with time keeping\n",
    "\n"
   ]
  },
  {
   "cell_type": "markdown",
   "metadata": {
    "id": "DeNYDEZjTb49"
   },
   "source": [
    "## 2. Time Delays\n",
    "\n",
    "**Delay timers** are critical when scraping data from websites for several reasons. The **two** most important reasons are:\n",
    "\n",
    "1. Sometimes your scraper clicks on links and must wait for the content to actually populated on the new page. Your script is likely to run faster than a page can load.\n",
    "\n",
    "\n",
    "2. You don't want your scraper to be mistaken for a hostile attack on a server. You have to slow down the scrapes."
   ]
  },
  {
   "cell_type": "markdown",
   "metadata": {
    "id": "-sWBATesTb49"
   },
   "source": [
    "### Step 1 - Import required libraries"
   ]
  },
  {
   "cell_type": "code",
   "execution_count": null,
   "metadata": {
    "id": "fkP5GwcATb4-"
   },
   "outputs": [],
   "source": [
    "# time is required. we will use its sleep function\n",
    "\n"
   ]
  },
  {
   "cell_type": "markdown",
   "metadata": {
    "id": "HPIFT2o2Tb5A"
   },
   "source": [
    "#### Let's add a 5-second delay:"
   ]
  },
  {
   "cell_type": "code",
   "execution_count": null,
   "metadata": {
    "colab": {
     "base_uri": "https://localhost:8080/"
    },
    "executionInfo": {
     "elapsed": 25341,
     "status": "ok",
     "timestamp": 1646144820259,
     "user": {
      "displayName": "Sandeep Junnarkar",
      "photoUrl": "https://lh3.googleusercontent.com/a/default-user=s64",
      "userId": "15658885848901522782"
     },
     "user_tz": 300
    },
    "id": "HLACyyEzTb5B",
    "outputId": "2b10c66b-ded1-4fc3-9289-b05c1b38caee",
    "scrolled": false
   },
   "outputs": [],
   "source": [
    "## A DELAY\n",
    "\n"
   ]
  },
  {
   "cell_type": "markdown",
   "metadata": {
    "id": "l7yf3LbLTb5H"
   },
   "source": [
    "### Randomize\n",
    "\n",
    "Software that tracks traffic to a server might grow suspicious about a hit every nth seconds.\n",
    "\n",
    "Let's **randomize** the time between hits by using ```randint``` from the ```random``` library.\n",
    "\n",
    "\n",
    "You might sometimes see me use ```randrange``` from the ```random``` library: ``` from random import randrange```.\n",
    "\n",
    "#### What's the difference?\n",
    "\n",
    "**Difference 1**\n",
    "\n",
    "```randrange``` is exclusive of the final range value.\n",
    "\n",
    "```randint``` is inclusive of the final range value.\n",
    "\n",
    "**Difference 2**\n",
    "\n",
    "```randrange``` allows you to add a step: ```randrange(start, end, step)```\n",
    "\n",
    "```randint ``` only has start and end: ```randint(start, end)```\n"
   ]
  },
  {
   "cell_type": "code",
   "execution_count": null,
   "metadata": {
    "colab": {
     "base_uri": "https://localhost:8080/"
    },
    "executionInfo": {
     "elapsed": 20,
     "status": "ok",
     "timestamp": 1646145015974,
     "user": {
      "displayName": "Sandeep Junnarkar",
      "photoUrl": "https://lh3.googleusercontent.com/a/default-user=s64",
      "userId": "15658885848901522782"
     },
     "user_tz": 300
    },
    "id": "mFonByfzTb5I",
    "outputId": "bc51356e-a792-4790-e378-cc50d8a090b7"
   },
   "outputs": [],
   "source": [
    "# import randint necessary library\n"
   ]
  },
  {
   "cell_type": "code",
   "execution_count": null,
   "metadata": {
    "colab": {
     "base_uri": "https://localhost:8080/"
    },
    "executionInfo": {
     "elapsed": 151,
     "status": "ok",
     "timestamp": 1646145156870,
     "user": {
      "displayName": "Sandeep Junnarkar",
      "photoUrl": "https://lh3.googleusercontent.com/a/default-user=s64",
      "userId": "15658885848901522782"
     },
     "user_tz": 300
    },
    "id": "U5P0r148Tb5L",
    "outputId": "b79a5084-8a57-424d-f4a0-4853556c3fff"
   },
   "outputs": [],
   "source": [
    "## import RANDRANGE necessary library\n"
   ]
  },
  {
   "cell_type": "code",
   "execution_count": null,
   "metadata": {
    "colab": {
     "base_uri": "https://localhost:8080/"
    },
    "executionInfo": {
     "elapsed": 28172,
     "status": "ok",
     "timestamp": 1646145615979,
     "user": {
      "displayName": "Sandeep Junnarkar",
      "photoUrl": "https://lh3.googleusercontent.com/a/default-user=s64",
      "userId": "15658885848901522782"
     },
     "user_tz": 300
    },
    "id": "neWC6dqZTb5O",
    "outputId": "34d34d8d-0392-4bae-f4dd-115d8afca9bb"
   },
   "outputs": [],
   "source": [
    "# RANDOMIZE THE OUR WAIT TIME\n",
    "\n"
   ]
  }
 ],
 "metadata": {
  "celltoolbar": "Slideshow",
  "colab": {
   "collapsed_sections": [
    "T8x4Mm-sTb43",
    "T6xApuSYTb5U"
   ],
   "name": "week-2-loops-list-comprehension-DEMO.ipynb",
   "provenance": [
    {
     "file_id": "1Nk6T3S4k1zH52s3eHzo4i1Yxx-iD6UjE",
     "timestamp": 1646140841906
    },
    {
     "file_id": "1cw5emV9TDdgVqq2HhYPppUKFYLobtPVC",
     "timestamp": 1642538656229
    },
    {
     "file_id": "1DhXxhMrJcwYydB2VNDAPReeAni-DDDHS",
     "timestamp": 1624385199338
    }
   ]
  },
  "kernelspec": {
   "display_name": "Python 3 (ipykernel)",
   "language": "python",
   "name": "python3"
  },
  "language_info": {
   "codemirror_mode": {
    "name": "ipython",
    "version": 3
   },
   "file_extension": ".py",
   "mimetype": "text/x-python",
   "name": "python",
   "nbconvert_exporter": "python",
   "pygments_lexer": "ipython3",
   "version": "3.9.7"
  }
 },
 "nbformat": 4,
 "nbformat_minor": 1
}
