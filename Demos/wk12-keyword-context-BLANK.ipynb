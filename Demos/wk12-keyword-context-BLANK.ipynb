{
 "cells": [
  {
   "cell_type": "markdown",
   "id": "0cb12354",
   "metadata": {},
   "source": [
    "# Keyword Context Investigations\n",
    "\n",
    "We might have in hand vast amounts of raw data from leaks, public records, web scrapes, FOIA requests, or whistleblowers. These could be emails, financial documents, contracts, social media posts, judicial judgments and discloser forms. \n",
    "\n",
    "Finding the buried story is another challenge. How do we read through thousands of pages to structure all this unstructured data.\n",
    "\n",
    "We'll learn how to use modern investigative techniques to discover patterns, anomalies, and insights that might otherwise go unnoticed.\n",
    "\n",
    "Here are a handful of examples:\n",
    "\n",
    "**ProPublica**: <a href =\"https://www.propublica.org/article/facebook-advertising-discrimination-housing-race-sex-national-origin\">Facebook (Still) Letting Housing Advertisers Exclude Users by Race</a>\n",
    "- This investigation uncovered how Facebook allowed advertisers to exclude users by race. Journalists used keyword searches to identify discriminatory practices in ad targeting.\n",
    "\n",
    "**The New York Times**: <a href=\"https://www.nytimes.com/2015/10/25/us/racial-disparity-traffic-stops-driving-black.html\">The Disproportionate Risks of Driving While Black</a>\n",
    "- NYT reporters analyzed police traffic stop data to expose racial disparities. They used keyword searches to identify patterns in the data, revealing that Black drivers were more likely to be stopped and searched.\n",
    "\n",
    "**ICIJ**: <a href=\"https://www.icij.org/investigations/panama-papers/\">THE PANAMA PAPERS</a>\n",
    "- This monumental collaborative investigation dug through 11.5 million leaked files **(2.6 terabytes of data)** to expose the offshore holdings of world political leaders, links to global scandals, and details of the hidden financial dealings of fraudsters, drug traffickers, billionaires, celebrities, sports stars and more.\n",
    "\n",
    "\n",
    "If journalists had not used the techniques **you are now learning**, we'd still be pouring through these with our eyes and hands."
   ]
  },
  {
   "cell_type": "markdown",
   "id": "f309496c",
   "metadata": {},
   "source": [
    "## MD Disciplinary action analysis\n",
    "\n",
    "We'll bring several previous lessons today and a couple of new lessons.\n",
    "\n",
    "We'll analysis <a href=\"https://drive.google.com/file/d/1m9dINJmoPGvFLTJagBSdvr9qmnExPSwZ/view?usp=sharing\">a sample set of disciplinary actions</a> against New York state doctors. (You already know how to download PDFs, convert them to markdown, etc).\n",
    "\n",
    "Here's a brief outline of what we need to do:\n",
    "1. Get to know the documents you are analyzing.\n",
    "2. Create a list of search terms.\n",
    "3. It's not enough to simply find the keywords. You need to context. Determine how much context you need.\n",
    "4. Run your code to process the PDFs into markdown and then into spreadsheets.\n",
    "5. Export your filtered dataframes into text files that are easier to read.\n",
    "\n"
   ]
  },
  {
   "cell_type": "code",
   "execution_count": null,
   "id": "4fb09087",
   "metadata": {},
   "outputs": [],
   "source": []
  }
 ],
 "metadata": {
  "kernelspec": {
   "display_name": "Python 3 (ipykernel)",
   "language": "python",
   "name": "python3"
  },
  "language_info": {
   "codemirror_mode": {
    "name": "ipython",
    "version": 3
   },
   "file_extension": ".py",
   "mimetype": "text/x-python",
   "name": "python",
   "nbconvert_exporter": "python",
   "pygments_lexer": "ipython3",
   "version": "3.9.7"
  }
 },
 "nbformat": 4,
 "nbformat_minor": 5
}
