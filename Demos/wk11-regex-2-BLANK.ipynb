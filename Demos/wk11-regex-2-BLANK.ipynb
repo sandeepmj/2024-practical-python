{
 "cells": [
  {
   "cell_type": "markdown",
   "id": "eb73954a",
   "metadata": {},
   "source": [
    "# Regular Expressions (regex) - Part 2\n",
    "\n",
    "### We'll now connect ```regex``` to ```Python```.\n",
    "\n",
    "**Pages we need:**\n",
    "\n",
    "- Live Testing: https://regex101.com/\n",
    "- Sandeep's <a href=\"https://docs.google.com/spreadsheets/d/1A39lM4SiGZbzZPxrjEXkR05aksAewudccWmojoIU0Gk/edit?usp=sharing\">REGEX Tip sheet</a>\n",
    "- Download <a href=\"https://drive.google.com/file/d/1thZ7xDTb0IXiauaSvxMskDL_BAFjM_fi/view?usp=sharing\">this notebook demo text</a>\n",
    "- Download these <a href=\"https://drive.google.com/file/d/1nZ6GMwQKuQEQ2zKftkod4oHh-RqxfwXB/view?usp=sharing\">confesssion judgment excerpts</a>"
   ]
  },
  {
   "cell_type": "code",
   "execution_count": 1,
   "id": "11fb26ca",
   "metadata": {},
   "outputs": [],
   "source": [
    "## Run this cell\n",
    "some_text = \"The dog barked at the other dog, cat and kitten.\""
   ]
  },
  {
   "cell_type": "code",
   "execution_count": null,
   "id": "bdbd397c",
   "metadata": {},
   "outputs": [],
   "source": []
  },
  {
   "cell_type": "code",
   "execution_count": null,
   "id": "88470d6b",
   "metadata": {},
   "outputs": [],
   "source": []
  },
  {
   "cell_type": "code",
   "execution_count": null,
   "id": "a2655ef0",
   "metadata": {},
   "outputs": [],
   "source": []
  },
  {
   "cell_type": "code",
   "execution_count": 2,
   "id": "f75aa49d",
   "metadata": {},
   "outputs": [],
   "source": [
    "## run this\n",
    "other_text = \"The military vet who loves her dog was able to overcome her PTSD with the help of a service dog.\""
   ]
  },
  {
   "cell_type": "code",
   "execution_count": null,
   "id": "309ba64c",
   "metadata": {},
   "outputs": [],
   "source": []
  },
  {
   "cell_type": "code",
   "execution_count": null,
   "id": "e8de56a5",
   "metadata": {},
   "outputs": [],
   "source": []
  },
  {
   "cell_type": "code",
   "execution_count": null,
   "id": "705aa9f1",
   "metadata": {},
   "outputs": [],
   "source": []
  },
  {
   "cell_type": "code",
   "execution_count": 3,
   "id": "6334f302",
   "metadata": {},
   "outputs": [],
   "source": [
    "## text string for demo\n",
    "string = '''line 1 with more to follow.\n",
    "\n",
    "this is line 2\n",
    "\n",
    "LINE 3 has more...\n",
    "\n",
    "Text before line 4\n",
    "'''"
   ]
  },
  {
   "cell_type": "code",
   "execution_count": null,
   "id": "ebf162da",
   "metadata": {},
   "outputs": [],
   "source": []
  },
  {
   "cell_type": "code",
   "execution_count": null,
   "id": "065acf06",
   "metadata": {},
   "outputs": [],
   "source": []
  },
  {
   "cell_type": "code",
   "execution_count": null,
   "id": "e31db0c7",
   "metadata": {},
   "outputs": [],
   "source": []
  },
  {
   "cell_type": "markdown",
   "id": "5235f8b6",
   "metadata": {},
   "source": [
    "# Class Challenge"
   ]
  },
  {
   "cell_type": "markdown",
   "id": "41d655ce",
   "metadata": {},
   "source": [
    "## Confession Judgments\n",
    "\n",
    "Read <a href=\"https://drive.google.com/file/d/1nZ6GMwQKuQEQ2zKftkod4oHh-RqxfwXB/view?usp=sharing\">confesssion judgment excerpts</a> and place into a dataframe with column labels:\n",
    "\n",
    "- case number\n",
    "- date received\n",
    "- total repayment amount"
   ]
  },
  {
   "cell_type": "code",
   "execution_count": null,
   "id": "d8fcd358",
   "metadata": {},
   "outputs": [],
   "source": []
  },
  {
   "cell_type": "code",
   "execution_count": null,
   "id": "78a56bcf",
   "metadata": {},
   "outputs": [],
   "source": []
  },
  {
   "cell_type": "code",
   "execution_count": null,
   "id": "3e5a2e6e",
   "metadata": {},
   "outputs": [],
   "source": []
  }
 ],
 "metadata": {
  "kernelspec": {
   "display_name": "Python 3 (ipykernel)",
   "language": "python",
   "name": "python3"
  },
  "language_info": {
   "codemirror_mode": {
    "name": "ipython",
    "version": 3
   },
   "file_extension": ".py",
   "mimetype": "text/x-python",
   "name": "python",
   "nbconvert_exporter": "python",
   "pygments_lexer": "ipython3",
   "version": "3.9.7"
  }
 },
 "nbformat": 4,
 "nbformat_minor": 5
}
