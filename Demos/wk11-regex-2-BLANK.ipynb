{
 "cells": [
  {
   "cell_type": "markdown",
   "id": "eb73954a",
   "metadata": {},
   "source": [
    "# Regular Expressions (regex) - Part 2\n",
    "\n",
    "### We'll now connect ```regex``` to ```Python```.\n",
    "\n",
    "**Pages we need:**\n",
    "\n",
    "- Live Testing: https://regex101.com/\n",
    "- Sandeep's <a href=\"https://docs.google.com/spreadsheets/d/1A39lM4SiGZbzZPxrjEXkR05aksAewudccWmojoIU0Gk/edit?usp=sharing\">REGEX Tip sheet</a>\n",
    "- Download <a href=\"https://drive.google.com/file/d/1thZ7xDTb0IXiauaSvxMskDL_BAFjM_fi/view?usp=sharing\">this notebook demo text</a>\n",
    "- Download these <a href=\"https://drive.google.com/file/d/1nZ6GMwQKuQEQ2zKftkod4oHh-RqxfwXB/view?usp=sharing\">confesssion judgment excerpts</a>"
   ]
  },
  {
   "cell_type": "code",
   "execution_count": null,
   "id": "11fb26ca",
   "metadata": {},
   "outputs": [],
   "source": []
  }
 ],
 "metadata": {
  "kernelspec": {
   "display_name": "Python 3 (ipykernel)",
   "language": "python",
   "name": "python3"
  },
  "language_info": {
   "codemirror_mode": {
    "name": "ipython",
    "version": 3
   },
   "file_extension": ".py",
   "mimetype": "text/x-python",
   "name": "python",
   "nbconvert_exporter": "python",
   "pygments_lexer": "ipython3",
   "version": "3.9.7"
  }
 },
 "nbformat": 4,
 "nbformat_minor": 5
}
