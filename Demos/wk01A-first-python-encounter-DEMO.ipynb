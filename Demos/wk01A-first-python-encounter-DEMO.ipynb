{
 "cells": [
  {
   "cell_type": "markdown",
   "id": "5a872b7b",
   "metadata": {
    "id": "5a872b7b"
   },
   "source": [
    "# Python Review \n",
    "\n",
    "Today's goal is to review how Python can efficiently complete relevant and important data journalism needs.\n",
    "\n",
    "1. Python can do math!\n",
    "2. Organizing your numbers\n",
    "3. Making numbers more readable (using f-string literal formatting)\n",
    "4. Built-in functions (or prefabricated code)\n",
    "5. Holding data in lists\n",
    "6. Holding data in dictionaries.\n",
    "7. How is this relevant for data journalism?\n"
   ]
  },
  {
   "cell_type": "markdown",
   "id": "f7ff1285",
   "metadata": {
    "id": "f7ff1285"
   },
   "source": [
    "## Python at its most basic - doing math\n",
    "\n"
   ]
  },
  {
   "cell_type": "markdown",
   "id": "f597185b",
   "metadata": {
    "id": "f597185b"
   },
   "source": [
    "Here's some data:\n",
    "\n",
    "\n",
    "- In 2023 NYPD officers wrote 467 summonses for jaywalking.\n",
    "- Of those 154 were given to Latino residents.\n",
    "- Black residents received 276.\n",
    "\n",
    "\n",
    "Do the following:\n",
    "\n",
    "1. Place each of these statistics into variables.\n",
    "\n",
    "For each calculation, write a dynamic sentence that prints out (rounded to zero decimal places):\n",
    "\n",
    "2. ```Latino residents received xx% of all jaywalking citations in 2023```\n",
    "\n",
    "\n",
    "3. ```Black residents received xx% of all jaywalking citations in 2023```\n",
    "\n",
    "\n",
    "4. ```Jaywalking citations given to Black and Latino residents totalled xx% of all the citations given to NYC residents.```"
   ]
  },
  {
   "cell_type": "code",
   "execution_count": 22,
   "id": "01393e2a",
   "metadata": {},
   "outputs": [
    {
     "name": "stdout",
     "output_type": "stream",
     "text": [
      "Latino residents received 33 percent of all jaywalking citations in 2023\n"
     ]
    }
   ],
   "source": [
    "print(f\"Latino residents received {latino_jaywalking_2023_pct:.0F} percent of all jaywalking citations in 2023\")"
   ]
  },
  {
   "cell_type": "code",
   "execution_count": 25,
   "id": "e8813dc0",
   "metadata": {},
   "outputs": [
    {
     "name": "stdout",
     "output_type": "stream",
     "text": [
      "Black residents received 59 percent of all jaywalking citations in 2023\n"
     ]
    }
   ],
   "source": [
    "print(f\"Black residents received\\\n",
    " {black_jaywalking_23 / total_jaywalking_23 * 100:.0F} percent \\\n",
    "of all jaywalking citations in 2023\")"
   ]
  },
  {
   "cell_type": "code",
   "execution_count": 1,
   "id": "txG-FDGjycIn",
   "metadata": {
    "id": "txG-FDGjycIn"
   },
   "outputs": [],
   "source": [
    "## Create coding cells as needed\n",
    "\n",
    "## assign varibles to data\n",
    "latino_jaywalking_23 = 154\n",
    "black_jaywalking_23 = 276\n",
    "total_jaywalking_23 = 467\n",
    "\n",
    "\n",
    "\n",
    "\n",
    "\n"
   ]
  },
  {
   "cell_type": "code",
   "execution_count": 3,
   "id": "48f4277e",
   "metadata": {},
   "outputs": [
    {
     "data": {
      "text/plain": [
       "276"
      ]
     },
     "execution_count": 3,
     "metadata": {},
     "output_type": "execute_result"
    }
   ],
   "source": [
    "## call variables\n",
    "black_jaywalking_23"
   ]
  },
  {
   "cell_type": "code",
   "execution_count": 5,
   "id": "477006ee",
   "metadata": {},
   "outputs": [
    {
     "data": {
      "text/plain": [
       "32.97644539614561"
      ]
     },
     "execution_count": 5,
     "metadata": {},
     "output_type": "execute_result"
    }
   ],
   "source": [
    "## jaywalking pct for latinos 2023\n",
    "latino_jaywalking_2023_pct = \\\n",
    "latino_jaywalking_23 / total_jaywalking_23 * 100\n",
    "\n",
    "latino_jaywalking_2023_pct"
   ]
  },
  {
   "cell_type": "code",
   "execution_count": 6,
   "id": "9fdcf9fc",
   "metadata": {},
   "outputs": [
    {
     "data": {
      "text/plain": [
       "59.100642398286936"
      ]
     },
     "execution_count": 6,
     "metadata": {},
     "output_type": "execute_result"
    }
   ],
   "source": [
    "## jaywalking pct for black 2023\n",
    "\n",
    "black_jaywalking_23_pct = \\\n",
    "black_jaywalking_23 / total_jaywalking_23 * 100\n",
    "\n",
    "black_jaywalking_23_pct"
   ]
  },
  {
   "cell_type": "code",
   "execution_count": null,
   "id": "b2d5684f",
   "metadata": {},
   "outputs": [],
   "source": []
  },
  {
   "cell_type": "markdown",
   "id": "95742489",
   "metadata": {
    "id": "95742489"
   },
   "source": [
    "## Organizing your data with variables"
   ]
  },
  {
   "cell_type": "markdown",
   "id": "2782cc72",
   "metadata": {},
   "source": [
    "## F-string Practice"
   ]
  },
  {
   "cell_type": "code",
   "execution_count": 8,
   "id": "f69d4407",
   "metadata": {
    "id": "f69d4407"
   },
   "outputs": [
    {
     "data": {
      "text/plain": [
       "2109346257.103618"
      ]
     },
     "execution_count": 8,
     "metadata": {},
     "output_type": "execute_result"
    }
   ],
   "source": [
    "## run this cell\n",
    "## let's try on this big number\n",
    "big_number = 2_109_346_257.103618\n",
    "big_number"
   ]
  },
  {
   "cell_type": "code",
   "execution_count": 9,
   "id": "kt7fcZa3grte",
   "metadata": {
    "id": "kt7fcZa3grte"
   },
   "outputs": [
    {
     "name": "stdout",
     "output_type": "stream",
     "text": [
      "2109346257.103618\n"
     ]
    }
   ],
   "source": [
    "## print the variable with a preceeding dollar sign\n",
    "print(big_number)"
   ]
  },
  {
   "cell_type": "code",
   "execution_count": 14,
   "id": "F3Mif4eIhcI0",
   "metadata": {
    "id": "F3Mif4eIhcI0"
   },
   "outputs": [
    {
     "name": "stdout",
     "output_type": "stream",
     "text": [
      "My big number is $2,109,346,257.103618\n"
     ]
    }
   ],
   "source": [
    "## print the variable now adding thousands separators\n",
    "print(f\"My big number is ${big_number:,}\")"
   ]
  },
  {
   "cell_type": "code",
   "execution_count": 18,
   "id": "01e83d8b",
   "metadata": {
    "id": "01e83d8b"
   },
   "outputs": [
    {
     "name": "stdout",
     "output_type": "stream",
     "text": [
      "My big number is $2,109,346,257\n"
     ]
    }
   ],
   "source": [
    "## now print rounding to 3 decimal places.\n",
    "print(f\"My big number is ${big_number:,.0F}\")"
   ]
  },
  {
   "cell_type": "code",
   "execution_count": 19,
   "id": "ubHQZ1QfiAYr",
   "metadata": {
    "id": "ubHQZ1QfiAYr"
   },
   "outputs": [
    {
     "data": {
      "text/plain": [
       "2109346257.103618"
      ]
     },
     "execution_count": 19,
     "metadata": {},
     "output_type": "execute_result"
    }
   ],
   "source": [
    "## call big_number again\n",
    "big_number"
   ]
  },
  {
   "cell_type": "markdown",
   "id": "QvIYnW8qhv81",
   "metadata": {
    "id": "QvIYnW8qhv81"
   },
   "source": [
    "Note: None of these changes are made to the actual variable. They are temporary as we print with f-strings."
   ]
  },
  {
   "cell_type": "markdown",
   "id": "78470a43",
   "metadata": {
    "id": "78470a43"
   },
   "source": [
    "## Built-in Functions\n"
   ]
  },
  {
   "cell_type": "markdown",
   "id": "3765042b",
   "metadata": {
    "id": "3765042b"
   },
   "source": [
    "You've encountered a built-in function in ```print()```\n",
    "\n",
    "In simplest terms (good for now), a ```built-in function``` comes as standard part of Python and carries out one or more steps on something we aim it at. What we target for the function goes inside the parenthesis. You've already used a built-in function:\n",
    "\n",
    "```print(\"output something\")```\n",
    "\n",
    "I will introduce others through the course as need. There are <a href=\"https://docs.python.org/3/library/functions.html\">dozens of built-in functions</a>, but I will be introducing the most useful ones little by little.\n"
   ]
  },
  {
   "cell_type": "markdown",
   "id": "LgIFl8WEm940",
   "metadata": {
    "id": "LgIFl8WEm940"
   },
   "source": [
    "## Lists\n"
   ]
  },
  {
   "cell_type": "markdown",
   "id": "c1125494",
   "metadata": {},
   "source": [
    "Place the following values into a list:\n",
    "    \n",
    "- Nigeria\n",
    "- Ethiopia\n",
    "- Egypt\n",
    "- DR Congo\n",
    "- Tanzania\n",
    "- South Africa"
   ]
  },
  {
   "cell_type": "code",
   "execution_count": 26,
   "id": "42a021d5",
   "metadata": {},
   "outputs": [],
   "source": [
    "## create list here\n",
    "\n",
    "some_african_countries = [\n",
    "    \"Nigeria\",\n",
    "    \"Ethiopia\",\n",
    "    \"Egypt\",\n",
    "    \"DR Congo\",\n",
    "    \"Tanzania\",\n",
    "    \"South Africa\"\n",
    "]"
   ]
  },
  {
   "cell_type": "code",
   "execution_count": 27,
   "id": "a205c8fd",
   "metadata": {
    "id": "a205c8fd"
   },
   "outputs": [
    {
     "data": {
      "text/plain": [
       "['Nigeria', 'Ethiopia', 'Egypt', 'DR Congo', 'Tanzania', 'South Africa']"
      ]
     },
     "execution_count": 27,
     "metadata": {},
     "output_type": "execute_result"
    }
   ],
   "source": [
    "## call your list\n",
    "some_african_countries"
   ]
  },
  {
   "cell_type": "code",
   "execution_count": 28,
   "id": "874b7cd9",
   "metadata": {},
   "outputs": [
    {
     "name": "stdout",
     "output_type": "stream",
     "text": [
      "['Nigeria', 'Ethiopia', 'Egypt', 'DR Congo', 'Tanzania', 'South Africa']\n"
     ]
    }
   ],
   "source": [
    "## print your list\n",
    "print(some_african_countries)"
   ]
  },
  {
   "cell_type": "code",
   "execution_count": 29,
   "id": "f57157e3",
   "metadata": {
    "id": "f57157e3"
   },
   "outputs": [
    {
     "data": {
      "text/plain": [
       "list"
      ]
     },
     "execution_count": 29,
     "metadata": {},
     "output_type": "execute_result"
    }
   ],
   "source": [
    "## check the type\n",
    "type(some_african_countries)"
   ]
  },
  {
   "cell_type": "markdown",
   "id": "kY_REfyGQTDR",
   "metadata": {
    "id": "kY_REfyGQTDR"
   },
   "source": [
    "### Okay...why do I need to know know about lists?\n"
   ]
  },
  {
   "cell_type": "code",
   "execution_count": null,
   "id": "PXPC_2cHQYF2",
   "metadata": {
    "id": "PXPC_2cHQYF2"
   },
   "outputs": [],
   "source": [
    "## recall our African countries list\n"
   ]
  },
  {
   "cell_type": "markdown",
   "id": "Y6JE6sMxnElG",
   "metadata": {
    "id": "Y6JE6sMxnElG"
   },
   "source": [
    "## Dictionaries\n"
   ]
  },
  {
   "cell_type": "markdown",
   "id": "9bf6238d",
   "metadata": {
    "id": "9bf6238d",
    "slideshow": {
     "slide_type": "subslide"
    }
   },
   "source": [
    "Build a dictionary called car_1 with the following info:\n",
    "\n",
    "- brand: Honda\n",
    "- type: SUV\n",
    "- model: CRV\n",
    "- trim: Leather\n",
    "- cost: 40_000\n",
    "- on_sale: True\n",
    "- vin: 2973"
   ]
  },
  {
   "cell_type": "code",
   "execution_count": 30,
   "id": "4a3efe45",
   "metadata": {
    "id": "4a3efe45"
   },
   "outputs": [],
   "source": [
    "## build the car_1 dictionary\n",
    "\n",
    "car_1 = {\"brand\": \"Honda\",\n",
    "        \"type\": \"SUV\",\n",
    "        \"model\": \"CRV\",\n",
    "        \"trim\": \"Leather\",\n",
    "        \"cost\": 40_000,\n",
    "         \"on_sale\": True,\n",
    "         \"vin\": 2973\n",
    "        }\n"
   ]
  },
  {
   "cell_type": "code",
   "execution_count": 31,
   "id": "d07255da",
   "metadata": {
    "id": "d07255da"
   },
   "outputs": [
    {
     "data": {
      "text/plain": [
       "{'brand': 'Honda',\n",
       " 'type': 'SUV',\n",
       " 'model': 'CRV',\n",
       " 'trim': 'Leather',\n",
       " 'cost': 40000,\n",
       " 'on_sale': True,\n",
       " 'vin': 2973}"
      ]
     },
     "execution_count": 31,
     "metadata": {},
     "output_type": "execute_result"
    }
   ],
   "source": [
    "## call car_1\n",
    "car_1"
   ]
  },
  {
   "cell_type": "code",
   "execution_count": 32,
   "id": "1378aa3e",
   "metadata": {
    "id": "1378aa3e"
   },
   "outputs": [
    {
     "data": {
      "text/plain": [
       "dict"
      ]
     },
     "execution_count": 32,
     "metadata": {},
     "output_type": "execute_result"
    }
   ],
   "source": [
    "## what car_1's datatype\n",
    "type(car_1)\n"
   ]
  },
  {
   "cell_type": "markdown",
   "id": "bad110a8",
   "metadata": {
    "id": "bad110a8"
   },
   "source": [
    "Build me a dictionary called car_2 with the following data points.\n",
    "\n",
    "Note: In this case the vin is first. Create it in this exact order\n",
    "\n",
    "- vin: 8303\n",
    "- brand: Honda\n",
    "- type: Sedan\n",
    "- model: CRV\n",
    "- trim: Cloth\n",
    "- cost: 35_000\n",
    "- on sale: no\n"
   ]
  },
  {
   "cell_type": "code",
   "execution_count": 44,
   "id": "5bfb98f1",
   "metadata": {
    "id": "5bfb98f1"
   },
   "outputs": [],
   "source": [
    "## build car_2\n",
    "car_2 = {\n",
    "    \"vin\": 8303,\n",
    "    \"brand\": \"Honda\",\n",
    "    \"type\": \"Sedan\",\n",
    "    \"model\": \"Accord\",\n",
    "    \"trim\": \"Cloth\",\n",
    "    \"cost\": 35_000,\n",
    "    \"on_sale\": False\n",
    "}"
   ]
  },
  {
   "cell_type": "code",
   "execution_count": 45,
   "id": "88fbdecf",
   "metadata": {
    "id": "88fbdecf"
   },
   "outputs": [
    {
     "data": {
      "text/plain": [
       "{'vin': 8303,\n",
       " 'brand': 'Honda',\n",
       " 'type': 'Sedan',\n",
       " 'model': 'Accord',\n",
       " 'trim': 'Cloth',\n",
       " 'cost': 35000,\n",
       " 'on_sale': False}"
      ]
     },
     "execution_count": 45,
     "metadata": {},
     "output_type": "execute_result"
    }
   ],
   "source": [
    "## call car_2\n",
    "car_2"
   ]
  },
  {
   "cell_type": "markdown",
   "id": "b2cae552",
   "metadata": {
    "id": "b2cae552"
   },
   "source": [
    "### Create a list with these two dictionaries"
   ]
  },
  {
   "cell_type": "code",
   "execution_count": 46,
   "id": "969fb2b4",
   "metadata": {
    "id": "969fb2b4"
   },
   "outputs": [],
   "source": [
    "## create a list called honda_cars here\n",
    "honda_cars = [car_1, car_2]"
   ]
  },
  {
   "cell_type": "code",
   "execution_count": 47,
   "id": "1e6197b3",
   "metadata": {
    "id": "1e6197b3"
   },
   "outputs": [
    {
     "data": {
      "text/plain": [
       "[{'brand': 'Honda',\n",
       "  'type': 'SUV',\n",
       "  'model': 'CRV',\n",
       "  'trim': 'Leather',\n",
       "  'cost': 40000,\n",
       "  'on_sale': True,\n",
       "  'vin': 2973},\n",
       " {'vin': 8303,\n",
       "  'brand': 'Honda',\n",
       "  'type': 'Sedan',\n",
       "  'model': 'Accord',\n",
       "  'trim': 'Cloth',\n",
       "  'cost': 35000,\n",
       "  'on_sale': False}]"
      ]
     },
     "execution_count": 47,
     "metadata": {},
     "output_type": "execute_result"
    }
   ],
   "source": [
    "## call this list\n",
    "honda_cars"
   ]
  },
  {
   "cell_type": "markdown",
   "id": "F6b6yYs5oMG-",
   "metadata": {
    "id": "F6b6yYs5oMG-"
   },
   "source": [
    "### Okay, so what?\n",
    "\n",
    "Why do I need to know about dictionaries?"
   ]
  },
  {
   "cell_type": "code",
   "execution_count": 48,
   "id": "d29246f6",
   "metadata": {},
   "outputs": [],
   "source": [
    "import pandas as pd"
   ]
  },
  {
   "cell_type": "code",
   "execution_count": 49,
   "id": "6adc3fe2",
   "metadata": {},
   "outputs": [
    {
     "data": {
      "text/html": [
       "<div>\n",
       "<style scoped>\n",
       "    .dataframe tbody tr th:only-of-type {\n",
       "        vertical-align: middle;\n",
       "    }\n",
       "\n",
       "    .dataframe tbody tr th {\n",
       "        vertical-align: top;\n",
       "    }\n",
       "\n",
       "    .dataframe thead th {\n",
       "        text-align: right;\n",
       "    }\n",
       "</style>\n",
       "<table border=\"1\" class=\"dataframe\">\n",
       "  <thead>\n",
       "    <tr style=\"text-align: right;\">\n",
       "      <th></th>\n",
       "      <th>brand</th>\n",
       "      <th>type</th>\n",
       "      <th>model</th>\n",
       "      <th>trim</th>\n",
       "      <th>cost</th>\n",
       "      <th>on_sale</th>\n",
       "      <th>vin</th>\n",
       "    </tr>\n",
       "  </thead>\n",
       "  <tbody>\n",
       "    <tr>\n",
       "      <th>0</th>\n",
       "      <td>Honda</td>\n",
       "      <td>SUV</td>\n",
       "      <td>CRV</td>\n",
       "      <td>Leather</td>\n",
       "      <td>40000</td>\n",
       "      <td>True</td>\n",
       "      <td>2973</td>\n",
       "    </tr>\n",
       "    <tr>\n",
       "      <th>1</th>\n",
       "      <td>Honda</td>\n",
       "      <td>Sedan</td>\n",
       "      <td>Accord</td>\n",
       "      <td>Cloth</td>\n",
       "      <td>35000</td>\n",
       "      <td>False</td>\n",
       "      <td>8303</td>\n",
       "    </tr>\n",
       "  </tbody>\n",
       "</table>\n",
       "</div>"
      ],
      "text/plain": [
       "   brand   type   model     trim   cost  on_sale   vin\n",
       "0  Honda    SUV     CRV  Leather  40000     True  2973\n",
       "1  Honda  Sedan  Accord    Cloth  35000    False  8303"
      ]
     },
     "execution_count": 49,
     "metadata": {},
     "output_type": "execute_result"
    }
   ],
   "source": [
    "df = pd.DataFrame(honda_cars)\n",
    "df"
   ]
  },
  {
   "cell_type": "markdown",
   "id": "ef7f8e32",
   "metadata": {
    "id": "ef7f8e32"
   },
   "source": [
    "### What are relevant journalistic uses for what we covered today?\n"
   ]
  },
  {
   "cell_type": "markdown",
   "id": "G7YQT0gOPJ8c",
   "metadata": {
    "id": "G7YQT0gOPJ8c"
   },
   "source": [
    "\n",
    "1. Making numbers more readable (using f-string literal formatting)\n",
    "2. Organizing data points after acquiring or calculating them (creating lists, dictionaries and lists of dictionaries)\n",
    "3. Knowing how many such data points we have.\n",
    "5. Understanding the connections between spreadsheets and Python data types"
   ]
  }
 ],
 "metadata": {
  "celltoolbar": "Slideshow",
  "colab": {
   "collapsed_sections": [
    "5a872b7b",
    "f7ff1285",
    "95742489",
    "42b2be9b",
    "jkK1BVoo0kWk",
    "56a57c38",
    "70a3ef57",
    "78470a43",
    "LgIFl8WEm940",
    "kY_REfyGQTDR",
    "GvESurTfmQFH",
    "Y6JE6sMxnElG",
    "b2cae552",
    "F6b6yYs5oMG-",
    "6eb63369",
    "ef7f8e32"
   ],
   "provenance": []
  },
  "kernelspec": {
   "display_name": "Python 3 (ipykernel)",
   "language": "python",
   "name": "python3"
  },
  "language_info": {
   "codemirror_mode": {
    "name": "ipython",
    "version": 3
   },
   "file_extension": ".py",
   "mimetype": "text/x-python",
   "name": "python",
   "nbconvert_exporter": "python",
   "pygments_lexer": "ipython3",
   "version": "3.9.7"
  }
 },
 "nbformat": 4,
 "nbformat_minor": 5
}
