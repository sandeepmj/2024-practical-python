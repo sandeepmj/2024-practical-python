{
 "cells": [
  {
   "cell_type": "markdown",
   "metadata": {
    "id": "RtXF5HKNRbPh"
   },
   "source": [
    "# Regular Expressions (regex) - Part 1\n",
    "\n",
    "Pages we need to visit:\n",
    "\n",
    "- <a href=\"https://docs.google.com/presentation/d/165Dc2jKVK1KITd3FTzOeYS2EA5DUNutajFMuy3tQ84Q/edit?usp=sharing\">What is REGEX in our news reporting context?</a> \n",
    "- [Dummy text](https://docs.google.com/document/d/1_iwlPoUkJE5MAkUzQnfUpN_dFVfTFq1S-9BueYvd-aA/edit?usp=sharing)\n",
    "- Live Testing: https://regex101.com/\n",
    "- Sandeep's <a href=\"https://docs.google.com/spreadsheets/d/1A39lM4SiGZbzZPxrjEXkR05aksAewudccWmojoIU0Gk/edit?usp=sharing\">REGEX Tip sheet</a>\n",
    "\n"
   ]
  },
  {
   "cell_type": "markdown",
   "metadata": {
    "id": "tcc1SbumvX68"
   },
   "source": [
    "# NO CODING this week - only learning REGEX syntax"
   ]
  },
  {
   "cell_type": "code",
   "execution_count": null,
   "metadata": {
    "id": "msII9gikvhuq"
   },
   "outputs": [],
   "source": []
  }
 ],
 "metadata": {
  "colab": {
   "collapsed_sections": [],
   "provenance": []
  },
  "kernelspec": {
   "display_name": "Python 3 (ipykernel)",
   "language": "python",
   "name": "python3"
  },
  "language_info": {
   "codemirror_mode": {
    "name": "ipython",
    "version": 3
   },
   "file_extension": ".py",
   "mimetype": "text/x-python",
   "name": "python",
   "nbconvert_exporter": "python",
   "pygments_lexer": "ipython3",
   "version": "3.9.7"
  }
 },
 "nbformat": 4,
 "nbformat_minor": 1
}
