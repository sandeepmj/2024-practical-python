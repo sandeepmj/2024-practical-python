{
 "cells": [
  {
   "cell_type": "markdown",
   "id": "58aed9e3",
   "metadata": {},
   "source": [
    "<img src=\"https://sandeepmj.github.io/image-host/green-scrapes.png\" >"
   ]
  },
  {
   "cell_type": "markdown",
   "id": "ce45f07b",
   "metadata": {},
   "source": [
    "# Scraping non-tabular content with ```BeautifulSoup```\n",
    "### We'll learn to some basic scraping techniques using this mock site <a href=\"https://sandeepmj.github.io/scrape-example-page/demo-text.html\">demo page</a>.\n"
   ]
  },
  {
   "cell_type": "code",
   "execution_count": 2,
   "id": "02291c65",
   "metadata": {},
   "outputs": [],
   "source": [
    "## create cells as necessary"
   ]
  },
  {
   "cell_type": "code",
   "execution_count": null,
   "id": "5c01e31f",
   "metadata": {},
   "outputs": [],
   "source": []
  }
 ],
 "metadata": {
  "kernelspec": {
   "display_name": "Python 3 (ipykernel)",
   "language": "python",
   "name": "python3"
  },
  "language_info": {
   "codemirror_mode": {
    "name": "ipython",
    "version": 3
   },
   "file_extension": ".py",
   "mimetype": "text/x-python",
   "name": "python",
   "nbconvert_exporter": "python",
   "pygments_lexer": "ipython3",
   "version": "3.9.7"
  }
 },
 "nbformat": 4,
 "nbformat_minor": 5
}
