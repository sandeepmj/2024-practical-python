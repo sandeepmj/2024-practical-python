{
 "cells": [
  {
   "cell_type": "markdown",
   "id": "5fb4d600",
   "metadata": {},
   "source": [
    "## Scraping non-tabular, multipage sites\n",
    "Scrape the top 500 <a href=\"https://bestsellingalbums.org/decade/2010\">best-selling albums of the 2010's</a>. Your data must include the following datapoints:\n",
    "\n",
    "- Name of album\n",
    "- Name of artist\n",
    "- Number of albums sold \n",
    "- The link to the page that breaks down sales by country (found by clicking album title)\n",
    "\n"
   ]
  },
  {
   "cell_type": "code",
   "execution_count": 1,
   "id": "ca905d74",
   "metadata": {},
   "outputs": [],
   "source": [
    "## create cells as needed"
   ]
  },
  {
   "cell_type": "code",
   "execution_count": 1,
   "id": "aaba252e",
   "metadata": {},
   "outputs": [],
   "source": [
    "import requests as r"
   ]
  },
  {
   "cell_type": "code",
   "execution_count": 2,
   "id": "2708cc86-1007-487f-bc47-1e50f79bf3ca",
   "metadata": {},
   "outputs": [],
   "source": [
    "url = \"https://bestsellingalbums.org/decade/2010\"\n",
    "response = r.get(url)"
   ]
  },
  {
   "cell_type": "code",
   "execution_count": 3,
   "id": "b6dab0d4-58e4-486a-b88f-f598b256b952",
   "metadata": {},
   "outputs": [
    {
     "data": {
      "text/plain": [
       "200"
      ]
     },
     "execution_count": 3,
     "metadata": {},
     "output_type": "execute_result"
    }
   ],
   "source": [
    "response.status_code ## the link is working."
   ]
  },
  {
   "cell_type": "code",
   "execution_count": 4,
   "id": "5169c0c2-fcef-4acd-af74-e97085041e99",
   "metadata": {},
   "outputs": [
    {
     "data": {
      "text/plain": [
       "requests.models.Response"
      ]
     },
     "execution_count": 4,
     "metadata": {},
     "output_type": "execute_result"
    }
   ],
   "source": [
    "type(response) ## checking type"
   ]
  },
  {
   "cell_type": "code",
   "execution_count": 5,
   "id": "751e7bb8-b325-4c37-89f3-48c6261c156b",
   "metadata": {},
   "outputs": [],
   "source": [
    "from bs4 import BeautifulSoup"
   ]
  },
  {
   "cell_type": "code",
   "execution_count": 6,
   "id": "404576b1-e2fb-4d9c-af25-8329e5d925a3",
   "metadata": {},
   "outputs": [],
   "source": [
    "soup = BeautifulSoup(response.text, \"html.parser\")"
   ]
  },
  {
   "cell_type": "code",
   "execution_count": 9,
   "id": "65ebe45c-ecdd-4ab1-88a7-53958a00d7e9",
   "metadata": {
    "collapsed": true,
    "jupyter": {
     "outputs_hidden": true
    },
    "scrolled": true
   },
   "outputs": [
    {
     "name": "stdout",
     "output_type": "stream",
     "text": [
      "\n",
      "<!DOCTYPE html>\n",
      "\n",
      "<html class=\"no-js\" lang=\"en-US\">\n",
      "<head>\n",
      "<meta charset=\"utf-8\"/>\n",
      "<meta content=\"width=device-width\" name=\"viewport\"/>\n",
      "<link href=\"https://gmpg.org/xfn/11\" rel=\"profile\"/>\n",
      "<link href=\"https://bestsellingalbums.org/xmlrpc.php\" rel=\"pingback\"/>\n",
      "<!--[if lt IE 9]>\n",
      "    <script src=\"https://bestsellingalbums.org/wp-content/themes/twentyfifteen/js/html5.js?ver=3.7.0\"></script>\n",
      "    <![endif]-->\n",
      "<script>(function(html){html.className = html.className.replace(/\\bno-js\\b/,'js')})(document.documentElement);</script>\n",
      "<!-- This site is optimized with the Yoast SEO plugin v14.5 - https://yoast.com/wordpress/plugins/seo/ -->\n",
      "<title>Best-selling albums of 2010's</title>\n",
      "<meta content=\"Best-selling albums of 2010's\" name=\"description\">\n",
      "<meta content=\"index, follow\" name=\"robots\">\n",
      "<meta content=\"index, follow, max-snippet:-1, max-image-preview:large, max-video-preview:-1\" name=\"googlebot\"/>\n",
      "<meta content=\"index, follow, max-snippet:-1, max-image-preview:large, max-video-preview:-1\" name=\"bingbot\"/>\n",
      "<link href=\"https://bestsellingalbums.org/decade/2010\" rel=\"canonical\">\n",
      "<meta content=\"en_US\" property=\"og:locale\"/>\n",
      "<meta content=\"website\" property=\"og:type\"/>\n",
      "<meta content=\"Best-selling albums of 2010's\" property=\"og:title\"/>\n",
      "<meta content=\"\" property=\"og:description\"/>\n",
      "<meta content=\"BestSellingAlbums.org\" property=\"og:site_name\"/>\n",
      "<meta content=\"2021-10-16T18:31:34+00:00\" property=\"article:modified_time\"/>\n",
      "<meta content=\"summary_large_image\" name=\"twitter:card\"/>\n",
      "<meta content=\"summary_large_image\" name=\"twitter:card\"/>\n",
      "<!-- / Yoast SEO plugin. -->\n",
      "<link href=\"//www.googletagmanager.com\" rel=\"dns-prefetch\">\n",
      "<link href=\"//fonts.googleapis.com\" rel=\"dns-prefetch\"/>\n",
      "<link href=\"//s.w.org\" rel=\"dns-prefetch\"/>\n",
      "<link crossorigin=\"\" href=\"https://fonts.gstatic.com\" rel=\"preconnect\"/>\n",
      "<link href=\"https://bestsellingalbums.org/feed/\" rel=\"alternate\" title=\"BestSellingAlbums.org » Feed\" type=\"application/rss+xml\"/>\n",
      "<link href=\"https://bestsellingalbums.org/comments/feed/\" rel=\"alternate\" title=\"BestSellingAlbums.org » Comments Feed\" type=\"application/rss+xml\"/>\n",
      "<!-- This site uses the Google Analytics by MonsterInsights plugin v7.11.0 - Using Analytics tracking - https://www.monsterinsights.com/ -->\n",
      "<script data-cfasync=\"false\" type=\"text/javascript\">\n",
      "        var mi_version         = '7.11.0';\n",
      "        var mi_track_user      = true;\n",
      "        var mi_no_track_reason = '';\n",
      "\n",
      "        var disableStr = 'ga-disable-UA-172469367-1';\n",
      "\n",
      "        /* Function to detect opted out users */\n",
      "        function __gaTrackerIsOptedOut() {\n",
      "            return document.cookie.indexOf(disableStr + '=true') > -1;\n",
      "        }\n",
      "\n",
      "        /* Disable tracking if the opt-out cookie exists. */\n",
      "        if ( __gaTrackerIsOptedOut() ) {\n",
      "            window[disableStr] = true;\n",
      "        }\n",
      "\n",
      "        /* Opt-out function */\n",
      "        function __gaTrackerOptout() {\n",
      "            document.cookie = disableStr + '=true; expires=Thu, 31 Dec 2099 23:59:59 UTC; path=/';\n",
      "            window[disableStr] = true;\n",
      "        }\n",
      "\n",
      "        if ( 'undefined' === typeof gaOptout ) {\n",
      "            function gaOptout() {\n",
      "                __gaTrackerOptout();\n",
      "            }\n",
      "        }\n",
      "\n",
      "        if ( mi_track_user ) {\n",
      "            (function(i,s,o,g,r,a,m){i['GoogleAnalyticsObject']=r;i[r]=i[r]||function(){\n",
      "                (i[r].q=i[r].q||[]).push(arguments)},i[r].l=1*new Date();a=s.createElement(o),\n",
      "                m=s.getElementsByTagName(o)[0];a.async=1;a.src=g;m.parentNode.insertBefore(a,m)\n",
      "            })(window,document,'script','//www.google-analytics.com/analytics.js','__gaTracker');\n",
      "\n",
      "            __gaTracker('create', 'UA-172469367-1', 'auto');\n",
      "            __gaTracker('set', 'forceSSL', true);\n",
      "            __gaTracker('require', 'displayfeatures');\n",
      "            __gaTracker('require', 'linkid', 'linkid.js');\n",
      "            __gaTracker('send','pageview');\n",
      "        } else {\n",
      "            console.log( \"\" );\n",
      "            (function() {\n",
      "                /* https://developers.google.com/analytics/devguides/collection/analyticsjs/ */\n",
      "                var noopfn = function() {\n",
      "                    return null;\n",
      "                };\n",
      "                var noopnullfn = function() {\n",
      "                    return null;\n",
      "                };\n",
      "                var Tracker = function() {\n",
      "                    return null;\n",
      "                };\n",
      "                var p = Tracker.prototype;\n",
      "                p.get = noopfn;\n",
      "                p.set = noopfn;\n",
      "                p.send = noopfn;\n",
      "                var __gaTracker = function() {\n",
      "                    var len = arguments.length;\n",
      "                    if ( len === 0 ) {\n",
      "                        return;\n",
      "                    }\n",
      "                    var f = arguments[len-1];\n",
      "                    if ( typeof f !== 'object' || f === null || typeof f.hitCallback !== 'function' ) {\n",
      "                        console.log( 'Not running function __gaTracker(' + arguments[0] + \" ....) because you are not being tracked. \" + mi_no_track_reason );\n",
      "                        return;\n",
      "                    }\n",
      "                    try {\n",
      "                        f.hitCallback();\n",
      "                    } catch (ex) {\n",
      "\n",
      "                    }\n",
      "                };\n",
      "                __gaTracker.create = function() {\n",
      "                    return new Tracker();\n",
      "                };\n",
      "                __gaTracker.getByName = noopnullfn;\n",
      "                __gaTracker.getAll = function() {\n",
      "                    return [];\n",
      "                };\n",
      "                __gaTracker.remove = noopfn;\n",
      "                window['__gaTracker'] = __gaTracker;\n",
      "            })();\n",
      "        }\n",
      "    </script>\n",
      "<!-- / Google Analytics by MonsterInsights -->\n",
      "<script>\n",
      "        window._wpemojiSettings = {\"baseUrl\":\"https:\\/\\/s.w.org\\/images\\/core\\/emoji\\/12.0.0-1\\/72x72\\/\",\"ext\":\".png\",\"svgUrl\":\"https:\\/\\/s.w.org\\/images\\/core\\/emoji\\/12.0.0-1\\/svg\\/\",\"svgExt\":\".svg\",\"source\":{\"concatemoji\":\"https:\\/\\/bestsellingalbums.org\\/wp-includes\\/js\\/wp-emoji-release.min.js?ver=5.4.7\"}};\n",
      "        /*! This file is auto-generated */\n",
      "        !function(e,a,t){var n,r,o,i=a.createElement(\"canvas\"),p=i.getContext&&i.getContext(\"2d\");function s(e,t){var a=String.fromCharCode;p.clearRect(0,0,i.width,i.height),p.fillText(a.apply(this,e),0,0);e=i.toDataURL();return p.clearRect(0,0,i.width,i.height),p.fillText(a.apply(this,t),0,0),e===i.toDataURL()}function c(e){var t=a.createElement(\"script\");t.src=e,t.defer=t.type=\"text/javascript\",a.getElementsByTagName(\"head\")[0].appendChild(t)}for(o=Array(\"flag\",\"emoji\"),t.supports={everything:!0,everythingExceptFlag:!0},r=0;r<o.length;r++)t.supports[o[r]]=function(e){if(!p||!p.fillText)return!1;switch(p.textBaseline=\"top\",p.font=\"600 32px Arial\",e){case\"flag\":return s([127987,65039,8205,9895,65039],[127987,65039,8203,9895,65039])?!1:!s([55356,56826,55356,56819],[55356,56826,8203,55356,56819])&&!s([55356,57332,56128,56423,56128,56418,56128,56421,56128,56430,56128,56423,56128,56447],[55356,57332,8203,56128,56423,8203,56128,56418,8203,56128,56421,8203,56128,56430,8203,56128,56423,8203,56128,56447]);case\"emoji\":return!s([55357,56424,55356,57342,8205,55358,56605,8205,55357,56424,55356,57340],[55357,56424,55356,57342,8203,55358,56605,8203,55357,56424,55356,57340])}return!1}(o[r]),t.supports.everything=t.supports.everything&&t.supports[o[r]],\"flag\"!==o[r]&&(t.supports.everythingExceptFlag=t.supports.everythingExceptFlag&&t.supports[o[r]]);t.supports.everythingExceptFlag=t.supports.everythingExceptFlag&&!t.supports.flag,t.DOMReady=!1,t.readyCallback=function(){t.DOMReady=!0},t.supports.everything||(n=function(){t.readyCallback()},a.addEventListener?(a.addEventListener(\"DOMContentLoaded\",n,!1),e.addEventListener(\"load\",n,!1)):(e.attachEvent(\"onload\",n),a.attachEvent(\"onreadystatechange\",function(){\"complete\"===a.readyState&&t.readyCallback()})),(n=t.source||{}).concatemoji?c(n.concatemoji):n.wpemoji&&n.twemoji&&(c(n.twemoji),c(n.wpemoji)))}(window,document,window._wpemojiSettings);\n",
      "    </script>\n",
      "<style>\n",
      "        img.wp-smiley,\n",
      "        img.emoji {\n",
      "            display: inline !important;\n",
      "            border: none !important;\n",
      "            box-shadow: none !important;\n",
      "            height: 1em !important;\n",
      "            width: 1em !important;\n",
      "            margin: 0 .07em !important;\n",
      "            vertical-align: -0.1em !important;\n",
      "            background: none !important;\n",
      "            padding: 0 !important;\n",
      "        }\n",
      "    </style>\n",
      "<link href=\"https://bestsellingalbums.org/wp-includes/css/dist/block-library/style.min.css?ver=5.4.7\" id=\"wp-block-library-css\" media=\"all\" rel=\"stylesheet\"/>\n",
      "<link href=\"https://bestsellingalbums.org/wp-includes/css/dist/block-library/theme.min.css?ver=5.4.7\" id=\"wp-block-library-theme-css\" media=\"all\" rel=\"stylesheet\"/>\n",
      "<link href=\"https://fonts.googleapis.com/css?family=Noto+Sans%3A400italic%2C700italic%2C400%2C700%7CNoto+Serif%3A400italic%2C700italic%2C400%2C700%7CInconsolata%3A400%2C700&amp;subset=latin%2Clatin-ext&amp;display=fallback\" id=\"twentyfifteen-fonts-css\" media=\"all\" rel=\"stylesheet\"/>\n",
      "<link href=\"https://bestsellingalbums.org/wp-content/themes/twentyfifteen/genericons/genericons.css?ver=3.2\" id=\"genericons-css\" media=\"all\" rel=\"stylesheet\"/>\n",
      "<link href=\"https://bestsellingalbums.org/wp-content/themes/twentyfifteen/style.css?ver=20230704\" id=\"twentyfifteen-style-css\" media=\"all\" rel=\"stylesheet\"/>\n",
      "<link href=\"https://bestsellingalbums.org/wp-content/themes/twentyfifteen/css/blocks.css?ver=20190102\" id=\"twentyfifteen-block-style-css\" media=\"all\" rel=\"stylesheet\"/>\n",
      "<!--[if lt IE 9]>\n",
      "    <link rel='stylesheet' id='twentyfifteen-ie-css'  href='https://bestsellingalbums.org/wp-content/themes/twentyfifteen/css/ie.css?ver=20170916' media='all' />\n",
      "    <![endif]-->\n",
      "<!--[if lt IE 8]>\n",
      "    <link rel='stylesheet' id='twentyfifteen-ie7-css'  href='https://bestsellingalbums.org/wp-content/themes/twentyfifteen/css/ie7.css?ver=20141210' media='all' />\n",
      "    <![endif]-->\n",
      "<script>\n",
      "        var monsterinsights_frontend = {\"js_events_tracking\":\"true\",\"download_extensions\":\"doc,pdf,ppt,zip,xls,docx,pptx,xlsx\",\"inbound_paths\":\"[{\\\"path\\\":\\\"\\\\\\/go\\\\\\/\\\",\\\"label\\\":\\\"affiliate\\\"},{\\\"path\\\":\\\"\\\\\\/recommend\\\\\\/\\\",\\\"label\\\":\\\"affiliate\\\"}]\",\"home_url\":\"https:\\/\\/bestsellingalbums.org\",\"hash_tracking\":\"false\"};\n",
      "    </script>\n",
      "<script src=\"https://bestsellingalbums.org/wp-content/plugins/google-analytics-for-wordpress/assets/js/frontend.min.js?ver=7.11.0\"></script>\n",
      "<script src=\"https://bestsellingalbums.org/wp-includes/js/jquery/jquery.js?ver=1.12.4-wp\"></script>\n",
      "<script src=\"https://bestsellingalbums.org/wp-includes/js/jquery/jquery-migrate.min.js?ver=1.4.1\"></script>\n",
      "<script async=\"\" src=\"https://www.googletagmanager.com/gtag/js?id=UA-172469367-1\"></script>\n",
      "<script>\n",
      "        window.dataLayer = window.dataLayer || [];function gtag(){dataLayer.push(arguments);}\n",
      "        gtag('js', new Date());\n",
      "        gtag('set', 'developer_id.dZTNiMT', true);\n",
      "        gtag('config', 'UA-172469367-1', {\"anonymize_ip\":true} );\n",
      "    </script>\n",
      "<link href=\"https://bestsellingalbums.org/wp-json/\" rel=\"https://api.w.org/\"/>\n",
      "<link href=\"https://bestsellingalbums.org/xmlrpc.php?rsd\" rel=\"EditURI\" title=\"RSD\" type=\"application/rsd+xml\"/>\n",
      "<link href=\"https://bestsellingalbums.org/wp-includes/wlwmanifest.xml\" rel=\"wlwmanifest\" type=\"application/wlwmanifest+xml\"/>\n",
      "<meta content=\"WordPress 5.4.7\" name=\"generator\"/>\n",
      "<link href=\"https://bestsellingalbums.org/decade/2010\" rel=\"shortlink\"/>\n",
      "<link href=\"https://bestsellingalbums.org/wp-json/oembed/1.0/embed?url=https%3A%2F%2Fbestsellingalbums.org%2F\" rel=\"alternate\" type=\"application/json+oembed\"/>\n",
      "<link href=\"https://bestsellingalbums.org/wp-json/oembed/1.0/embed?url=https%3A%2F%2Fbestsellingalbums.org%2F&amp;format=xml\" rel=\"alternate\" type=\"text/xml+oembed\"/>\n",
      "<meta content=\"Site Kit by Google 1.23.0\" name=\"generator\"/> <style id=\"twentyfifteen-header-css\" type=\"text/css\">\n",
      "        .site-header {\n",
      "            padding-top: 14px;\n",
      "            padding-bottom: 14px;\n",
      "        }\n",
      "\n",
      "        .site-branding {\n",
      "            min-height: 42px;\n",
      "        }\n",
      "\n",
      "        @media screen and (min-width: 46.25em) {\n",
      "            .site-header {\n",
      "                padding-top: 21px;\n",
      "                padding-bottom: 21px;\n",
      "            }\n",
      "            .site-branding {\n",
      "                min-height: 56px;\n",
      "            }\n",
      "        }\n",
      "        @media screen and (min-width: 55em) {\n",
      "            .site-header {\n",
      "                padding-top: 25px;\n",
      "                padding-bottom: 25px;\n",
      "            }\n",
      "            .site-branding {\n",
      "                min-height: 62px;\n",
      "            }\n",
      "        }\n",
      "        @media screen and (min-width: 59.6875em) {\n",
      "            .site-header {\n",
      "                padding-top: 0;\n",
      "                padding-bottom: 0;\n",
      "            }\n",
      "            .site-branding {\n",
      "                min-height: 0;\n",
      "            }\n",
      "        }\n",
      "        .site-title,\n",
      "        .site-description {\n",
      "            clip: rect(1px, 1px, 1px, 1px);\n",
      "            position: absolute;\n",
      "        }\n",
      "    </style>\n",
      "<script async=\"\" crossorigin=\"anonymous\" src=\"https://pagead2.googlesyndication.com/pagead/js/adsbygoogle.js?client=ca-pub-4170592194252897\"></script>\n",
      "<!-- Yandex.Metrika counter -->\n",
      "<script type=\"text/javascript\"> (function(m,e,t,r,i,k,a){m[i]=m[i]||function(){(m[i].a=m[i].a||[]).push(arguments)}; m[i].l=1*new Date();k=e.createElement(t),a=e.getElementsByTagName(t)[0],k.async=1,k.src=r,a.parentNode.insertBefore(k,a)}) (window, document, \"script\", \"https://mc.yandex.ru/metrika/tag.js\", \"ym\"); ym(58642729, \"init\", {  id:58642729, clickmap:true, trackLinks:true, webvisor:true, accurateTrackBounce:true }); </script>\n",
      "<noscript><div><img alt=\"\" src=\"https://mc.yandex.ru/watch/58642729\" style=\"position:absolute; left:-9999px;\"/></div></noscript>\n",
      "<!-- /Yandex.Metrika counter -->\n",
      "<link href=\"/apple-touch-icon.png\" rel=\"apple-touch-icon\" sizes=\"180x180\"/>\n",
      "<link href=\"/favicon-32x32.png\" rel=\"icon\" sizes=\"32x32\" type=\"image/png\"/>\n",
      "<link href=\"/favicon-16x16.png\" rel=\"icon\" sizes=\"16x16\" type=\"image/png\"/>\n",
      "<link href=\"/site.webmanifest\" rel=\"manifest\"/>\n",
      "<script crossorigin=\"anonymous\" integrity=\"sha256-9/aliU8dGd2tb6OSsuzixeV4y/faTqgFtohetphbbj0=\" src=\"https://code.jquery.com/jquery-3.5.1.min.js\"></script>\n",
      "<link href=\"https://bestsellingalbums.org/wp-content/themes/twentyfifteen/css/database.css\" rel=\"stylesheet\" type=\"text/css\"/>\n",
      "<script charset=\"utf8\" src=\"https://cdn.datatables.net/1.10.24/js/jquery.dataTables.js\" type=\"text/javascript\"></script>\n",
      "</link></link></meta></meta></head>\n",
      "<body class=\"home page-template-default page page-id-432 wp-custom-logo wp-embed-responsive elementor-default elementor-kit-2273\" data-rsssl=\"1\">\n",
      "<div class=\"hfeed site\" id=\"page\">\n",
      "<a class=\"skip-link screen-reader-text\" href=\"#content\">Skip to content</a>\n",
      "<div class=\"sidebar\" id=\"sidebar\" style=\"position: fixed; bottom: auto;\">\n",
      "<header class=\"site-header\" id=\"masthead\" role=\"banner\">\n",
      "<div class=\"site-branding\">\n",
      "<a class=\"custom-logo-link\" href=\"https://bestsellingalbums.org/\" rel=\"home\"><img alt=\"BestSellingAlbums.org\" class=\"custom-logo\" height=\"153\" src=\"https://bestsellingalbums.org/wp-content/uploads/2020/06/logo-1.png\" width=\"160\"/></a> <p class=\"site-title\"><a href=\"https://bestsellingalbums.org/\" rel=\"home\">BestSellingAlbums.org</a></p>\n",
      "<p class=\"site-description\">global archive of albums sales, charts and industry statistics</p>\n",
      "<button class=\"secondary-toggle\">Menu and widgets</button>\n",
      "</div><!-- .site-branding -->\n",
      "</header><!-- .site-header -->\n",
      "<div class=\"secondary\" id=\"secondary\">\n",
      "<nav class=\"main-navigation\" id=\"site-navigation\" role=\"navigation\">\n",
      "<div class=\"menu-menu3-0-container\"><ul class=\"nav-menu\" id=\"menu-menu3-0\"><li class=\"menu-item menu-item-type-custom menu-item-object-custom menu-item-2973\" id=\"menu-item-2973\"><a href=\"https://bestsellingalbums.org/about/\">About</a></li>\n",
      "<li class=\"menu-item menu-item-type-post_type menu-item-object-page menu-item-4417\" id=\"menu-item-4417\"><a href=\"https://bestsellingalbums.org/latest/\">Latest</a></li>\n",
      "<li class=\"menu-item menu-item-type-custom menu-item-object-custom menu-item-2842\" id=\"menu-item-2842\"><a href=\"https://bestsellingalbums.org/search-database/\">Database search</a></li>\n",
      "<li class=\"menu-item menu-item-type-custom menu-item-object-custom menu-item-2843\" id=\"menu-item-2843\"><a href=\"https://bestsellingalbums.org/artist-index/\">Artist index</a></li>\n",
      "<li class=\"menu-item menu-item-type-custom menu-item-object-custom menu-item-has-children menu-item-2844\" id=\"menu-item-2844\"><a>Best-selling albums by year, decade</a><button aria-expanded=\"false\" class=\"dropdown-toggle\"><span class=\"screen-reader-text\">expand child menu</span></button>\n",
      "<ul class=\"sub-menu\">\n",
      "<li class=\"menu-item menu-item-type-custom menu-item-object-custom menu-item-2845\" id=\"menu-item-2845\"><a href=\"https://bestsellingalbums.org/decade/1940\">1940’s</a></li>\n",
      "<li class=\"menu-item menu-item-type-custom menu-item-object-custom menu-item-2846\" id=\"menu-item-2846\"><a href=\"https://bestsellingalbums.org/decade/1950\">1950’s</a></li>\n",
      "<li class=\"menu-item menu-item-type-custom menu-item-object-custom menu-item-2847\" id=\"menu-item-2847\"><a href=\"https://bestsellingalbums.org/decade/1960\">1960’s</a></li>\n",
      "<li class=\"menu-item menu-item-type-custom menu-item-object-custom menu-item-2848\" id=\"menu-item-2848\"><a href=\"https://bestsellingalbums.org/decade/1970\">1970’s</a></li>\n",
      "<li class=\"menu-item menu-item-type-custom menu-item-object-custom menu-item-2849\" id=\"menu-item-2849\"><a href=\"https://bestsellingalbums.org/decade/1980\">1980’s</a></li>\n",
      "<li class=\"menu-item menu-item-type-custom menu-item-object-custom menu-item-2850\" id=\"menu-item-2850\"><a href=\"https://bestsellingalbums.org/decade/1990\">1990’s</a></li>\n",
      "<li class=\"menu-item menu-item-type-custom menu-item-object-custom menu-item-2851\" id=\"menu-item-2851\"><a href=\"https://bestsellingalbums.org/decade/2000\">2000’s</a></li>\n",
      "<li class=\"menu-item menu-item-type-custom menu-item-object-custom menu-item-2852\" id=\"menu-item-2852\"><a href=\"https://bestsellingalbums.org/decade/2010\">2010’s</a></li>\n",
      "<li class=\"menu-item menu-item-type-custom menu-item-object-custom menu-item-2853\" id=\"menu-item-2853\"><a href=\"https://bestsellingalbums.org/decade/2020\">2020’s</a></li>\n",
      "<li class=\"menu-item menu-item-type-custom menu-item-object-custom menu-item-2854\" id=\"menu-item-2854\"><a href=\"https://bestsellingalbums.org/overall\">Overall</a></li>\n",
      "</ul>\n",
      "</li>\n",
      "<li class=\"menu-item menu-item-type-custom menu-item-object-custom menu-item-2915\" id=\"menu-item-2915\"><a href=\"https://bestsellingalbums.org/best-selling-albums-by-country/\">Best-selling albums by country</a></li>\n",
      "<li class=\"menu-item menu-item-type-custom menu-item-object-custom menu-item-has-children menu-item-4418\" id=\"menu-item-4418\"><a>Best-selling video albums</a><button aria-expanded=\"false\" class=\"dropdown-toggle\"><span class=\"screen-reader-text\">expand child menu</span></button>\n",
      "<ul class=\"sub-menu\">\n",
      "<li class=\"menu-item menu-item-type-custom menu-item-object-custom menu-item-4419\" id=\"menu-item-4419\"><a href=\"https://bestsellingalbums.org/video/decade/1980\">1980’s</a></li>\n",
      "<li class=\"menu-item menu-item-type-custom menu-item-object-custom menu-item-4420\" id=\"menu-item-4420\"><a href=\"https://bestsellingalbums.org/video/decade/1990\">1990’s</a></li>\n",
      "<li class=\"menu-item menu-item-type-custom menu-item-object-custom menu-item-4421\" id=\"menu-item-4421\"><a href=\"https://bestsellingalbums.org/video/decade/2000\">2000’s</a></li>\n",
      "<li class=\"menu-item menu-item-type-custom menu-item-object-custom menu-item-4422\" id=\"menu-item-4422\"><a href=\"https://bestsellingalbums.org/video/decade/2010\">2010’s</a></li>\n",
      "<li class=\"menu-item menu-item-type-custom menu-item-object-custom menu-item-4423\" id=\"menu-item-4423\"><a href=\"https://bestsellingalbums.org/video/decade/2020\">2020’s</a></li>\n",
      "<li class=\"menu-item menu-item-type-custom menu-item-object-custom menu-item-4424\" id=\"menu-item-4424\"><a href=\"https://bestsellingalbums.org/video/overall\">Overall</a></li>\n",
      "<li class=\"menu-item menu-item-type-custom menu-item-object-custom menu-item-4425\" id=\"menu-item-4425\"><a href=\"https://bestsellingalbums.org/best-selling-video-albums-by-country/\">By country</a></li>\n",
      "</ul>\n",
      "</li>\n",
      "<li class=\"menu-item menu-item-type-custom menu-item-object-custom menu-item-2924\" id=\"menu-item-2924\"><a href=\"https://bestsellingalbums.org/lists\">Lists</a></li>\n",
      "<li class=\"menu-item menu-item-type-custom menu-item-object-custom menu-item-has-children menu-item-2841\" id=\"menu-item-2841\"><a href=\"https://bestsellingalbums.org/rus/\">Русский раздел</a><button aria-expanded=\"false\" class=\"dropdown-toggle\"><span class=\"screen-reader-text\">expand child menu</span></button>\n",
      "<ul class=\"sub-menu\">\n",
      "<li class=\"menu-item menu-item-type-custom menu-item-object-custom menu-item-2911\" id=\"menu-item-2911\"><a href=\"https://bestsellingalbums.org/charts/spotify/\">Самые прослушиваемые альбомы Spotify</a></li>\n",
      "<li class=\"menu-item menu-item-type-custom menu-item-object-custom menu-item-2912\" id=\"menu-item-2912\"><a href=\"https://bestsellingalbums.org/charts/vk-albums/\">Самые прослушиваемые альбомы VK Music</a></li>\n",
      "<li class=\"menu-item menu-item-type-custom menu-item-object-custom menu-item-2913\" id=\"menu-item-2913\"><a href=\"https://bestsellingalbums.org/charts/overall/\">Самые прослушиваемые альбомы в России</a></li>\n",
      "<li class=\"menu-item menu-item-type-custom menu-item-object-custom menu-item-2914\" id=\"menu-item-2914\"><a href=\"https://bestsellingalbums.org/tirazi/\">Тиражи пластинок в СССР и России</a></li>\n",
      "</ul>\n",
      "</li>\n",
      "</ul></div> </nav><!-- .main-navigation -->\n",
      "</div><!-- .secondary -->\n",
      "</div><!-- .sidebar -->\n",
      "<div class=\"site-content\" id=\"content\">\n",
      "<div class=\"content-area\" id=\"primary\">\n",
      "<main class=\"site-main\" id=\"main\" role=\"main\">\n",
      "<header class=\"entry-header\">\n",
      "<h1 class=\"head_first\">Best-selling albums of 2010's</h1>\n",
      "</header><!-- .entry-header -->\n",
      "<div class=\"entry-content\">\n",
      "<p>The best-selling album released in 2010 is 21 by ADELE which sold 30,000,000 copies.\n",
      "<!-- year panel -->\n",
      "<details>\n",
      "<summary class=\"open_year\">Open to select another chart: by year, by decade or all time\n",
      "    </summary>\n",
      "<div class=\"year_box\">\n",
      "<div class=\"all_time_mobile\"><a href=\"https://bestsellingalbums.org/overall\" id=\"decade\" title=\"Best-selling albums of all time\">All\n",
      "                time</a></div>\n",
      "<div class=\"decade_link\"><a href=\"https://bestsellingalbums.org/decade/2020\" id=\"decade\" title=\"Best-selling albums of 2020's\">2020s</a>\n",
      "</div>\n",
      "<div class=\"year_link\"><a href=\"https://bestsellingalbums.org/year/2020\" title=\"Best-selling albums of 2020\">2020</a></div>\n",
      "<div class=\"year_link\"><a href=\"https://bestsellingalbums.org/year/2021\" title=\"Best-selling albums of 2021\">2021</a></div>\n",
      "<div class=\"year_link\"><a href=\"https://bestsellingalbums.org/year/2022\" title=\"Best-selling albums of 2022\">2022</a></div>\n",
      "<div class=\"year_link\"><a href=\"https://bestsellingalbums.org/year/2023\" title=\"Best-selling albums of 2023\">2023</a></div>\n",
      "<div class=\"all_time\"><a href=\"https://bestsellingalbums.org/overall\" id=\"decade\" title=\"Best-selling albums of all time\">All time</a></div>\n",
      "<div class=\"decade_link\"><a href=\"https://bestsellingalbums.org/decade/2010\" id=\"decade\" title=\"Best-selling albums of 2010's\">2010s</a>\n",
      "</div>\n",
      "<div class=\"year_link\"><a href=\"https://bestsellingalbums.org/year/2010\" title=\"Best-selling albums of 2010\">2010</a></div>\n",
      "<div class=\"year_link\"><a href=\"https://bestsellingalbums.org/year/2011\" title=\"Best-selling albums of 2011\">2011</a></div>\n",
      "<div class=\"year_link\"><a href=\"https://bestsellingalbums.org/year/2012\" title=\"Best-selling albums of 2012\">2012</a></div>\n",
      "<div class=\"year_link\"><a href=\"https://bestsellingalbums.org/year/2013\" title=\"Best-selling albums of 2013\">2013</a></div>\n",
      "<div class=\"year_link\"><a href=\"https://bestsellingalbums.org/year/2014\" title=\"Best-selling albums of 2014\">2014</a></div>\n",
      "<div class=\"year_link\"><a href=\"https://bestsellingalbums.org/year/2015\" title=\"Best-selling albums of 2015\">2015</a></div>\n",
      "<div class=\"year_link\"><a href=\"https://bestsellingalbums.org/year/2016\" title=\"Best-selling albums of 2016\">2016</a></div>\n",
      "<div class=\"year_link\"><a href=\"https://bestsellingalbums.org/year/2017\" title=\"Best-selling albums of 2017\">2017</a></div>\n",
      "<div class=\"year_link\"><a href=\"https://bestsellingalbums.org/year/2018\" title=\"Best-selling albums of 2018\">2018</a></div>\n",
      "<div class=\"year_link\"><a href=\"https://bestsellingalbums.org/year/2019\" title=\"Best-selling albums of 2019\">2019</a></div>\n",
      "<div class=\"decade_link\"><a href=\"https://bestsellingalbums.org/decade/2000\" id=\"decade\" title=\"Best-selling albums of 2000's\">2000s</a>\n",
      "</div>\n",
      "<div class=\"year_link\"><a href=\"https://bestsellingalbums.org/year/2000\" title=\"Best-selling albums of 2000\">2000</a></div>\n",
      "<div class=\"year_link\"><a href=\"https://bestsellingalbums.org/year/2001\" title=\"Best-selling albums of 2001\">2001</a></div>\n",
      "<div class=\"year_link\"><a href=\"https://bestsellingalbums.org/year/2002\" title=\"Best-selling albums of 2002\">2002</a></div>\n",
      "<div class=\"year_link\"><a href=\"https://bestsellingalbums.org/year/2003\" title=\"Best-selling albums of 2003\">2003</a></div>\n",
      "<div class=\"year_link\"><a href=\"https://bestsellingalbums.org/year/2004\" title=\"Best-selling albums of 2004\">2004</a></div>\n",
      "<div class=\"year_link\"><a href=\"https://bestsellingalbums.org/year/2005\" title=\"Best-selling albums of 2005\">2005</a></div>\n",
      "<div class=\"year_link\"><a href=\"https://bestsellingalbums.org/year/2006\" title=\"Best-selling albums of 2006\">2006</a></div>\n",
      "<div class=\"year_link\"><a href=\"https://bestsellingalbums.org/year/2007\" title=\"Best-selling albums of 2007\">2007</a></div>\n",
      "<div class=\"year_link\"><a href=\"https://bestsellingalbums.org/year/2008\" title=\"Best-selling albums of 2008\">2008</a></div>\n",
      "<div class=\"year_link\"><a href=\"https://bestsellingalbums.org/year/2009\" title=\"Best-selling albums of 2009\">2009</a></div>\n",
      "<div class=\"decade_link\"><a href=\"https://bestsellingalbums.org/decade/1990\" id=\"decade\" title=\"Best-selling albums of 1990's\">1990s</a>\n",
      "</div>\n",
      "<div class=\"year_link\"><a href=\"https://bestsellingalbums.org/year/1990\" title=\"Best-selling albums of 1990\">1990</a></div>\n",
      "<div class=\"year_link\"><a href=\"https://bestsellingalbums.org/year/1991\" title=\"Best-selling albums of 1991\">1991</a></div>\n",
      "<div class=\"year_link\"><a href=\"https://bestsellingalbums.org/year/1992\" title=\"Best-selling albums of 1992\">1992</a></div>\n",
      "<div class=\"year_link\"><a href=\"https://bestsellingalbums.org/year/1993\" title=\"Best-selling albums of 1993\">1993</a></div>\n",
      "<div class=\"year_link\"><a href=\"https://bestsellingalbums.org/year/1994\" title=\"Best-selling albums of 1994\">1994</a></div>\n",
      "<div class=\"year_link\"><a href=\"https://bestsellingalbums.org/year/1995\" title=\"Best-selling albums of 1995\">1995</a></div>\n",
      "<div class=\"year_link\"><a href=\"https://bestsellingalbums.org/year/1996\" title=\"Best-selling albums of 1996\">1996</a></div>\n",
      "<div class=\"year_link\"><a href=\"https://bestsellingalbums.org/year/1997\" title=\"Best-selling albums of 1997\">1997</a></div>\n",
      "<div class=\"year_link\"><a href=\"https://bestsellingalbums.org/year/1998\" title=\"Best-selling albums of 1998\">1998</a></div>\n",
      "<div class=\"year_link\"><a href=\"https://bestsellingalbums.org/year/1999\" title=\"Best-selling albums of 1999\">1999</a></div>\n",
      "<div class=\"decade_link\"><a href=\"https://bestsellingalbums.org/decade/1980\" id=\"decade\" title=\"Best-selling albums of 1980's\">1980s</a>\n",
      "</div>\n",
      "<div class=\"year_link\"><a href=\"https://bestsellingalbums.org/year/1980\" title=\"Best-selling albums of 1980\">1980</a></div>\n",
      "<div class=\"year_link\"><a href=\"https://bestsellingalbums.org/year/1981\" title=\"Best-selling albums of 1981\">1981</a></div>\n",
      "<div class=\"year_link\"><a href=\"https://bestsellingalbums.org/year/1982\" title=\"Best-selling albums of 1982\">1982</a></div>\n",
      "<div class=\"year_link\"><a href=\"https://bestsellingalbums.org/year/1983\" title=\"Best-selling albums of 1983\">1983</a></div>\n",
      "<div class=\"year_link\"><a href=\"https://bestsellingalbums.org/year/1984\" title=\"Best-selling albums of 1984\">1984</a></div>\n",
      "<div class=\"year_link\"><a href=\"https://bestsellingalbums.org/year/1985\" title=\"Best-selling albums of 1985\">1985</a></div>\n",
      "<div class=\"year_link\"><a href=\"https://bestsellingalbums.org/year/1986\" title=\"Best-selling albums of 1986\">1986</a></div>\n",
      "<div class=\"year_link\"><a href=\"https://bestsellingalbums.org/year/1987\" title=\"Best-selling albums of 1987\">1987</a></div>\n",
      "<div class=\"year_link\"><a href=\"https://bestsellingalbums.org/year/1988\" title=\"Best-selling albums of 1988\">1988</a></div>\n",
      "<div class=\"year_link\"><a href=\"https://bestsellingalbums.org/year/1989\" title=\"Best-selling albums of 1989\">1989</a></div>\n",
      "<div class=\"decade_link\"><a href=\"https://bestsellingalbums.org/decade/1970\" id=\"decade\" title=\"Best-selling albums of 1970's\">1970s</a>\n",
      "</div>\n",
      "<div class=\"year_link\"><a href=\"https://bestsellingalbums.org/year/1970\" title=\"Best-selling albums of 1970\">1970</a></div>\n",
      "<div class=\"year_link\"><a href=\"https://bestsellingalbums.org/year/1971\" title=\"Best-selling albums of 1971\">1971</a></div>\n",
      "<div class=\"year_link\"><a href=\"https://bestsellingalbums.org/year/1972\" title=\"Best-selling albums of 1972\">1972</a></div>\n",
      "<div class=\"year_link\"><a href=\"https://bestsellingalbums.org/year/1973\" title=\"Best-selling albums of 1973\">1973</a></div>\n",
      "<div class=\"year_link\"><a href=\"https://bestsellingalbums.org/year/1974\" title=\"Best-selling albums of 1974\">1974</a></div>\n",
      "<div class=\"year_link\"><a href=\"https://bestsellingalbums.org/year/1975\" title=\"Best-selling albums of 1975\">1975</a></div>\n",
      "<div class=\"year_link\"><a href=\"https://bestsellingalbums.org/year/1976\" title=\"Best-selling albums of 1976\">1976</a></div>\n",
      "<div class=\"year_link\"><a href=\"https://bestsellingalbums.org/year/1977\" title=\"Best-selling albums of 1977\">1977</a></div>\n",
      "<div class=\"year_link\"><a href=\"https://bestsellingalbums.org/year/1978\" title=\"Best-selling albums of 1978\">1978</a></div>\n",
      "<div class=\"year_link\"><a href=\"https://bestsellingalbums.org/year/1979\" title=\"Best-selling albums of 1979\">1979</a></div>\n",
      "<div class=\"decade_link\"><a href=\"https://bestsellingalbums.org/decade/1960\" id=\"decade\" title=\"Best-selling albums of 1960's\">1960s</a>\n",
      "</div>\n",
      "<div class=\"year_link\"><a href=\"https://bestsellingalbums.org/year/1960\" title=\"Best-selling albums of 1960\">1960</a></div>\n",
      "<div class=\"year_link\"><a href=\"https://bestsellingalbums.org/year/1961\" title=\"Best-selling albums of 1961\">1961</a></div>\n",
      "<div class=\"year_link\"><a href=\"https://bestsellingalbums.org/year/1962\" title=\"Best-selling albums of 1962\">1962</a></div>\n",
      "<div class=\"year_link\"><a href=\"https://bestsellingalbums.org/year/1963\" title=\"Best-selling albums of 1963\">1963</a></div>\n",
      "<div class=\"year_link\"><a href=\"https://bestsellingalbums.org/year/1964\" title=\"Best-selling albums of 1964\">1964</a></div>\n",
      "<div class=\"year_link\"><a href=\"https://bestsellingalbums.org/year/1965\" title=\"Best-selling albums of 1965\">1965</a></div>\n",
      "<div class=\"year_link\"><a href=\"https://bestsellingalbums.org/year/1966\" title=\"Best-selling albums of 1966\">1966</a></div>\n",
      "<div class=\"year_link\"><a href=\"https://bestsellingalbums.org/year/1967\" title=\"Best-selling albums of 1967\">1967</a></div>\n",
      "<div class=\"year_link\"><a href=\"https://bestsellingalbums.org/year/1968\" title=\"Best-selling albums of 1968\">1968</a></div>\n",
      "<div class=\"year_link\"><a href=\"https://bestsellingalbums.org/year/1969\" title=\"Best-selling albums of 1969\">1969</a></div>\n",
      "<div class=\"decade_link\"><a href=\"https://bestsellingalbums.org/decade/1950\" id=\"decade\" title=\"Best-selling albums of 1950's\">1950s</a>\n",
      "</div>\n",
      "<div class=\"year_link\"><a href=\"https://bestsellingalbums.org/year/1950\" title=\"Best-selling albums of 1950\">1950</a></div>\n",
      "<div class=\"year_link\"><a href=\"https://bestsellingalbums.org/year/1951\" title=\"Best-selling albums of 1951\">1951</a></div>\n",
      "<div class=\"year_link\"><a href=\"https://bestsellingalbums.org/year/1952\" title=\"Best-selling albums of 1952\">1952</a></div>\n",
      "<div class=\"year_link\"><a href=\"https://bestsellingalbums.org/year/1953\" title=\"Best-selling albums of 1953\">1953</a></div>\n",
      "<div class=\"year_link\"><a href=\"https://bestsellingalbums.org/year/1954\" title=\"Best-selling albums of 1954\">1954</a></div>\n",
      "<div class=\"year_link\"><a href=\"https://bestsellingalbums.org/year/1955\" title=\"Best-selling albums of 1955\">1955</a></div>\n",
      "<div class=\"year_link\"><a href=\"https://bestsellingalbums.org/year/1956\" title=\"Best-selling albums of 1956\">1956</a></div>\n",
      "<div class=\"year_link\"><a href=\"https://bestsellingalbums.org/year/1957\" title=\"Best-selling albums of 1957\">1957</a></div>\n",
      "<div class=\"year_link\"><a href=\"https://bestsellingalbums.org/year/1958\" title=\"Best-selling albums of 1958\">1958</a></div>\n",
      "<div class=\"year_link\"><a href=\"https://bestsellingalbums.org/year/1959\" title=\"Best-selling albums of 1959\">1959</a></div>\n",
      "<div class=\"decade_link\"><a href=\"https://bestsellingalbums.org/decade/1940\" id=\"decade\" title=\"Best-selling albums of 1940's\">1940s</a>\n",
      "</div>\n",
      "<div class=\"year_link\"><a href=\"https://bestsellingalbums.org/year/1940\" title=\"Best-selling albums of 1940\">1940</a></div>\n",
      "<div class=\"year_link\"><a href=\"https://bestsellingalbums.org/year/1941\" title=\"Best-selling albums of 1941\">1941</a></div>\n",
      "<div class=\"year_link\"><a href=\"https://bestsellingalbums.org/year/1942\" title=\"Best-selling albums of 1942\">1942</a></div>\n",
      "<div class=\"year_link\"><a href=\"https://bestsellingalbums.org/year/1943\" title=\"Best-selling albums of 1943\">1943</a></div>\n",
      "<div class=\"year_link\"><a href=\"https://bestsellingalbums.org/year/1944\" title=\"Best-selling albums of 1944\">1944</a></div>\n",
      "<div class=\"year_link\"><a href=\"https://bestsellingalbums.org/year/1945\" title=\"Best-selling albums of 1945\">1945</a></div>\n",
      "<div class=\"year_link\"><a href=\"https://bestsellingalbums.org/year/1946\" title=\"Best-selling albums of 1946\">1946</a></div>\n",
      "<div class=\"year_link\"><a href=\"https://bestsellingalbums.org/year/1947\" title=\"Best-selling albums of 1947\">1947</a></div>\n",
      "<div class=\"year_link\"><a href=\"https://bestsellingalbums.org/year/1948\" title=\"Best-selling albums of 1948\">1948</a></div>\n",
      "<div class=\"year_link\"><a href=\"https://bestsellingalbums.org/year/1949\" title=\"Best-selling albums of 1949\">1949</a></div>\n",
      "</div>\n",
      "</details>\n",
      "<!-- year panel end--><div class=\"pages_row\"><div class=\"current_page\">1</div><div class=\"page_item\"><a href=\"https://bestsellingalbums.org/decade/2010-2\">2</a></div><div class=\"page_item\"><a href=\"https://bestsellingalbums.org/decade/2010-3\">3</a></div><div class=\"page_item\"><a href=\"https://bestsellingalbums.org/decade/2010-4\">4</a></div><div class=\"no_link\">...</div><div class=\"page_item\"><a href=\"https://bestsellingalbums.org/decade/2010-251\">251</a></div><div class=\"page_item\"><a href=\"https://bestsellingalbums.org/decade/2010-2\">next</a></div></div><div class=\"album_card\"><div class=\"rank\">1</div><div class=\"cover\"><img class=\"pic\" onerror=\"this.src='../includes/default.png';this.onerror='';\" src=\"../covers/1034.jpg\"/></div><div class=\"data_col\"><div class=\"album\"><a href=\"https://bestsellingalbums.org/album/1034\">21</a></div><div class=\"artist\"><a href=\"https://bestsellingalbums.org/artist/218\" title=\"ADELE album sales\">ADELE</a></div><div class=\"sales\">Sales: 30,000,000</div><div class=\"rank_mobile\">Rankings:</div><div class=\"ranks_row\"><div class=\"ranks\"><a href=\"https://bestsellingalbums.org/year/2011\" title=\"Best-selling albums of 2011\"><span class=\"ranks_desc_art\">Rank in </span>2011</a> : 1</div><div class=\"ranks\"><a href=\"https://bestsellingalbums.org/decade/2010\" title=\"Best-selling albums of 2010's\"><span class=\"ranks_desc_art\">Rank in </span>2010's</a>: 1</div><div class=\"ranks\"><a href=\"https://bestsellingalbums.org/overall\" title=\"Best-selling albums of all time\">Overall<span class=\"ranks_desc_art\"> rank</span></a> : 24</div></div></div></div><div class=\"album_card\"><div class=\"rank\">2</div><div class=\"cover\"><img class=\"pic\" onerror=\"this.src='../includes/default.png';this.onerror='';\" src=\"../covers/1035.jpg\"/></div><div class=\"data_col\"><div class=\"album\"><a href=\"https://bestsellingalbums.org/album/1035\">25</a></div><div class=\"artist\"><a href=\"https://bestsellingalbums.org/artist/218\" title=\"ADELE album sales\">ADELE</a></div><div class=\"sales\">Sales: 23,000,000</div><div class=\"rank_mobile\">Rankings:</div><div class=\"ranks_row\"><div class=\"ranks\"><a href=\"https://bestsellingalbums.org/year/2015\" title=\"Best-selling albums of 2015\"><span class=\"ranks_desc_art\">Rank in </span>2015</a> : 1</div><div class=\"ranks\"><a href=\"https://bestsellingalbums.org/decade/2010\" title=\"Best-selling albums of 2010's\"><span class=\"ranks_desc_art\">Rank in </span>2010's</a>: 2</div><div class=\"ranks\"><a href=\"https://bestsellingalbums.org/overall\" title=\"Best-selling albums of all time\">Overall<span class=\"ranks_desc_art\"> rank</span></a> : 56</div></div></div></div><div class=\"album_card\"><div class=\"rank\">3</div><div class=\"cover\"><img class=\"pic\" onerror=\"this.src='../includes/default.png';this.onerror='';\" src=\"../covers/30524.jpg\"/></div><div class=\"data_col\"><div class=\"album\"><a href=\"https://bestsellingalbums.org/album/30524\">CHRISTMAS</a></div><div class=\"artist\"><a href=\"https://bestsellingalbums.org/artist/8822\" title=\"MICHAEL BUBLÉ album sales\">MICHAEL BUBLÉ</a></div><div class=\"sales\">Sales: 15,000,000</div><div class=\"rank_mobile\">Rankings:</div><div class=\"ranks_row\"><div class=\"ranks\"><a href=\"https://bestsellingalbums.org/year/2011\" title=\"Best-selling albums of 2011\"><span class=\"ranks_desc_art\">Rank in </span>2011</a> : 2</div><div class=\"ranks\"><a href=\"https://bestsellingalbums.org/decade/2010\" title=\"Best-selling albums of 2010's\"><span class=\"ranks_desc_art\">Rank in </span>2010's</a>: 3</div><div class=\"ranks\"><a href=\"https://bestsellingalbums.org/overall\" title=\"Best-selling albums of all time\">Overall<span class=\"ranks_desc_art\"> rank</span></a> : 119</div></div></div></div><div class=\"album_card\"><div class=\"rank\">4</div><div class=\"cover\"><img class=\"pic\" onerror=\"this.src='../includes/default.png';this.onerror='';\" src=\"../covers/45488.jpg\"/></div><div class=\"data_col\"><div class=\"album\"><a href=\"https://bestsellingalbums.org/album/45488\">1989</a></div><div class=\"artist\"><a href=\"https://bestsellingalbums.org/artist/12748\" title=\"TAYLOR SWIFT album sales\">TAYLOR SWIFT</a></div><div class=\"sales\">Sales: 14,748,116</div><div class=\"rank_mobile\">Rankings:</div><div class=\"ranks_row\"><div class=\"ranks\"><a href=\"https://bestsellingalbums.org/year/2014\" title=\"Best-selling albums of 2014\"><span class=\"ranks_desc_art\">Rank in </span>2014</a> : 1</div><div class=\"ranks\"><a href=\"https://bestsellingalbums.org/decade/2010\" title=\"Best-selling albums of 2010's\"><span class=\"ranks_desc_art\">Rank in </span>2010's</a>: 4</div><div class=\"ranks\"><a href=\"https://bestsellingalbums.org/overall\" title=\"Best-selling albums of all time\">Overall<span class=\"ranks_desc_art\"> rank</span></a> : 137</div></div></div></div><div class=\"album_card\"><div class=\"rank\">5</div><div class=\"cover\"><img class=\"pic\" onerror=\"this.src='../includes/default.png';this.onerror='';\" src=\"../covers/23318.jpg\"/></div><div class=\"data_col\"><div class=\"album\"><a href=\"https://bestsellingalbums.org/album/23318\">PURPOSE</a></div><div class=\"artist\"><a href=\"https://bestsellingalbums.org/artist/6646\" title=\"JUSTIN BIEBER album sales\">JUSTIN BIEBER</a></div><div class=\"sales\">Sales: 14,000,000</div><div class=\"rank_mobile\">Rankings:</div><div class=\"ranks_row\"><div class=\"ranks\"><a href=\"https://bestsellingalbums.org/year/2015\" title=\"Best-selling albums of 2015\"><span class=\"ranks_desc_art\">Rank in </span>2015</a> : 2</div><div class=\"ranks\"><a href=\"https://bestsellingalbums.org/decade/2010\" title=\"Best-selling albums of 2010's\"><span class=\"ranks_desc_art\">Rank in </span>2010's</a>: 5</div><div class=\"ranks\"><a href=\"https://bestsellingalbums.org/overall\" title=\"Best-selling albums of all time\">Overall<span class=\"ranks_desc_art\"> rank</span></a> : 146</div></div></div></div><div class=\"album_card\"><div class=\"rank\">6</div><div class=\"cover\"><img class=\"pic\" onerror=\"this.src='../includes/default.png';this.onerror='';\" src=\"../covers/12876.jpg\"/></div><div class=\"data_col\"><div class=\"album\"><a href=\"https://bestsellingalbums.org/album/12876\">DIVIDE</a></div><div class=\"artist\"><a href=\"https://bestsellingalbums.org/artist/3645\" title=\"ED SHEERAN album sales\">ED SHEERAN</a></div><div class=\"sales\">Sales: 13,787,460</div><div class=\"rank_mobile\">Rankings:</div><div class=\"ranks_row\"><div class=\"ranks\"><a href=\"https://bestsellingalbums.org/year/2017\" title=\"Best-selling albums of 2017\"><span class=\"ranks_desc_art\">Rank in </span>2017</a> : 1</div><div class=\"ranks\"><a href=\"https://bestsellingalbums.org/decade/2010\" title=\"Best-selling albums of 2010's\"><span class=\"ranks_desc_art\">Rank in </span>2010's</a>: 6</div><div class=\"ranks\"><a href=\"https://bestsellingalbums.org/overall\" title=\"Best-selling albums of all time\">Overall<span class=\"ranks_desc_art\"> rank</span></a> : 159</div></div></div></div><div class=\"album_card\"><div class=\"rank\">7</div><div class=\"cover\"><img class=\"pic\" onerror=\"this.src='../includes/default.png';this.onerror='';\" src=\"../covers/42961.jpg\"/></div><div class=\"data_col\"><div class=\"album\"><a href=\"https://bestsellingalbums.org/album/42961\">FROZEN</a></div><div class=\"artist\"><a href=\"https://bestsellingalbums.org/artist/12207\" title=\"SOUNDTRACK album sales\">SOUNDTRACK</a></div><div class=\"sales\">Sales: 12,632,083</div><div class=\"rank_mobile\">Rankings:</div><div class=\"ranks_row\"><div class=\"ranks\"><a href=\"https://bestsellingalbums.org/year/2013\" title=\"Best-selling albums of 2013\"><span class=\"ranks_desc_art\">Rank in </span>2013</a> : 1</div><div class=\"ranks\"><a href=\"https://bestsellingalbums.org/decade/2010\" title=\"Best-selling albums of 2010's\"><span class=\"ranks_desc_art\">Rank in </span>2010's</a>: 7</div><div class=\"ranks\"><a href=\"https://bestsellingalbums.org/overall\" title=\"Best-selling albums of all time\">Overall<span class=\"ranks_desc_art\"> rank</span></a> : 175</div></div></div></div><div class=\"album_card\"><div class=\"rank\">8</div><div class=\"cover\"><img class=\"pic\" onerror=\"this.src='../includes/default.png';this.onerror='';\" src=\"../covers/23977.jpg\"/></div><div class=\"data_col\"><div class=\"album\"><a href=\"https://bestsellingalbums.org/album/23977\">TEENAGE DREAM</a></div><div class=\"artist\"><a href=\"https://bestsellingalbums.org/artist/6828\" title=\"KATY PERRY album sales\">KATY PERRY</a></div><div class=\"sales\">Sales: 12,134,000</div><div class=\"rank_mobile\">Rankings:</div><div class=\"ranks_row\"><div class=\"ranks\"><a href=\"https://bestsellingalbums.org/year/2010\" title=\"Best-selling albums of 2010\"><span class=\"ranks_desc_art\">Rank in </span>2010</a> : 1</div><div class=\"ranks\"><a href=\"https://bestsellingalbums.org/decade/2010\" title=\"Best-selling albums of 2010's\"><span class=\"ranks_desc_art\">Rank in </span>2010's</a>: 8</div><div class=\"ranks\"><a href=\"https://bestsellingalbums.org/overall\" title=\"Best-selling albums of all time\">Overall<span class=\"ranks_desc_art\"> rank</span></a> : 185</div></div></div></div><div class=\"album_card\"><div class=\"rank\">9</div><div class=\"cover\"><img class=\"pic\" onerror=\"this.src='../includes/default.png';this.onerror='';\" src=\"../covers/12880.jpg\"/></div><div class=\"data_col\"><div class=\"album\"><a href=\"https://bestsellingalbums.org/album/12880\">X</a></div><div class=\"artist\"><a href=\"https://bestsellingalbums.org/artist/3645\" title=\"ED SHEERAN album sales\">ED SHEERAN</a></div><div class=\"sales\">Sales: 11,879,785</div><div class=\"rank_mobile\">Rankings:</div><div class=\"ranks_row\"><div class=\"ranks\"><a href=\"https://bestsellingalbums.org/year/2014\" title=\"Best-selling albums of 2014\"><span class=\"ranks_desc_art\">Rank in </span>2014</a> : 2</div><div class=\"ranks\"><a href=\"https://bestsellingalbums.org/decade/2010\" title=\"Best-selling albums of 2010's\"><span class=\"ranks_desc_art\">Rank in </span>2010's</a>: 9</div><div class=\"ranks\"><a href=\"https://bestsellingalbums.org/overall\" title=\"Best-selling albums of all time\">Overall<span class=\"ranks_desc_art\"> rank</span></a> : 205</div></div></div></div><div class=\"album_card\"><div class=\"rank\">10</div><div class=\"cover\"><img class=\"pic\" onerror=\"this.src='../includes/default.png';this.onerror='';\" src=\"../covers/6777.jpg\"/></div><div class=\"data_col\"><div class=\"album\"><a href=\"https://bestsellingalbums.org/album/6777\">DOO-WOPS &amp; HOOLIGANS</a></div><div class=\"artist\"><a href=\"https://bestsellingalbums.org/artist/1870\" title=\"BRUNO MARS album sales\">BRUNO MARS</a></div><div class=\"sales\">Sales: 11,270,000</div><div class=\"rank_mobile\">Rankings:</div><div class=\"ranks_row\"><div class=\"ranks\"><a href=\"https://bestsellingalbums.org/year/2010\" title=\"Best-selling albums of 2010\"><span class=\"ranks_desc_art\">Rank in </span>2010</a> : 2</div><div class=\"ranks\"><a href=\"https://bestsellingalbums.org/decade/2010\" title=\"Best-selling albums of 2010's\"><span class=\"ranks_desc_art\">Rank in </span>2010's</a>: 10</div><div class=\"ranks\"><a href=\"https://bestsellingalbums.org/overall\" title=\"Best-selling albums of all time\">Overall<span class=\"ranks_desc_art\"> rank</span></a> : 218</div></div></div></div><div class=\"album_card\"><div class=\"rank\">11</div><div class=\"cover\"><img class=\"pic\" onerror=\"this.src='../includes/default.png';this.onerror='';\" src=\"../covers/13756.jpg\"/></div><div class=\"data_col\"><div class=\"album\"><a href=\"https://bestsellingalbums.org/album/13756\">RECOVERY</a></div><div class=\"artist\"><a href=\"https://bestsellingalbums.org/artist/3873\" title=\"EMINEM album sales\">EMINEM</a></div><div class=\"sales\">Sales: 10,873,795</div><div class=\"rank_mobile\">Rankings:</div><div class=\"ranks_row\"><div class=\"ranks\"><a href=\"https://bestsellingalbums.org/year/2010\" title=\"Best-selling albums of 2010\"><span class=\"ranks_desc_art\">Rank in </span>2010</a> : 3</div><div class=\"ranks\"><a href=\"https://bestsellingalbums.org/decade/2010\" title=\"Best-selling albums of 2010's\"><span class=\"ranks_desc_art\">Rank in </span>2010's</a>: 11</div><div class=\"ranks\"><a href=\"https://bestsellingalbums.org/overall\" title=\"Best-selling albums of all time\">Overall<span class=\"ranks_desc_art\"> rank</span></a> : 232</div></div></div></div><div class=\"album_card\"><div class=\"rank\">12</div><div class=\"cover\"><img class=\"pic\" onerror=\"this.src='../includes/default.png';this.onerror='';\" src=\"../covers/19810.jpg\"/></div><div class=\"data_col\"><div class=\"album\"><a href=\"https://bestsellingalbums.org/album/19810\">NIGHT VISIONS</a></div><div class=\"artist\"><a href=\"https://bestsellingalbums.org/artist/5658\" title=\"IMAGINE DRAGONS album sales\">IMAGINE DRAGONS</a></div><div class=\"sales\">Sales: 9,616,263</div><div class=\"rank_mobile\">Rankings:</div><div class=\"ranks_row\"><div class=\"ranks\"><a href=\"https://bestsellingalbums.org/year/2012\" title=\"Best-selling albums of 2012\"><span class=\"ranks_desc_art\">Rank in </span>2012</a> : 1</div><div class=\"ranks\"><a href=\"https://bestsellingalbums.org/decade/2010\" title=\"Best-selling albums of 2010's\"><span class=\"ranks_desc_art\">Rank in </span>2010's</a>: 12</div><div class=\"ranks\"><a href=\"https://bestsellingalbums.org/overall\" title=\"Best-selling albums of all time\">Overall<span class=\"ranks_desc_art\"> rank</span></a> : 292</div></div></div></div><div class=\"album_card\"><div class=\"rank\">13</div><div class=\"cover\"><img class=\"pic\" onerror=\"this.src='../includes/default.png';this.onerror='';\" src=\"../covers/39978.jpg\"/></div><div class=\"data_col\"><div class=\"album\"><a href=\"https://bestsellingalbums.org/album/39978\">IN THE LONELY HOUR</a></div><div class=\"artist\"><a href=\"https://bestsellingalbums.org/artist/11437\" title=\"SAM SMITH album sales\">SAM SMITH</a></div><div class=\"sales\">Sales: 9,321,352</div><div class=\"rank_mobile\">Rankings:</div><div class=\"ranks_row\"><div class=\"ranks\"><a href=\"https://bestsellingalbums.org/year/2014\" title=\"Best-selling albums of 2014\"><span class=\"ranks_desc_art\">Rank in </span>2014</a> : 3</div><div class=\"ranks\"><a href=\"https://bestsellingalbums.org/decade/2010\" title=\"Best-selling albums of 2010's\"><span class=\"ranks_desc_art\">Rank in </span>2010's</a>: 13</div><div class=\"ranks\"><a href=\"https://bestsellingalbums.org/overall\" title=\"Best-selling albums of all time\">Overall<span class=\"ranks_desc_art\"> rank</span></a> : 302</div></div></div></div><div class=\"album_card\"><div class=\"rank\">14</div><div class=\"cover\"><img class=\"pic\" onerror=\"this.src='../includes/default.png';this.onerror='';\" src=\"../covers/6778.jpg\"/></div><div class=\"data_col\"><div class=\"album\"><a href=\"https://bestsellingalbums.org/album/6778\">UNORTHODOX JUKEBOX</a></div><div class=\"artist\"><a href=\"https://bestsellingalbums.org/artist/1870\" title=\"BRUNO MARS album sales\">BRUNO MARS</a></div><div class=\"sales\">Sales: 8,976,749</div><div class=\"rank_mobile\">Rankings:</div><div class=\"ranks_row\"><div class=\"ranks\"><a href=\"https://bestsellingalbums.org/year/2012\" title=\"Best-selling albums of 2012\"><span class=\"ranks_desc_art\">Rank in </span>2012</a> : 2</div><div class=\"ranks\"><a href=\"https://bestsellingalbums.org/decade/2010\" title=\"Best-selling albums of 2010's\"><span class=\"ranks_desc_art\">Rank in </span>2010's</a>: 14</div><div class=\"ranks\"><a href=\"https://bestsellingalbums.org/overall\" title=\"Best-selling albums of all time\">Overall<span class=\"ranks_desc_art\"> rank</span></a> : 315</div></div></div></div><div class=\"album_card\"><div class=\"rank\">15</div><div class=\"cover\"><img class=\"pic\" onerror=\"this.src='../includes/default.png';this.onerror='';\" src=\"../covers/45494.jpg\"/></div><div class=\"data_col\"><div class=\"album\"><a href=\"https://bestsellingalbums.org/album/45494\">RED</a></div><div class=\"artist\"><a href=\"https://bestsellingalbums.org/artist/12748\" title=\"TAYLOR SWIFT album sales\">TAYLOR SWIFT</a></div><div class=\"sales\">Sales: 8,889,124</div><div class=\"rank_mobile\">Rankings:</div><div class=\"ranks_row\"><div class=\"ranks\"><a href=\"https://bestsellingalbums.org/year/2012\" title=\"Best-selling albums of 2012\"><span class=\"ranks_desc_art\">Rank in </span>2012</a> : 3</div><div class=\"ranks\"><a href=\"https://bestsellingalbums.org/decade/2010\" title=\"Best-selling albums of 2010's\"><span class=\"ranks_desc_art\">Rank in </span>2010's</a>: 15</div><div class=\"ranks\"><a href=\"https://bestsellingalbums.org/overall\" title=\"Best-selling albums of all time\">Overall<span class=\"ranks_desc_art\"> rank</span></a> : 320</div></div></div></div><div class=\"album_card\"><div class=\"rank\">16</div><div class=\"cover\"><img class=\"pic\" onerror=\"this.src='../includes/default.png';this.onerror='';\" src=\"../covers/12875.jpg\"/></div><div class=\"data_col\"><div class=\"album\"><a href=\"https://bestsellingalbums.org/album/12875\">+</a></div><div class=\"artist\"><a href=\"https://bestsellingalbums.org/artist/3645\" title=\"ED SHEERAN album sales\">ED SHEERAN</a></div><div class=\"sales\">Sales: 7,705,000</div><div class=\"rank_mobile\">Rankings:</div><div class=\"ranks_row\"><div class=\"ranks\"><a href=\"https://bestsellingalbums.org/year/2011\" title=\"Best-selling albums of 2011\"><span class=\"ranks_desc_art\">Rank in </span>2011</a> : 3</div><div class=\"ranks\"><a href=\"https://bestsellingalbums.org/decade/2010\" title=\"Best-selling albums of 2010's\"><span class=\"ranks_desc_art\">Rank in </span>2010's</a>: 16</div><div class=\"ranks\"><a href=\"https://bestsellingalbums.org/overall\" title=\"Best-selling albums of all time\">Overall<span class=\"ranks_desc_art\"> rank</span></a> : 391</div></div></div></div><div class=\"album_card\"><div class=\"rank\">17</div><div class=\"cover\"><img class=\"pic\" onerror=\"this.src='../includes/default.png';this.onerror='';\" src=\"../covers/12457.jpg\"/></div><div class=\"data_col\"><div class=\"album\"><a href=\"https://bestsellingalbums.org/album/12457\">VIEWS</a></div><div class=\"artist\"><a href=\"https://bestsellingalbums.org/artist/3522\" title=\"DRAKE album sales\">DRAKE</a></div><div class=\"sales\">Sales: 7,687,247</div><div class=\"rank_mobile\">Rankings:</div><div class=\"ranks_row\"><div class=\"ranks\"><a href=\"https://bestsellingalbums.org/year/2016\" title=\"Best-selling albums of 2016\"><span class=\"ranks_desc_art\">Rank in </span>2016</a> : 1</div><div class=\"ranks\"><a href=\"https://bestsellingalbums.org/decade/2010\" title=\"Best-selling albums of 2010's\"><span class=\"ranks_desc_art\">Rank in </span>2010's</a>: 17</div><div class=\"ranks\"><a href=\"https://bestsellingalbums.org/overall\" title=\"Best-selling albums of all time\">Overall<span class=\"ranks_desc_art\"> rank</span></a> : 393</div></div></div></div><div class=\"album_card\"><div class=\"rank\">18</div><div class=\"cover\"><img class=\"pic\" onerror=\"this.src='../includes/default.png';this.onerror='';\" src=\"../covers/47839.jpg\"/></div><div class=\"data_col\"><div class=\"album\"><a href=\"https://bestsellingalbums.org/album/47839\">BEAUTY BEHIND THE MADNESS</a></div><div class=\"artist\"><a href=\"https://bestsellingalbums.org/artist/13284\" title=\"THE WEEKND album sales\">THE WEEKND</a></div><div class=\"sales\">Sales: 7,584,588</div><div class=\"rank_mobile\">Rankings:</div><div class=\"ranks_row\"><div class=\"ranks\"><a href=\"https://bestsellingalbums.org/year/2015\" title=\"Best-selling albums of 2015\"><span class=\"ranks_desc_art\">Rank in </span>2015</a> : 3</div><div class=\"ranks\"><a href=\"https://bestsellingalbums.org/decade/2010\" title=\"Best-selling albums of 2010's\"><span class=\"ranks_desc_art\">Rank in </span>2010's</a>: 18</div><div class=\"ranks\"><a href=\"https://bestsellingalbums.org/overall\" title=\"Best-selling albums of all time\">Overall<span class=\"ranks_desc_art\"> rank</span></a> : 397</div></div></div></div><div class=\"album_card\"><div class=\"rank\">19</div><div class=\"cover\"><img class=\"pic\" onerror=\"this.src='../includes/default.png';this.onerror='';\" src=\"../covers/5207.jpg\"/></div><div class=\"data_col\"><div class=\"album\"><a href=\"https://bestsellingalbums.org/album/5207\">WHEN WE ALL FALL ASLEEP, WHERE DO WE GO?</a></div><div class=\"artist\"><a href=\"https://bestsellingalbums.org/artist/1467\" title=\"BILLIE EILISH album sales\">BILLIE EILISH</a></div><div class=\"sales\">Sales: 7,256,516</div><div class=\"rank_mobile\">Rankings:</div><div class=\"ranks_row\"><div class=\"ranks\"><a href=\"https://bestsellingalbums.org/year/2019\" title=\"Best-selling albums of 2019\"><span class=\"ranks_desc_art\">Rank in </span>2019</a> : 1</div><div class=\"ranks\"><a href=\"https://bestsellingalbums.org/decade/2010\" title=\"Best-selling albums of 2010's\"><span class=\"ranks_desc_art\">Rank in </span>2010's</a>: 19</div><div class=\"ranks\"><a href=\"https://bestsellingalbums.org/overall\" title=\"Best-selling albums of all time\">Overall<span class=\"ranks_desc_art\"> rank</span></a> : 418</div></div></div></div><div class=\"album_card\"><div class=\"rank\">20</div><div class=\"cover\"><img class=\"pic\" onerror=\"this.src='../includes/default.png';this.onerror='';\" src=\"../covers/25786.jpg\"/></div><div class=\"data_col\"><div class=\"album\"><a href=\"https://bestsellingalbums.org/album/25786\">BORN THIS WAY</a></div><div class=\"artist\"><a href=\"https://bestsellingalbums.org/artist/7366\" title=\"LADY GAGA album sales\">LADY GAGA</a></div><div class=\"sales\">Sales: 7,166,944</div><div class=\"rank_mobile\">Rankings:</div><div class=\"ranks_row\"><div class=\"ranks\"><a href=\"https://bestsellingalbums.org/year/2011\" title=\"Best-selling albums of 2011\"><span class=\"ranks_desc_art\">Rank in </span>2011</a> : 4</div><div class=\"ranks\"><a href=\"https://bestsellingalbums.org/decade/2010\" title=\"Best-selling albums of 2010's\"><span class=\"ranks_desc_art\">Rank in </span>2010's</a>: 20</div><div class=\"ranks\"><a href=\"https://bestsellingalbums.org/overall\" title=\"Best-selling albums of all time\">Overall<span class=\"ranks_desc_art\"> rank</span></a> : 429</div></div></div></div><div class=\"album_card\"><div class=\"rank\">21</div><div class=\"cover\"><img class=\"pic\" onerror=\"this.src='../includes/default.png';this.onerror='';\" src=\"../covers/6859.jpg\"/></div><div class=\"data_col\"><div class=\"album\"><a href=\"https://bestsellingalbums.org/album/6859\">MAP OF THE SOUL: 7</a></div><div class=\"artist\"><a href=\"https://bestsellingalbums.org/artist/1884\" title=\"BTS (방탄소년단) album sales\">BTS (방탄소년단)</a></div><div class=\"sales\">Sales: 7,130,621</div><div class=\"rank_mobile\">Rankings:</div><div class=\"ranks_row\"><div class=\"ranks\"><a href=\"https://bestsellingalbums.org/year/2019\" title=\"Best-selling albums of 2019\"><span class=\"ranks_desc_art\">Rank in </span>2019</a> : 2</div><div class=\"ranks\"><a href=\"https://bestsellingalbums.org/decade/2010\" title=\"Best-selling albums of 2010's\"><span class=\"ranks_desc_art\">Rank in </span>2010's</a>: 21</div><div class=\"ranks\"><a href=\"https://bestsellingalbums.org/overall\" title=\"Best-selling albums of all time\">Overall<span class=\"ranks_desc_art\"> rank</span></a> : 431</div></div></div></div><div class=\"album_card\"><div class=\"rank\">22</div><div class=\"cover\"><img class=\"pic\" onerror=\"this.src='../includes/default.png';this.onerror='';\" src=\"../covers/36763.jpg\"/></div><div class=\"data_col\"><div class=\"album\"><a href=\"https://bestsellingalbums.org/album/36763\">BEERBONGS &amp; BENTLEYS</a></div><div class=\"artist\"><a href=\"https://bestsellingalbums.org/artist/10563\" title=\"POST MALONE album sales\">POST MALONE</a></div><div class=\"sales\">Sales: 7,116,118</div><div class=\"rank_mobile\">Rankings:</div><div class=\"ranks_row\"><div class=\"ranks\"><a href=\"https://bestsellingalbums.org/year/2018\" title=\"Best-selling albums of 2018\"><span class=\"ranks_desc_art\">Rank in </span>2018</a> : 1</div><div class=\"ranks\"><a href=\"https://bestsellingalbums.org/decade/2010\" title=\"Best-selling albums of 2010's\"><span class=\"ranks_desc_art\">Rank in </span>2010's</a>: 22</div><div class=\"ranks\"><a href=\"https://bestsellingalbums.org/overall\" title=\"Best-selling albums of all time\">Overall<span class=\"ranks_desc_art\"> rank</span></a> : 432</div></div></div></div><div class=\"album_card\"><div class=\"rank\">23</div><div class=\"cover\"><img class=\"pic\" onerror=\"this.src='../includes/default.png';this.onerror='';\" src=\"../covers/12455.jpg\"/></div><div class=\"data_col\"><div class=\"album\"><a href=\"https://bestsellingalbums.org/album/12455\">TAKE CARE</a></div><div class=\"artist\"><a href=\"https://bestsellingalbums.org/artist/3522\" title=\"DRAKE album sales\">DRAKE</a></div><div class=\"sales\">Sales: 6,920,000</div><div class=\"rank_mobile\">Rankings:</div><div class=\"ranks_row\"><div class=\"ranks\"><a href=\"https://bestsellingalbums.org/year/2011\" title=\"Best-selling albums of 2011\"><span class=\"ranks_desc_art\">Rank in </span>2011</a> : 5</div><div class=\"ranks\"><a href=\"https://bestsellingalbums.org/decade/2010\" title=\"Best-selling albums of 2010's\"><span class=\"ranks_desc_art\">Rank in </span>2010's</a>: 23</div><div class=\"ranks\"><a href=\"https://bestsellingalbums.org/overall\" title=\"Best-selling albums of all time\">Overall<span class=\"ranks_desc_art\"> rank</span></a> : 473</div></div></div></div><div class=\"album_card\"><div class=\"rank\">24</div><div class=\"cover\"><img class=\"pic\" onerror=\"this.src='../includes/default.png';this.onerror='';\" src=\"../covers/45496.jpg\"/></div><div class=\"data_col\"><div class=\"album\"><a href=\"https://bestsellingalbums.org/album/45496\">SPEAK NOW</a></div><div class=\"artist\"><a href=\"https://bestsellingalbums.org/artist/12748\" title=\"TAYLOR SWIFT album sales\">TAYLOR SWIFT</a></div><div class=\"sales\">Sales: 6,917,500</div><div class=\"rank_mobile\">Rankings:</div><div class=\"ranks_row\"><div class=\"ranks\"><a href=\"https://bestsellingalbums.org/year/2010\" title=\"Best-selling albums of 2010\"><span class=\"ranks_desc_art\">Rank in </span>2010</a> : 4</div><div class=\"ranks\"><a href=\"https://bestsellingalbums.org/decade/2010\" title=\"Best-selling albums of 2010's\"><span class=\"ranks_desc_art\">Rank in </span>2010's</a>: 24</div><div class=\"ranks\"><a href=\"https://bestsellingalbums.org/overall\" title=\"Best-selling albums of all time\">Overall<span class=\"ranks_desc_art\"> rank</span></a> : 475</div></div></div></div><div class=\"album_card\"><div class=\"rank\">25</div><div class=\"cover\"><img class=\"pic\" onerror=\"this.src='../includes/default.png';this.onerror='';\" src=\"../covers/23975.jpg\"/></div><div class=\"data_col\"><div class=\"album\"><a href=\"https://bestsellingalbums.org/album/23975\">PRISM</a></div><div class=\"artist\"><a href=\"https://bestsellingalbums.org/artist/6828\" title=\"KATY PERRY album sales\">KATY PERRY</a></div><div class=\"sales\">Sales: 6,692,500</div><div class=\"rank_mobile\">Rankings:</div><div class=\"ranks_row\"><div class=\"ranks\"><a href=\"https://bestsellingalbums.org/year/2013\" title=\"Best-selling albums of 2013\"><span class=\"ranks_desc_art\">Rank in </span>2013</a> : 2</div><div class=\"ranks\"><a href=\"https://bestsellingalbums.org/decade/2010\" title=\"Best-selling albums of 2010's\"><span class=\"ranks_desc_art\">Rank in </span>2010's</a>: 25</div><div class=\"ranks\"><a href=\"https://bestsellingalbums.org/overall\" title=\"Best-selling albums of all time\">Overall<span class=\"ranks_desc_art\"> rank</span></a> : 488</div></div></div></div><div class=\"album_card\"><div class=\"rank\">26</div><div class=\"cover\"><img class=\"pic\" onerror=\"this.src='../includes/default.png';this.onerror='';\" src=\"../covers/25846.jpg\"/></div><div class=\"data_col\"><div class=\"album\"><a href=\"https://bestsellingalbums.org/album/25846\">BORN TO DIE</a></div><div class=\"artist\"><a href=\"https://bestsellingalbums.org/artist/7396\" title=\"LANA DEL REY album sales\">LANA DEL REY</a></div><div class=\"sales\">Sales: 6,674,983</div><div class=\"rank_mobile\">Rankings:</div><div class=\"ranks_row\"><div class=\"ranks\"><a href=\"https://bestsellingalbums.org/year/2012\" title=\"Best-selling albums of 2012\"><span class=\"ranks_desc_art\">Rank in </span>2012</a> : 4</div><div class=\"ranks\"><a href=\"https://bestsellingalbums.org/decade/2010\" title=\"Best-selling albums of 2010's\"><span class=\"ranks_desc_art\">Rank in </span>2010's</a>: 26</div><div class=\"ranks\"><a href=\"https://bestsellingalbums.org/overall\" title=\"Best-selling albums of all time\">Overall<span class=\"ranks_desc_art\"> rank</span></a> : 490</div></div></div></div><div class=\"album_card\"><div class=\"rank\">27</div><div class=\"cover\"><img class=\"pic\" onerror=\"this.src='../includes/default.png';this.onerror='';\" src=\"../covers/38507.jpg\"/></div><div class=\"data_col\"><div class=\"album\"><a href=\"https://bestsellingalbums.org/album/38507\">LOUD</a></div><div class=\"artist\"><a href=\"https://bestsellingalbums.org/artist/11044\" title=\"RIHANNA album sales\">RIHANNA</a></div><div class=\"sales\">Sales: 6,673,000</div><div class=\"rank_mobile\">Rankings:</div><div class=\"ranks_row\"><div class=\"ranks\"><a href=\"https://bestsellingalbums.org/year/2010\" title=\"Best-selling albums of 2010\"><span class=\"ranks_desc_art\">Rank in </span>2010</a> : 5</div><div class=\"ranks\"><a href=\"https://bestsellingalbums.org/decade/2010\" title=\"Best-selling albums of 2010's\"><span class=\"ranks_desc_art\">Rank in </span>2010's</a>: 27</div><div class=\"ranks\"><a href=\"https://bestsellingalbums.org/overall\" title=\"Best-selling albums of all time\">Overall<span class=\"ranks_desc_art\"> rank</span></a> : 492</div></div></div></div><div class=\"album_card\"><div class=\"rank\">28</div><div class=\"cover\"><img class=\"pic\" onerror=\"this.src='../includes/default.png';this.onerror='';\" src=\"../covers/38505.jpg\"/></div><div class=\"data_col\"><div class=\"album\"><a href=\"https://bestsellingalbums.org/album/38505\">ANTI</a></div><div class=\"artist\"><a href=\"https://bestsellingalbums.org/artist/11044\" title=\"RIHANNA album sales\">RIHANNA</a></div><div class=\"sales\">Sales: 6,537,235</div><div class=\"rank_mobile\">Rankings:</div><div class=\"ranks_row\"><div class=\"ranks\"><a href=\"https://bestsellingalbums.org/year/2016\" title=\"Best-selling albums of 2016\"><span class=\"ranks_desc_art\">Rank in </span>2016</a> : 2</div><div class=\"ranks\"><a href=\"https://bestsellingalbums.org/decade/2010\" title=\"Best-selling albums of 2010's\"><span class=\"ranks_desc_art\">Rank in </span>2010's</a>: 28</div><div class=\"ranks\"><a href=\"https://bestsellingalbums.org/overall\" title=\"Best-selling albums of all time\">Overall<span class=\"ranks_desc_art\"> rank</span></a> : 502</div></div></div></div><div class=\"album_card\"><div class=\"rank\">29</div><div class=\"cover\"><img class=\"pic\" onerror=\"this.src='../includes/default.png';this.onerror='';\" src=\"../covers/49504.jpg\"/></div><div class=\"data_col\"><div class=\"album\"><a href=\"https://bestsellingalbums.org/album/49504\">BLURRYFACE</a></div><div class=\"artist\"><a href=\"https://bestsellingalbums.org/artist/13754\" title=\"TWENTY ONE PILOTS album sales\">TWENTY ONE PILOTS</a></div><div class=\"sales\">Sales: 6,500,000</div><div class=\"rank_mobile\">Rankings:</div><div class=\"ranks_row\"><div class=\"ranks\"><a href=\"https://bestsellingalbums.org/year/2015\" title=\"Best-selling albums of 2015\"><span class=\"ranks_desc_art\">Rank in </span>2015</a> : 4</div><div class=\"ranks\"><a href=\"https://bestsellingalbums.org/decade/2010\" title=\"Best-selling albums of 2010's\"><span class=\"ranks_desc_art\">Rank in </span>2010's</a>: 29</div><div class=\"ranks\"><a href=\"https://bestsellingalbums.org/overall\" title=\"Best-selling albums of all time\">Overall<span class=\"ranks_desc_art\"> rank</span></a> : 509</div></div></div></div><div class=\"album_card\"><div class=\"rank\">30</div><div class=\"cover\"><img class=\"pic\" onerror=\"this.src='../includes/default.png';this.onerror='';\" src=\"../covers/36764.jpg\"/></div><div class=\"data_col\"><div class=\"album\"><a href=\"https://bestsellingalbums.org/album/36764\">HOLLYWOOD'S BLEEDING</a></div><div class=\"artist\"><a href=\"https://bestsellingalbums.org/artist/10563\" title=\"POST MALONE album sales\">POST MALONE</a></div><div class=\"sales\">Sales: 6,461,665</div><div class=\"rank_mobile\">Rankings:</div><div class=\"ranks_row\"><div class=\"ranks\"><a href=\"https://bestsellingalbums.org/year/2019\" title=\"Best-selling albums of 2019\"><span class=\"ranks_desc_art\">Rank in </span>2019</a> : 3</div><div class=\"ranks\"><a href=\"https://bestsellingalbums.org/decade/2010\" title=\"Best-selling albums of 2010's\"><span class=\"ranks_desc_art\">Rank in </span>2010's</a>: 30</div><div class=\"ranks\"><a href=\"https://bestsellingalbums.org/overall\" title=\"Best-selling albums of all time\">Overall<span class=\"ranks_desc_art\"> rank</span></a> : 522</div></div></div></div><div class=\"album_card\"><div class=\"rank\">31</div><div class=\"cover\"><img class=\"pic\" onerror=\"this.src='../includes/default.png';this.onerror='';\" src=\"../covers/12453.jpg\"/></div><div class=\"data_col\"><div class=\"album\"><a href=\"https://bestsellingalbums.org/album/12453\">SCORPION</a></div><div class=\"artist\"><a href=\"https://bestsellingalbums.org/artist/3522\" title=\"DRAKE album sales\">DRAKE</a></div><div class=\"sales\">Sales: 6,433,983</div><div class=\"rank_mobile\">Rankings:</div><div class=\"ranks_row\"><div class=\"ranks\"><a href=\"https://bestsellingalbums.org/year/2018\" title=\"Best-selling albums of 2018\"><span class=\"ranks_desc_art\">Rank in </span>2018</a> : 2</div><div class=\"ranks\"><a href=\"https://bestsellingalbums.org/decade/2010\" title=\"Best-selling albums of 2010's\"><span class=\"ranks_desc_art\">Rank in </span>2010's</a>: 31</div><div class=\"ranks\"><a href=\"https://bestsellingalbums.org/overall\" title=\"Best-selling albums of all time\">Overall<span class=\"ranks_desc_art\"> rank</span></a> : 525</div></div></div></div><div class=\"album_card\"><div class=\"rank\">32</div><div class=\"cover\"><img class=\"pic\" onerror=\"this.src='../includes/default.png';this.onerror='';\" src=\"../covers/36765.jpg\"/></div><div class=\"data_col\"><div class=\"album\"><a href=\"https://bestsellingalbums.org/album/36765\">STONEY</a></div><div class=\"artist\"><a href=\"https://bestsellingalbums.org/artist/10563\" title=\"POST MALONE album sales\">POST MALONE</a></div><div class=\"sales\">Sales: 6,371,355</div><div class=\"rank_mobile\">Rankings:</div><div class=\"ranks_row\"><div class=\"ranks\"><a href=\"https://bestsellingalbums.org/year/2016\" title=\"Best-selling albums of 2016\"><span class=\"ranks_desc_art\">Rank in </span>2016</a> : 3</div><div class=\"ranks\"><a href=\"https://bestsellingalbums.org/decade/2010\" title=\"Best-selling albums of 2010's\"><span class=\"ranks_desc_art\">Rank in </span>2010's</a>: 32</div><div class=\"ranks\"><a href=\"https://bestsellingalbums.org/overall\" title=\"Best-selling albums of all time\">Overall<span class=\"ranks_desc_art\"> rank</span></a> : 534</div></div></div></div><div class=\"album_card\"><div class=\"rank\">33</div><div class=\"cover\"><img class=\"pic\" onerror=\"this.src='../includes/default.png';this.onerror='';\" src=\"../covers/34460.jpg\"/></div><div class=\"data_col\"><div class=\"album\"><a href=\"https://bestsellingalbums.org/album/34460\">TAKE ME HOME</a></div><div class=\"artist\"><a href=\"https://bestsellingalbums.org/artist/9852\" title=\"ONE DIRECTION album sales\">ONE DIRECTION</a></div><div class=\"sales\">Sales: 6,334,619</div><div class=\"rank_mobile\">Rankings:</div><div class=\"ranks_row\"><div class=\"ranks\"><a href=\"https://bestsellingalbums.org/year/2012\" title=\"Best-selling albums of 2012\"><span class=\"ranks_desc_art\">Rank in </span>2012</a> : 5</div><div class=\"ranks\"><a href=\"https://bestsellingalbums.org/decade/2010\" title=\"Best-selling albums of 2010's\"><span class=\"ranks_desc_art\">Rank in </span>2010's</a>: 33</div><div class=\"ranks\"><a href=\"https://bestsellingalbums.org/overall\" title=\"Best-selling albums of all time\">Overall<span class=\"ranks_desc_art\"> rank</span></a> : 540</div></div></div></div><div class=\"album_card\"><div class=\"rank\">34</div><div class=\"cover\"><img class=\"pic\" onerror=\"this.src='../includes/default.png';this.onerror='';\" src=\"../covers/43568.jpg\"/></div><div class=\"data_col\"><div class=\"album\"><a href=\"https://bestsellingalbums.org/album/43568\">THE GREATEST SHOWMAN</a></div><div class=\"artist\"><a href=\"https://bestsellingalbums.org/artist/12207\" title=\"SOUNDTRACK album sales\">SOUNDTRACK</a></div><div class=\"sales\">Sales: 6,318,119</div><div class=\"rank_mobile\">Rankings:</div><div class=\"ranks_row\"><div class=\"ranks\"><a href=\"https://bestsellingalbums.org/year/2017\" title=\"Best-selling albums of 2017\"><span class=\"ranks_desc_art\">Rank in </span>2017</a> : 2</div><div class=\"ranks\"><a href=\"https://bestsellingalbums.org/decade/2010\" title=\"Best-selling albums of 2010's\"><span class=\"ranks_desc_art\">Rank in </span>2010's</a>: 34</div><div class=\"ranks\"><a href=\"https://bestsellingalbums.org/overall\" title=\"Best-selling albums of all time\">Overall<span class=\"ranks_desc_art\"> rank</span></a> : 542</div></div></div></div><div class=\"album_card\"><div class=\"rank\">35</div><div class=\"cover\"><img class=\"pic\" onerror=\"this.src='../includes/default.png';this.onerror='';\" src=\"../covers/4969.jpg\"/></div><div class=\"data_col\"><div class=\"album\"><a href=\"https://bestsellingalbums.org/album/4969\">BEYONCÉ</a></div><div class=\"artist\"><a href=\"https://bestsellingalbums.org/artist/1402\" title=\"BEYONCÉ album sales\">BEYONCÉ</a></div><div class=\"sales\">Sales: 6,290,833</div><div class=\"rank_mobile\">Rankings:</div><div class=\"ranks_row\"><div class=\"ranks\"><a href=\"https://bestsellingalbums.org/year/2013\" title=\"Best-selling albums of 2013\"><span class=\"ranks_desc_art\">Rank in </span>2013</a> : 3</div><div class=\"ranks\"><a href=\"https://bestsellingalbums.org/decade/2010\" title=\"Best-selling albums of 2010's\"><span class=\"ranks_desc_art\">Rank in </span>2010's</a>: 35</div><div class=\"ranks\"><a href=\"https://bestsellingalbums.org/overall\" title=\"Best-selling albums of all time\">Overall<span class=\"ranks_desc_art\"> rank</span></a> : 548</div></div></div></div><div class=\"album_card\"><div class=\"rank\">36</div><div class=\"cover\"><img class=\"pic\" onerror=\"this.src='../includes/default.png';this.onerror='';\" src=\"../covers/34874.jpg\"/></div><div class=\"data_col\"><div class=\"album\"><a href=\"https://bestsellingalbums.org/album/34874\">THE TRUTH ABOUT LOVE</a></div><div class=\"artist\"><a href=\"https://bestsellingalbums.org/artist/10001\" title=\"P!NK album sales\">P!NK</a></div><div class=\"sales\">Sales: 6,231,084</div><div class=\"rank_mobile\">Rankings:</div><div class=\"ranks_row\"><div class=\"ranks\"><a href=\"https://bestsellingalbums.org/year/2012\" title=\"Best-selling albums of 2012\"><span class=\"ranks_desc_art\">Rank in </span>2012</a> : 6</div><div class=\"ranks\"><a href=\"https://bestsellingalbums.org/decade/2010\" title=\"Best-selling albums of 2010's\"><span class=\"ranks_desc_art\">Rank in </span>2010's</a>: 36</div><div class=\"ranks\"><a href=\"https://bestsellingalbums.org/overall\" title=\"Best-selling albums of all time\">Overall<span class=\"ranks_desc_art\"> rank</span></a> : 556</div></div></div></div><div class=\"album_card\"><div class=\"rank\">37</div><div class=\"cover\"><img class=\"pic\" onerror=\"this.src='../includes/default.png';this.onerror='';\" src=\"../covers/45495.jpg\"/></div><div class=\"data_col\"><div class=\"album\"><a href=\"https://bestsellingalbums.org/album/45495\">REPUTATION</a></div><div class=\"artist\"><a href=\"https://bestsellingalbums.org/artist/12748\" title=\"TAYLOR SWIFT album sales\">TAYLOR SWIFT</a></div><div class=\"sales\">Sales: 6,186,524</div><div class=\"rank_mobile\">Rankings:</div><div class=\"ranks_row\"><div class=\"ranks\"><a href=\"https://bestsellingalbums.org/year/2017\" title=\"Best-selling albums of 2017\"><span class=\"ranks_desc_art\">Rank in </span>2017</a> : 3</div><div class=\"ranks\"><a href=\"https://bestsellingalbums.org/decade/2010\" title=\"Best-selling albums of 2010's\"><span class=\"ranks_desc_art\">Rank in </span>2010's</a>: 37</div><div class=\"ranks\"><a href=\"https://bestsellingalbums.org/overall\" title=\"Best-selling albums of all time\">Overall<span class=\"ranks_desc_art\"> rank</span></a> : 563</div></div></div></div><div class=\"album_card\"><div class=\"rank\">38</div><div class=\"cover\"><img class=\"pic\" onerror=\"this.src='../includes/default.png';this.onerror='';\" src=\"../covers/56027.jpg\"/></div><div class=\"data_col\"><div class=\"album\"><a href=\"https://bestsellingalbums.org/album/56027\">?</a></div><div class=\"artist\"><a href=\"https://bestsellingalbums.org/artist/14362\" title=\"XXXTENTACION album sales\">XXXTENTACION</a></div><div class=\"sales\">Sales: 6,182,852</div><div class=\"rank_mobile\">Rankings:</div><div class=\"ranks_row\"><div class=\"ranks\"><a href=\"https://bestsellingalbums.org/year/2018\" title=\"Best-selling albums of 2018\"><span class=\"ranks_desc_art\">Rank in </span>2018</a> : 3</div><div class=\"ranks\"><a href=\"https://bestsellingalbums.org/decade/2010\" title=\"Best-selling albums of 2010's\"><span class=\"ranks_desc_art\">Rank in </span>2010's</a>: 38</div><div class=\"ranks\"><a href=\"https://bestsellingalbums.org/overall\" title=\"Best-selling albums of all time\">Overall<span class=\"ranks_desc_art\"> rank</span></a> : 564</div></div></div></div><div class=\"album_card\"><div class=\"rank\">39</div><div class=\"cover\"><img class=\"pic\" onerror=\"this.src='../includes/default.png';this.onerror='';\" src=\"../covers/8686.jpg\"/></div><div class=\"data_col\"><div class=\"album\"><a href=\"https://bestsellingalbums.org/album/8686\">TRAVELLER</a></div><div class=\"artist\"><a href=\"https://bestsellingalbums.org/artist/2405\" title=\"CHRIS STAPLETON album sales\">CHRIS STAPLETON</a></div><div class=\"sales\">Sales: 6,157,000</div><div class=\"rank_mobile\">Rankings:</div><div class=\"ranks_row\"><div class=\"ranks\"><a href=\"https://bestsellingalbums.org/year/2015\" title=\"Best-selling albums of 2015\"><span class=\"ranks_desc_art\">Rank in </span>2015</a> : 5</div><div class=\"ranks\"><a href=\"https://bestsellingalbums.org/decade/2010\" title=\"Best-selling albums of 2010's\"><span class=\"ranks_desc_art\">Rank in </span>2010's</a>: 39</div><div class=\"ranks\"><a href=\"https://bestsellingalbums.org/overall\" title=\"Best-selling albums of all time\">Overall<span class=\"ranks_desc_art\"> rank</span></a> : 568</div></div></div></div><div class=\"album_card\"><div class=\"rank\">40</div><div class=\"cover\"><img class=\"pic\" onerror=\"this.src='../includes/default.png';this.onerror='';\" src=\"../covers/47843.jpg\"/></div><div class=\"data_col\"><div class=\"album\"><a href=\"https://bestsellingalbums.org/album/47843\">STARBOY</a></div><div class=\"artist\"><a href=\"https://bestsellingalbums.org/artist/13284\" title=\"THE WEEKND album sales\">THE WEEKND</a></div><div class=\"sales\">Sales: 6,070,666</div><div class=\"rank_mobile\">Rankings:</div><div class=\"ranks_row\"><div class=\"ranks\"><a href=\"https://bestsellingalbums.org/year/2016\" title=\"Best-selling albums of 2016\"><span class=\"ranks_desc_art\">Rank in </span>2016</a> : 4</div><div class=\"ranks\"><a href=\"https://bestsellingalbums.org/decade/2010\" title=\"Best-selling albums of 2010's\"><span class=\"ranks_desc_art\">Rank in </span>2010's</a>: 40</div><div class=\"ranks\"><a href=\"https://bestsellingalbums.org/overall\" title=\"Best-selling albums of all time\">Overall<span class=\"ranks_desc_art\"> rank</span></a> : 575</div></div></div></div><div class=\"album_card\"><div class=\"rank\">41</div><div class=\"cover\"><img class=\"pic\" onerror=\"this.src='../includes/default.png';this.onerror='';\" src=\"../covers/34461.jpg\"/></div><div class=\"data_col\"><div class=\"album\"><a href=\"https://bestsellingalbums.org/album/34461\">UP ALL NIGHT</a></div><div class=\"artist\"><a href=\"https://bestsellingalbums.org/artist/9852\" title=\"ONE DIRECTION album sales\">ONE DIRECTION</a></div><div class=\"sales\">Sales: 6,046,188</div><div class=\"rank_mobile\">Rankings:</div><div class=\"ranks_row\"><div class=\"ranks\"><a href=\"https://bestsellingalbums.org/year/2011\" title=\"Best-selling albums of 2011\"><span class=\"ranks_desc_art\">Rank in </span>2011</a> : 6</div><div class=\"ranks\"><a href=\"https://bestsellingalbums.org/decade/2010\" title=\"Best-selling albums of 2010's\"><span class=\"ranks_desc_art\">Rank in </span>2010's</a>: 41</div><div class=\"ranks\"><a href=\"https://bestsellingalbums.org/overall\" title=\"Best-selling albums of all time\">Overall<span class=\"ranks_desc_art\"> rank</span></a> : 579</div></div></div></div><div class=\"album_card\"><div class=\"rank\">42</div><div class=\"cover\"><img class=\"pic\" onerror=\"this.src='../includes/default.png';this.onerror='';\" src=\"../covers/34459.jpg\"/></div><div class=\"data_col\"><div class=\"album\"><a href=\"https://bestsellingalbums.org/album/34459\">MIDNIGHT MEMORIES</a></div><div class=\"artist\"><a href=\"https://bestsellingalbums.org/artist/9852\" title=\"ONE DIRECTION album sales\">ONE DIRECTION</a></div><div class=\"sales\">Sales: 6,020,087</div><div class=\"rank_mobile\">Rankings:</div><div class=\"ranks_row\"><div class=\"ranks\"><a href=\"https://bestsellingalbums.org/year/2013\" title=\"Best-selling albums of 2013\"><span class=\"ranks_desc_art\">Rank in </span>2013</a> : 4</div><div class=\"ranks\"><a href=\"https://bestsellingalbums.org/decade/2010\" title=\"Best-selling albums of 2010's\"><span class=\"ranks_desc_art\">Rank in </span>2010's</a>: 42</div><div class=\"ranks\"><a href=\"https://bestsellingalbums.org/overall\" title=\"Best-selling albums of all time\">Overall<span class=\"ranks_desc_art\"> rank</span></a> : 583</div></div></div></div><div class=\"album_card\"><div class=\"rank\">43</div><div class=\"cover\"><img class=\"pic\" onerror=\"this.src='../includes/default.png';this.onerror='';\" src=\"../covers/6860.jpg\"/></div><div class=\"data_col\"><div class=\"album\"><a href=\"https://bestsellingalbums.org/album/6860\">MAP OF THE SOUL: PERSONA</a></div><div class=\"artist\"><a href=\"https://bestsellingalbums.org/artist/1884\" title=\"BTS (방탄소년단) album sales\">BTS (방탄소년단)</a></div><div class=\"sales\">Sales: 6,010,031</div><div class=\"rank_mobile\">Rankings:</div><div class=\"ranks_row\"><div class=\"ranks\"><a href=\"https://bestsellingalbums.org/year/2019\" title=\"Best-selling albums of 2019\"><span class=\"ranks_desc_art\">Rank in </span>2019</a> : 4</div><div class=\"ranks\"><a href=\"https://bestsellingalbums.org/decade/2010\" title=\"Best-selling albums of 2010's\"><span class=\"ranks_desc_art\">Rank in </span>2010's</a>: 43</div><div class=\"ranks\"><a href=\"https://bestsellingalbums.org/overall\" title=\"Best-selling albums of all time\">Overall<span class=\"ranks_desc_art\"> rank</span></a> : 584</div></div></div></div><div class=\"album_card\"><div class=\"rank\">44</div><div class=\"cover\"><img class=\"pic\" onerror=\"this.src='../includes/default.png';this.onerror='';\" src=\"../covers/23018.jpg\"/></div><div class=\"data_col\"><div class=\"album\"><a href=\"https://bestsellingalbums.org/album/23018\">GOODBYE &amp; GOOD RIDDANCE</a></div><div class=\"artist\"><a href=\"https://bestsellingalbums.org/artist/6559\" title=\"JUICE WRLD album sales\">JUICE WRLD</a></div><div class=\"sales\">Sales: 6,002,713</div><div class=\"rank_mobile\">Rankings:</div><div class=\"ranks_row\"><div class=\"ranks\"><a href=\"https://bestsellingalbums.org/year/2018\" title=\"Best-selling albums of 2018\"><span class=\"ranks_desc_art\">Rank in </span>2018</a> : 4</div><div class=\"ranks\"><a href=\"https://bestsellingalbums.org/decade/2010\" title=\"Best-selling albums of 2010's\"><span class=\"ranks_desc_art\">Rank in </span>2010's</a>: 44</div><div class=\"ranks\"><a href=\"https://bestsellingalbums.org/overall\" title=\"Best-selling albums of all time\">Overall<span class=\"ranks_desc_art\"> rank</span></a> : 585</div></div></div></div><div class=\"album_card\"><div class=\"rank\">45</div><div class=\"cover\"><img class=\"pic\" onerror=\"this.src='../includes/default.png';this.onerror='';\" src=\"../covers/9346.jpg\"/></div><div class=\"data_col\"><div class=\"album\"><a href=\"https://bestsellingalbums.org/album/9346\">A HEAD FULL OF DREAMS</a></div><div class=\"artist\"><a href=\"https://bestsellingalbums.org/artist/2587\" title=\"COLDPLAY album sales\">COLDPLAY</a></div><div class=\"sales\">Sales: 6,000,000</div><div class=\"rank_mobile\">Rankings:</div><div class=\"ranks_row\"><div class=\"ranks\"><a href=\"https://bestsellingalbums.org/year/2015\" title=\"Best-selling albums of 2015\"><span class=\"ranks_desc_art\">Rank in </span>2015</a> : 6</div><div class=\"ranks\"><a href=\"https://bestsellingalbums.org/decade/2010\" title=\"Best-selling albums of 2010's\"><span class=\"ranks_desc_art\">Rank in </span>2010's</a>: 45</div><div class=\"ranks\"><a href=\"https://bestsellingalbums.org/overall\" title=\"Best-selling albums of all time\">Overall<span class=\"ranks_desc_art\"> rank</span></a> : 586</div></div></div></div><div class=\"album_card\"><div class=\"rank\">46</div><div class=\"cover\"><img class=\"pic\" onerror=\"this.src='../includes/default.png';this.onerror='';\" src=\"../covers/28330.jpg\"/></div><div class=\"data_col\"><div class=\"album\"><a href=\"https://bestsellingalbums.org/album/28330\">THE HEIST</a></div><div class=\"artist\"><a href=\"https://bestsellingalbums.org/artist/8171\" title=\"MACKLEMORE album sales\">MACKLEMORE</a> &amp; <a href=\"https://bestsellingalbums.org/artist/8172\" title=\"RYAN LEWIS album sales\">RYAN LEWIS</a></div><div class=\"sales\">Sales: 5,858,500</div><div class=\"rank_mobile\">Rankings:</div><div class=\"ranks_row\"><div class=\"ranks\"><a href=\"https://bestsellingalbums.org/year/2012\" title=\"Best-selling albums of 2012\"><span class=\"ranks_desc_art\">Rank in </span>2012</a> : 7</div><div class=\"ranks\"><a href=\"https://bestsellingalbums.org/decade/2010\" title=\"Best-selling albums of 2010's\"><span class=\"ranks_desc_art\">Rank in </span>2010's</a>: 46</div><div class=\"ranks\"><a href=\"https://bestsellingalbums.org/overall\" title=\"Best-selling albums of all time\">Overall<span class=\"ranks_desc_art\"> rank</span></a> : 631</div></div></div></div><div class=\"album_card\"><div class=\"rank\">47</div><div class=\"cover\"><img class=\"pic\" onerror=\"this.src='../includes/default.png';this.onerror='';\" src=\"../covers/13762.jpg\"/></div><div class=\"data_col\"><div class=\"album\"><a href=\"https://bestsellingalbums.org/album/13762\">THE MARSHALL MATHERS LP 2</a></div><div class=\"artist\"><a href=\"https://bestsellingalbums.org/artist/3873\" title=\"EMINEM album sales\">EMINEM</a></div><div class=\"sales\">Sales: 5,790,318</div><div class=\"rank_mobile\">Rankings:</div><div class=\"ranks_row\"><div class=\"ranks\"><a href=\"https://bestsellingalbums.org/year/2013\" title=\"Best-selling albums of 2013\"><span class=\"ranks_desc_art\">Rank in </span>2013</a> : 5</div><div class=\"ranks\"><a href=\"https://bestsellingalbums.org/decade/2010\" title=\"Best-selling albums of 2010's\"><span class=\"ranks_desc_art\">Rank in </span>2010's</a>: 47</div><div class=\"ranks\"><a href=\"https://bestsellingalbums.org/overall\" title=\"Best-selling albums of all time\">Overall<span class=\"ranks_desc_art\"> rank</span></a> : 638</div></div></div></div><div class=\"album_card\"><div class=\"rank\">48</div><div class=\"cover\"><img class=\"pic\" onerror=\"this.src='../includes/default.png';this.onerror='';\" src=\"../covers/45493.jpg\"/></div><div class=\"data_col\"><div class=\"album\"><a href=\"https://bestsellingalbums.org/album/45493\">LOVER</a></div><div class=\"artist\"><a href=\"https://bestsellingalbums.org/artist/12748\" title=\"TAYLOR SWIFT album sales\">TAYLOR SWIFT</a></div><div class=\"sales\">Sales: 5,686,733</div><div class=\"rank_mobile\">Rankings:</div><div class=\"ranks_row\"><div class=\"ranks\"><a href=\"https://bestsellingalbums.org/year/2019\" title=\"Best-selling albums of 2019\"><span class=\"ranks_desc_art\">Rank in </span>2019</a> : 5</div><div class=\"ranks\"><a href=\"https://bestsellingalbums.org/decade/2010\" title=\"Best-selling albums of 2010's\"><span class=\"ranks_desc_art\">Rank in </span>2010's</a>: 48</div><div class=\"ranks\"><a href=\"https://bestsellingalbums.org/overall\" title=\"Best-selling albums of all time\">Overall<span class=\"ranks_desc_art\"> rank</span></a> : 651</div></div></div></div><div class=\"album_card\"><div class=\"rank\">49</div><div class=\"cover\"><img class=\"pic\" onerror=\"this.src='../includes/default.png';this.onerror='';\" src=\"../covers/21088.jpg\"/></div><div class=\"data_col\"><div class=\"album\"><a href=\"https://bestsellingalbums.org/album/21088\">WATCH THE THRONE</a></div><div class=\"artist\"><a href=\"https://bestsellingalbums.org/artist/6042\" title=\"JAY-Z album sales\">JAY-Z</a> &amp; <a href=\"https://bestsellingalbums.org/artist/6733\" title=\"KANYE WEST album sales\">KANYE WEST</a></div><div class=\"sales\">Sales: 5,550,000</div><div class=\"rank_mobile\">Rankings:</div><div class=\"ranks_row\"><div class=\"ranks\"><a href=\"https://bestsellingalbums.org/year/2011\" title=\"Best-selling albums of 2011\"><span class=\"ranks_desc_art\">Rank in </span>2011</a> : 7</div><div class=\"ranks\"><a href=\"https://bestsellingalbums.org/decade/2010\" title=\"Best-selling albums of 2010's\"><span class=\"ranks_desc_art\">Rank in </span>2010's</a>: 49</div><div class=\"ranks\"><a href=\"https://bestsellingalbums.org/overall\" title=\"Best-selling albums of all time\">Overall<span class=\"ranks_desc_art\"> rank</span></a> : 665</div></div></div></div><div class=\"album_card\"><div class=\"rank\">50</div><div class=\"cover\"><img class=\"pic\" onerror=\"this.src='../includes/default.png';this.onerror='';\" src=\"../covers/28046.jpg\"/></div><div class=\"data_col\"><div class=\"album\"><a href=\"https://bestsellingalbums.org/album/28046\">THIS ONE'S FOR YOU</a></div><div class=\"artist\"><a href=\"https://bestsellingalbums.org/artist/8095\" title=\"LUKE COMBS album sales\">LUKE COMBS</a></div><div class=\"sales\">Sales: 5,490,000</div><div class=\"rank_mobile\">Rankings:</div><div class=\"ranks_row\"><div class=\"ranks\"><a href=\"https://bestsellingalbums.org/year/2017\" title=\"Best-selling albums of 2017\"><span class=\"ranks_desc_art\">Rank in </span>2017</a> : 4</div><div class=\"ranks\"><a href=\"https://bestsellingalbums.org/decade/2010\" title=\"Best-selling albums of 2010's\"><span class=\"ranks_desc_art\">Rank in </span>2010's</a>: 50</div><div class=\"ranks\"><a href=\"https://bestsellingalbums.org/overall\" title=\"Best-selling albums of all time\">Overall<span class=\"ranks_desc_art\"> rank</span></a> : 677</div></div></div></div><div class=\"pages_row\"><div class=\"current_page\">1</div><div class=\"page_item\"><a href=\"https://bestsellingalbums.org/decade/2010-2\">2</a></div><div class=\"page_item\"><a href=\"https://bestsellingalbums.org/decade/2010-3\">3</a></div><div class=\"page_item\"><a href=\"https://bestsellingalbums.org/decade/2010-4\">4</a></div><div class=\"no_link\">...</div><div class=\"page_item\"><a href=\"https://bestsellingalbums.org/decade/2010-251\">251</a></div><div class=\"page_item\"><a href=\"https://bestsellingalbums.org/decade/2010-2\">next</a></div></div>\n",
      "</p></div><!-- .entry-content -->\n",
      "</main><!-- .site-main -->\n",
      "</div><!-- .content-area -->\n",
      "</div><!-- .site-content -->\n",
      "<footer class=\"site-footer\" id=\"colophon\" role=\"contentinfo\">\n",
      "</footer><!-- .site-footer -->\n",
      "<script src=\"https://bestsellingalbums.org/wp-content/themes/twentyfifteen/js/skip-link-focus-fix.js?ver=20141028\"></script>\n",
      "<script>\n",
      "    var screenReaderText = {\"expand\":\"<span class=\\\"screen-reader-text\\\">expand child menu<\\/span>\",\"collapse\":\"<span class=\\\"screen-reader-text\\\">collapse child menu<\\/span>\"};\n",
      "</script>\n",
      "<script src=\"https://bestsellingalbums.org/wp-content/themes/twentyfifteen/js/functions.js?ver=20171218\"></script>\n",
      "<script src=\"https://bestsellingalbums.org/wp-includes/js/wp-embed.min.js?ver=5.4.7\"></script>\n",
      "<script type=\"text/javascript\">\n",
      "    var infolinks_pid = 3414279;\n",
      "    var infolinks_wsid = 0;\n",
      "</script>\n",
      "<script src=\"//resources.infolinks.com/js/infolinks_main.js\" type=\"text/javascript\"></script>\n",
      "</div></body>\n",
      "</html>\n",
      "\n"
     ]
    }
   ],
   "source": [
    "print(soup) #checking if the soup is ready"
   ]
  },
  {
   "cell_type": "code",
   "execution_count": 41,
   "id": "9bac8dcd-8518-4d5f-ab3e-a0b8fd5cb83a",
   "metadata": {},
   "outputs": [],
   "source": [
    "## What do I need? \n",
    "## -- album, artist, # albums sold, link to sales by country site\n",
    "## a tag with artist name -- just text, class = \"artist\" -- or maybe it's a div?\n",
    "## a tag with the album -- just text, class = \"album\" -- its a div\n",
    "## a tag with sales -- just text, class = \"sales\" -- its a div, not an a tag\n",
    "## a tag with href of link -- soup.find or find_all -- class = \"album\""
   ]
  },
  {
   "cell_type": "code",
   "execution_count": 24,
   "id": "8fb96656-d2e3-44d0-8d59-a8c237774c9f",
   "metadata": {
    "scrolled": true
   },
   "outputs": [
    {
     "data": {
      "text/plain": [
       "<p class=\"site-title\"><a href=\"https://bestsellingalbums.org/\" rel=\"home\">BestSellingAlbums.org</a></p>"
      ]
     },
     "execution_count": 24,
     "metadata": {},
     "output_type": "execute_result"
    }
   ],
   "source": [
    "soup.p"
   ]
  },
  {
   "cell_type": "code",
   "execution_count": 25,
   "id": "02c5ea9b-7ca0-46cf-923f-9d7359411faa",
   "metadata": {},
   "outputs": [
    {
     "data": {
      "text/plain": [
       "<a class=\"skip-link screen-reader-text\" href=\"#content\">Skip to content</a>"
      ]
     },
     "execution_count": 25,
     "metadata": {},
     "output_type": "execute_result"
    }
   ],
   "source": [
    "soup.a"
   ]
  },
  {
   "cell_type": "code",
   "execution_count": 7,
   "id": "6f05fbe9-6fa3-4dea-92d3-fcdd2fbd9e8a",
   "metadata": {},
   "outputs": [
    {
     "data": {
      "text/plain": [
       "<div class=\"artist\"><a href=\"https://bestsellingalbums.org/artist/218\" title=\"ADELE album sales\">ADELE</a></div>"
      ]
     },
     "execution_count": 7,
     "metadata": {},
     "output_type": "execute_result"
    }
   ],
   "source": [
    "soup.find(\"div\", class_ = \"artist\")"
   ]
  },
  {
   "cell_type": "code",
   "execution_count": 27,
   "id": "85a1f9b7-dcd7-4f42-9476-88d75a2f9140",
   "metadata": {},
   "outputs": [
    {
     "data": {
      "text/plain": [
       "bs4.element.Tag"
      ]
     },
     "execution_count": 27,
     "metadata": {},
     "output_type": "execute_result"
    }
   ],
   "source": [
    "type(soup.find(\"div\", class_ = \"artist\"))"
   ]
  },
  {
   "cell_type": "code",
   "execution_count": 8,
   "id": "830d540f-0f32-4fe2-a6b2-a5b9e26bb64b",
   "metadata": {
    "jupyter": {
     "outputs_hidden": true
    },
    "scrolled": true
   },
   "outputs": [
    {
     "data": {
      "text/plain": [
       "[<div class=\"artist\"><a href=\"https://bestsellingalbums.org/artist/218\" title=\"ADELE album sales\">ADELE</a></div>,\n",
       " <div class=\"artist\"><a href=\"https://bestsellingalbums.org/artist/218\" title=\"ADELE album sales\">ADELE</a></div>,\n",
       " <div class=\"artist\"><a href=\"https://bestsellingalbums.org/artist/8822\" title=\"MICHAEL BUBLÉ album sales\">MICHAEL BUBLÉ</a></div>,\n",
       " <div class=\"artist\"><a href=\"https://bestsellingalbums.org/artist/12748\" title=\"TAYLOR SWIFT album sales\">TAYLOR SWIFT</a></div>,\n",
       " <div class=\"artist\"><a href=\"https://bestsellingalbums.org/artist/6646\" title=\"JUSTIN BIEBER album sales\">JUSTIN BIEBER</a></div>,\n",
       " <div class=\"artist\"><a href=\"https://bestsellingalbums.org/artist/3645\" title=\"ED SHEERAN album sales\">ED SHEERAN</a></div>,\n",
       " <div class=\"artist\"><a href=\"https://bestsellingalbums.org/artist/12207\" title=\"SOUNDTRACK album sales\">SOUNDTRACK</a></div>,\n",
       " <div class=\"artist\"><a href=\"https://bestsellingalbums.org/artist/6828\" title=\"KATY PERRY album sales\">KATY PERRY</a></div>,\n",
       " <div class=\"artist\"><a href=\"https://bestsellingalbums.org/artist/3645\" title=\"ED SHEERAN album sales\">ED SHEERAN</a></div>,\n",
       " <div class=\"artist\"><a href=\"https://bestsellingalbums.org/artist/1870\" title=\"BRUNO MARS album sales\">BRUNO MARS</a></div>,\n",
       " <div class=\"artist\"><a href=\"https://bestsellingalbums.org/artist/3873\" title=\"EMINEM album sales\">EMINEM</a></div>,\n",
       " <div class=\"artist\"><a href=\"https://bestsellingalbums.org/artist/5658\" title=\"IMAGINE DRAGONS album sales\">IMAGINE DRAGONS</a></div>,\n",
       " <div class=\"artist\"><a href=\"https://bestsellingalbums.org/artist/11437\" title=\"SAM SMITH album sales\">SAM SMITH</a></div>,\n",
       " <div class=\"artist\"><a href=\"https://bestsellingalbums.org/artist/1870\" title=\"BRUNO MARS album sales\">BRUNO MARS</a></div>,\n",
       " <div class=\"artist\"><a href=\"https://bestsellingalbums.org/artist/12748\" title=\"TAYLOR SWIFT album sales\">TAYLOR SWIFT</a></div>,\n",
       " <div class=\"artist\"><a href=\"https://bestsellingalbums.org/artist/3645\" title=\"ED SHEERAN album sales\">ED SHEERAN</a></div>,\n",
       " <div class=\"artist\"><a href=\"https://bestsellingalbums.org/artist/3522\" title=\"DRAKE album sales\">DRAKE</a></div>,\n",
       " <div class=\"artist\"><a href=\"https://bestsellingalbums.org/artist/13284\" title=\"THE WEEKND album sales\">THE WEEKND</a></div>,\n",
       " <div class=\"artist\"><a href=\"https://bestsellingalbums.org/artist/1467\" title=\"BILLIE EILISH album sales\">BILLIE EILISH</a></div>,\n",
       " <div class=\"artist\"><a href=\"https://bestsellingalbums.org/artist/7366\" title=\"LADY GAGA album sales\">LADY GAGA</a></div>,\n",
       " <div class=\"artist\"><a href=\"https://bestsellingalbums.org/artist/1884\" title=\"BTS (방탄소년단) album sales\">BTS (방탄소년단)</a></div>,\n",
       " <div class=\"artist\"><a href=\"https://bestsellingalbums.org/artist/10563\" title=\"POST MALONE album sales\">POST MALONE</a></div>,\n",
       " <div class=\"artist\"><a href=\"https://bestsellingalbums.org/artist/3522\" title=\"DRAKE album sales\">DRAKE</a></div>,\n",
       " <div class=\"artist\"><a href=\"https://bestsellingalbums.org/artist/12748\" title=\"TAYLOR SWIFT album sales\">TAYLOR SWIFT</a></div>,\n",
       " <div class=\"artist\"><a href=\"https://bestsellingalbums.org/artist/6828\" title=\"KATY PERRY album sales\">KATY PERRY</a></div>,\n",
       " <div class=\"artist\"><a href=\"https://bestsellingalbums.org/artist/7396\" title=\"LANA DEL REY album sales\">LANA DEL REY</a></div>,\n",
       " <div class=\"artist\"><a href=\"https://bestsellingalbums.org/artist/11044\" title=\"RIHANNA album sales\">RIHANNA</a></div>,\n",
       " <div class=\"artist\"><a href=\"https://bestsellingalbums.org/artist/11044\" title=\"RIHANNA album sales\">RIHANNA</a></div>,\n",
       " <div class=\"artist\"><a href=\"https://bestsellingalbums.org/artist/13754\" title=\"TWENTY ONE PILOTS album sales\">TWENTY ONE PILOTS</a></div>,\n",
       " <div class=\"artist\"><a href=\"https://bestsellingalbums.org/artist/10563\" title=\"POST MALONE album sales\">POST MALONE</a></div>,\n",
       " <div class=\"artist\"><a href=\"https://bestsellingalbums.org/artist/3522\" title=\"DRAKE album sales\">DRAKE</a></div>,\n",
       " <div class=\"artist\"><a href=\"https://bestsellingalbums.org/artist/10563\" title=\"POST MALONE album sales\">POST MALONE</a></div>,\n",
       " <div class=\"artist\"><a href=\"https://bestsellingalbums.org/artist/9852\" title=\"ONE DIRECTION album sales\">ONE DIRECTION</a></div>,\n",
       " <div class=\"artist\"><a href=\"https://bestsellingalbums.org/artist/12207\" title=\"SOUNDTRACK album sales\">SOUNDTRACK</a></div>,\n",
       " <div class=\"artist\"><a href=\"https://bestsellingalbums.org/artist/1402\" title=\"BEYONCÉ album sales\">BEYONCÉ</a></div>,\n",
       " <div class=\"artist\"><a href=\"https://bestsellingalbums.org/artist/10001\" title=\"P!NK album sales\">P!NK</a></div>,\n",
       " <div class=\"artist\"><a href=\"https://bestsellingalbums.org/artist/12748\" title=\"TAYLOR SWIFT album sales\">TAYLOR SWIFT</a></div>,\n",
       " <div class=\"artist\"><a href=\"https://bestsellingalbums.org/artist/14362\" title=\"XXXTENTACION album sales\">XXXTENTACION</a></div>,\n",
       " <div class=\"artist\"><a href=\"https://bestsellingalbums.org/artist/2405\" title=\"CHRIS STAPLETON album sales\">CHRIS STAPLETON</a></div>,\n",
       " <div class=\"artist\"><a href=\"https://bestsellingalbums.org/artist/13284\" title=\"THE WEEKND album sales\">THE WEEKND</a></div>,\n",
       " <div class=\"artist\"><a href=\"https://bestsellingalbums.org/artist/9852\" title=\"ONE DIRECTION album sales\">ONE DIRECTION</a></div>,\n",
       " <div class=\"artist\"><a href=\"https://bestsellingalbums.org/artist/9852\" title=\"ONE DIRECTION album sales\">ONE DIRECTION</a></div>,\n",
       " <div class=\"artist\"><a href=\"https://bestsellingalbums.org/artist/1884\" title=\"BTS (방탄소년단) album sales\">BTS (방탄소년단)</a></div>,\n",
       " <div class=\"artist\"><a href=\"https://bestsellingalbums.org/artist/6559\" title=\"JUICE WRLD album sales\">JUICE WRLD</a></div>,\n",
       " <div class=\"artist\"><a href=\"https://bestsellingalbums.org/artist/2587\" title=\"COLDPLAY album sales\">COLDPLAY</a></div>,\n",
       " <div class=\"artist\"><a href=\"https://bestsellingalbums.org/artist/8171\" title=\"MACKLEMORE album sales\">MACKLEMORE</a> &amp; <a href=\"https://bestsellingalbums.org/artist/8172\" title=\"RYAN LEWIS album sales\">RYAN LEWIS</a></div>,\n",
       " <div class=\"artist\"><a href=\"https://bestsellingalbums.org/artist/3873\" title=\"EMINEM album sales\">EMINEM</a></div>,\n",
       " <div class=\"artist\"><a href=\"https://bestsellingalbums.org/artist/12748\" title=\"TAYLOR SWIFT album sales\">TAYLOR SWIFT</a></div>,\n",
       " <div class=\"artist\"><a href=\"https://bestsellingalbums.org/artist/6042\" title=\"JAY-Z album sales\">JAY-Z</a> &amp; <a href=\"https://bestsellingalbums.org/artist/6733\" title=\"KANYE WEST album sales\">KANYE WEST</a></div>,\n",
       " <div class=\"artist\"><a href=\"https://bestsellingalbums.org/artist/8095\" title=\"LUKE COMBS album sales\">LUKE COMBS</a></div>]"
      ]
     },
     "execution_count": 8,
     "metadata": {},
     "output_type": "execute_result"
    }
   ],
   "source": [
    "artists = soup.find_all(\"div\", class_ = \"artist\")\n",
    "artists"
   ]
  },
  {
   "cell_type": "code",
   "execution_count": 9,
   "id": "55580ce9-5873-4711-8a72-e42d188e194b",
   "metadata": {},
   "outputs": [
    {
     "data": {
      "text/plain": [
       "['ADELE',\n",
       " 'ADELE',\n",
       " 'MICHAEL BUBLÉ',\n",
       " 'TAYLOR SWIFT',\n",
       " 'JUSTIN BIEBER',\n",
       " 'ED SHEERAN',\n",
       " 'SOUNDTRACK',\n",
       " 'KATY PERRY',\n",
       " 'ED SHEERAN',\n",
       " 'BRUNO MARS',\n",
       " 'EMINEM',\n",
       " 'IMAGINE DRAGONS',\n",
       " 'SAM SMITH',\n",
       " 'BRUNO MARS',\n",
       " 'TAYLOR SWIFT',\n",
       " 'ED SHEERAN',\n",
       " 'DRAKE',\n",
       " 'THE WEEKND',\n",
       " 'BILLIE EILISH',\n",
       " 'LADY GAGA',\n",
       " 'BTS (방탄소년단)',\n",
       " 'POST MALONE',\n",
       " 'DRAKE',\n",
       " 'TAYLOR SWIFT',\n",
       " 'KATY PERRY',\n",
       " 'LANA DEL REY',\n",
       " 'RIHANNA',\n",
       " 'RIHANNA',\n",
       " 'TWENTY ONE PILOTS',\n",
       " 'POST MALONE',\n",
       " 'DRAKE',\n",
       " 'POST MALONE',\n",
       " 'ONE DIRECTION',\n",
       " 'SOUNDTRACK',\n",
       " 'BEYONCÉ',\n",
       " 'P!NK',\n",
       " 'TAYLOR SWIFT',\n",
       " 'XXXTENTACION',\n",
       " 'CHRIS STAPLETON',\n",
       " 'THE WEEKND',\n",
       " 'ONE DIRECTION',\n",
       " 'ONE DIRECTION',\n",
       " 'BTS (방탄소년단)',\n",
       " 'JUICE WRLD',\n",
       " 'COLDPLAY',\n",
       " 'MACKLEMORE & RYAN LEWIS',\n",
       " 'EMINEM',\n",
       " 'TAYLOR SWIFT',\n",
       " 'JAY-Z & KANYE WEST',\n",
       " 'LUKE COMBS']"
      ]
     },
     "execution_count": 9,
     "metadata": {},
     "output_type": "execute_result"
    }
   ],
   "source": [
    "artists_fl = [] ## YES! This got me the artists of the first page. Nice.\n",
    "for artist in artists:\n",
    "    artists_fl.append(artist.get_text())\n",
    "\n",
    "artists_fl"
   ]
  },
  {
   "cell_type": "code",
   "execution_count": 39,
   "id": "a96ef170-34a0-4854-a5cf-dfd2f7e9d4f7",
   "metadata": {},
   "outputs": [],
   "source": [
    "## I am going to attempt to get the albums, and then sales, in the same way"
   ]
  },
  {
   "cell_type": "code",
   "execution_count": 12,
   "id": "25491121-786e-4eff-a8bb-6a728440869d",
   "metadata": {},
   "outputs": [
    {
     "data": {
      "text/plain": [
       "<div class=\"album\"><a href=\"https://bestsellingalbums.org/album/1034\">21</a></div>"
      ]
     },
     "execution_count": 12,
     "metadata": {},
     "output_type": "execute_result"
    }
   ],
   "source": [
    "soup.find(\"div\", class_ = \"album\")"
   ]
  },
  {
   "cell_type": "code",
   "execution_count": 13,
   "id": "87532efb-912a-4e62-a9d4-d78b40408f7f",
   "metadata": {
    "scrolled": true
   },
   "outputs": [
    {
     "data": {
      "text/plain": [
       "[<div class=\"album\"><a href=\"https://bestsellingalbums.org/album/1034\">21</a></div>,\n",
       " <div class=\"album\"><a href=\"https://bestsellingalbums.org/album/1035\">25</a></div>,\n",
       " <div class=\"album\"><a href=\"https://bestsellingalbums.org/album/30524\">CHRISTMAS</a></div>,\n",
       " <div class=\"album\"><a href=\"https://bestsellingalbums.org/album/45488\">1989</a></div>,\n",
       " <div class=\"album\"><a href=\"https://bestsellingalbums.org/album/23318\">PURPOSE</a></div>,\n",
       " <div class=\"album\"><a href=\"https://bestsellingalbums.org/album/12876\">DIVIDE</a></div>,\n",
       " <div class=\"album\"><a href=\"https://bestsellingalbums.org/album/42961\">FROZEN</a></div>,\n",
       " <div class=\"album\"><a href=\"https://bestsellingalbums.org/album/23977\">TEENAGE DREAM</a></div>,\n",
       " <div class=\"album\"><a href=\"https://bestsellingalbums.org/album/12880\">X</a></div>,\n",
       " <div class=\"album\"><a href=\"https://bestsellingalbums.org/album/6777\">DOO-WOPS &amp; HOOLIGANS</a></div>,\n",
       " <div class=\"album\"><a href=\"https://bestsellingalbums.org/album/13756\">RECOVERY</a></div>,\n",
       " <div class=\"album\"><a href=\"https://bestsellingalbums.org/album/19810\">NIGHT VISIONS</a></div>,\n",
       " <div class=\"album\"><a href=\"https://bestsellingalbums.org/album/39978\">IN THE LONELY HOUR</a></div>,\n",
       " <div class=\"album\"><a href=\"https://bestsellingalbums.org/album/6778\">UNORTHODOX JUKEBOX</a></div>,\n",
       " <div class=\"album\"><a href=\"https://bestsellingalbums.org/album/45494\">RED</a></div>,\n",
       " <div class=\"album\"><a href=\"https://bestsellingalbums.org/album/12875\">+</a></div>,\n",
       " <div class=\"album\"><a href=\"https://bestsellingalbums.org/album/12457\">VIEWS</a></div>,\n",
       " <div class=\"album\"><a href=\"https://bestsellingalbums.org/album/47839\">BEAUTY BEHIND THE MADNESS</a></div>,\n",
       " <div class=\"album\"><a href=\"https://bestsellingalbums.org/album/5207\">WHEN WE ALL FALL ASLEEP, WHERE DO WE GO?</a></div>,\n",
       " <div class=\"album\"><a href=\"https://bestsellingalbums.org/album/25786\">BORN THIS WAY</a></div>,\n",
       " <div class=\"album\"><a href=\"https://bestsellingalbums.org/album/6859\">MAP OF THE SOUL: 7</a></div>,\n",
       " <div class=\"album\"><a href=\"https://bestsellingalbums.org/album/36763\">BEERBONGS &amp; BENTLEYS</a></div>,\n",
       " <div class=\"album\"><a href=\"https://bestsellingalbums.org/album/12455\">TAKE CARE</a></div>,\n",
       " <div class=\"album\"><a href=\"https://bestsellingalbums.org/album/45496\">SPEAK NOW</a></div>,\n",
       " <div class=\"album\"><a href=\"https://bestsellingalbums.org/album/23975\">PRISM</a></div>,\n",
       " <div class=\"album\"><a href=\"https://bestsellingalbums.org/album/25846\">BORN TO DIE</a></div>,\n",
       " <div class=\"album\"><a href=\"https://bestsellingalbums.org/album/38507\">LOUD</a></div>,\n",
       " <div class=\"album\"><a href=\"https://bestsellingalbums.org/album/38505\">ANTI</a></div>,\n",
       " <div class=\"album\"><a href=\"https://bestsellingalbums.org/album/49504\">BLURRYFACE</a></div>,\n",
       " <div class=\"album\"><a href=\"https://bestsellingalbums.org/album/36764\">HOLLYWOOD'S BLEEDING</a></div>,\n",
       " <div class=\"album\"><a href=\"https://bestsellingalbums.org/album/12453\">SCORPION</a></div>,\n",
       " <div class=\"album\"><a href=\"https://bestsellingalbums.org/album/36765\">STONEY</a></div>,\n",
       " <div class=\"album\"><a href=\"https://bestsellingalbums.org/album/34460\">TAKE ME HOME</a></div>,\n",
       " <div class=\"album\"><a href=\"https://bestsellingalbums.org/album/43568\">THE GREATEST SHOWMAN</a></div>,\n",
       " <div class=\"album\"><a href=\"https://bestsellingalbums.org/album/4969\">BEYONCÉ</a></div>,\n",
       " <div class=\"album\"><a href=\"https://bestsellingalbums.org/album/34874\">THE TRUTH ABOUT LOVE</a></div>,\n",
       " <div class=\"album\"><a href=\"https://bestsellingalbums.org/album/45495\">REPUTATION</a></div>,\n",
       " <div class=\"album\"><a href=\"https://bestsellingalbums.org/album/56027\">?</a></div>,\n",
       " <div class=\"album\"><a href=\"https://bestsellingalbums.org/album/8686\">TRAVELLER</a></div>,\n",
       " <div class=\"album\"><a href=\"https://bestsellingalbums.org/album/47843\">STARBOY</a></div>,\n",
       " <div class=\"album\"><a href=\"https://bestsellingalbums.org/album/34461\">UP ALL NIGHT</a></div>,\n",
       " <div class=\"album\"><a href=\"https://bestsellingalbums.org/album/34459\">MIDNIGHT MEMORIES</a></div>,\n",
       " <div class=\"album\"><a href=\"https://bestsellingalbums.org/album/6860\">MAP OF THE SOUL: PERSONA</a></div>,\n",
       " <div class=\"album\"><a href=\"https://bestsellingalbums.org/album/23018\">GOODBYE &amp; GOOD RIDDANCE</a></div>,\n",
       " <div class=\"album\"><a href=\"https://bestsellingalbums.org/album/9346\">A HEAD FULL OF DREAMS</a></div>,\n",
       " <div class=\"album\"><a href=\"https://bestsellingalbums.org/album/28330\">THE HEIST</a></div>,\n",
       " <div class=\"album\"><a href=\"https://bestsellingalbums.org/album/13762\">THE MARSHALL MATHERS LP 2</a></div>,\n",
       " <div class=\"album\"><a href=\"https://bestsellingalbums.org/album/45493\">LOVER</a></div>,\n",
       " <div class=\"album\"><a href=\"https://bestsellingalbums.org/album/21088\">WATCH THE THRONE</a></div>,\n",
       " <div class=\"album\"><a href=\"https://bestsellingalbums.org/album/28046\">THIS ONE'S FOR YOU</a></div>]"
      ]
     },
     "execution_count": 13,
     "metadata": {},
     "output_type": "execute_result"
    }
   ],
   "source": [
    "albums = soup.find_all(\"div\", class_ = \"album\") ## yes this responded well.\n",
    "albums"
   ]
  },
  {
   "cell_type": "code",
   "execution_count": 14,
   "id": "855444cc-ad04-4823-9396-ce19006e6257",
   "metadata": {},
   "outputs": [
    {
     "data": {
      "text/plain": [
       "bs4.element.ResultSet"
      ]
     },
     "execution_count": 14,
     "metadata": {},
     "output_type": "execute_result"
    }
   ],
   "source": [
    "type(albums)"
   ]
  },
  {
   "cell_type": "code",
   "execution_count": 15,
   "id": "f2177b3b-dbba-4cdb-baf4-7191b192a165",
   "metadata": {},
   "outputs": [],
   "source": [
    "# for loop time"
   ]
  },
  {
   "cell_type": "code",
   "execution_count": 16,
   "id": "9cac1eec-61ee-40d7-bee1-bde1116c0efa",
   "metadata": {},
   "outputs": [
    {
     "data": {
      "text/plain": [
       "['21',\n",
       " '25',\n",
       " 'CHRISTMAS',\n",
       " '1989',\n",
       " 'PURPOSE',\n",
       " 'DIVIDE',\n",
       " 'FROZEN',\n",
       " 'TEENAGE DREAM',\n",
       " 'X',\n",
       " 'DOO-WOPS & HOOLIGANS',\n",
       " 'RECOVERY',\n",
       " 'NIGHT VISIONS',\n",
       " 'IN THE LONELY HOUR',\n",
       " 'UNORTHODOX JUKEBOX',\n",
       " 'RED',\n",
       " '+',\n",
       " 'VIEWS',\n",
       " 'BEAUTY BEHIND THE MADNESS',\n",
       " 'WHEN WE ALL FALL ASLEEP, WHERE DO WE GO?',\n",
       " 'BORN THIS WAY',\n",
       " 'MAP OF THE SOUL: 7',\n",
       " 'BEERBONGS & BENTLEYS',\n",
       " 'TAKE CARE',\n",
       " 'SPEAK NOW',\n",
       " 'PRISM',\n",
       " 'BORN TO DIE',\n",
       " 'LOUD',\n",
       " 'ANTI',\n",
       " 'BLURRYFACE',\n",
       " \"HOLLYWOOD'S BLEEDING\",\n",
       " 'SCORPION',\n",
       " 'STONEY',\n",
       " 'TAKE ME HOME',\n",
       " 'THE GREATEST SHOWMAN',\n",
       " 'BEYONCÉ',\n",
       " 'THE TRUTH ABOUT LOVE',\n",
       " 'REPUTATION',\n",
       " '?',\n",
       " 'TRAVELLER',\n",
       " 'STARBOY',\n",
       " 'UP ALL NIGHT',\n",
       " 'MIDNIGHT MEMORIES',\n",
       " 'MAP OF THE SOUL: PERSONA',\n",
       " 'GOODBYE & GOOD RIDDANCE',\n",
       " 'A HEAD FULL OF DREAMS',\n",
       " 'THE HEIST',\n",
       " 'THE MARSHALL MATHERS LP 2',\n",
       " 'LOVER',\n",
       " 'WATCH THE THRONE',\n",
       " \"THIS ONE'S FOR YOU\"]"
      ]
     },
     "execution_count": 16,
     "metadata": {},
     "output_type": "execute_result"
    }
   ],
   "source": [
    "albums_fl = []\n",
    "for album in albums:\n",
    "    albums_fl.append(album.get_text())\n",
    "\n",
    "albums_fl"
   ]
  },
  {
   "cell_type": "code",
   "execution_count": null,
   "id": "c1790efa-1da2-4e57-bdd3-d5d4e11162f6",
   "metadata": {},
   "outputs": [],
   "source": [
    "## well that worked. Now for the sales."
   ]
  },
  {
   "cell_type": "code",
   "execution_count": 17,
   "id": "d5d590f3-052b-44a6-898c-ace88f8de5f1",
   "metadata": {},
   "outputs": [
    {
     "data": {
      "text/plain": [
       "<div class=\"sales\">Sales: 30,000,000</div>"
      ]
     },
     "execution_count": 17,
     "metadata": {},
     "output_type": "execute_result"
    }
   ],
   "source": [
    "soup.find(\"div\", class_ = \"sales\")"
   ]
  },
  {
   "cell_type": "code",
   "execution_count": 18,
   "id": "50c2c8b2-7fe0-4bfa-b3a0-02ae4aa1f809",
   "metadata": {
    "scrolled": true
   },
   "outputs": [
    {
     "data": {
      "text/plain": [
       "[<div class=\"sales\">Sales: 30,000,000</div>,\n",
       " <div class=\"sales\">Sales: 23,000,000</div>,\n",
       " <div class=\"sales\">Sales: 15,000,000</div>,\n",
       " <div class=\"sales\">Sales: 14,748,116</div>,\n",
       " <div class=\"sales\">Sales: 14,000,000</div>,\n",
       " <div class=\"sales\">Sales: 13,787,460</div>,\n",
       " <div class=\"sales\">Sales: 12,632,083</div>,\n",
       " <div class=\"sales\">Sales: 12,134,000</div>,\n",
       " <div class=\"sales\">Sales: 11,879,785</div>,\n",
       " <div class=\"sales\">Sales: 11,270,000</div>,\n",
       " <div class=\"sales\">Sales: 10,873,795</div>,\n",
       " <div class=\"sales\">Sales: 9,616,263</div>,\n",
       " <div class=\"sales\">Sales: 9,321,352</div>,\n",
       " <div class=\"sales\">Sales: 8,976,749</div>,\n",
       " <div class=\"sales\">Sales: 8,889,124</div>,\n",
       " <div class=\"sales\">Sales: 7,705,000</div>,\n",
       " <div class=\"sales\">Sales: 7,687,247</div>,\n",
       " <div class=\"sales\">Sales: 7,584,588</div>,\n",
       " <div class=\"sales\">Sales: 7,256,516</div>,\n",
       " <div class=\"sales\">Sales: 7,166,944</div>,\n",
       " <div class=\"sales\">Sales: 7,130,621</div>,\n",
       " <div class=\"sales\">Sales: 7,116,118</div>,\n",
       " <div class=\"sales\">Sales: 6,920,000</div>,\n",
       " <div class=\"sales\">Sales: 6,917,500</div>,\n",
       " <div class=\"sales\">Sales: 6,692,500</div>,\n",
       " <div class=\"sales\">Sales: 6,674,983</div>,\n",
       " <div class=\"sales\">Sales: 6,673,000</div>,\n",
       " <div class=\"sales\">Sales: 6,537,235</div>,\n",
       " <div class=\"sales\">Sales: 6,500,000</div>,\n",
       " <div class=\"sales\">Sales: 6,461,665</div>,\n",
       " <div class=\"sales\">Sales: 6,433,983</div>,\n",
       " <div class=\"sales\">Sales: 6,371,355</div>,\n",
       " <div class=\"sales\">Sales: 6,334,619</div>,\n",
       " <div class=\"sales\">Sales: 6,318,119</div>,\n",
       " <div class=\"sales\">Sales: 6,290,833</div>,\n",
       " <div class=\"sales\">Sales: 6,231,084</div>,\n",
       " <div class=\"sales\">Sales: 6,186,524</div>,\n",
       " <div class=\"sales\">Sales: 6,182,852</div>,\n",
       " <div class=\"sales\">Sales: 6,157,000</div>,\n",
       " <div class=\"sales\">Sales: 6,070,666</div>,\n",
       " <div class=\"sales\">Sales: 6,046,188</div>,\n",
       " <div class=\"sales\">Sales: 6,020,087</div>,\n",
       " <div class=\"sales\">Sales: 6,010,031</div>,\n",
       " <div class=\"sales\">Sales: 6,002,713</div>,\n",
       " <div class=\"sales\">Sales: 6,000,000</div>,\n",
       " <div class=\"sales\">Sales: 5,858,500</div>,\n",
       " <div class=\"sales\">Sales: 5,790,318</div>,\n",
       " <div class=\"sales\">Sales: 5,686,733</div>,\n",
       " <div class=\"sales\">Sales: 5,550,000</div>,\n",
       " <div class=\"sales\">Sales: 5,490,000</div>]"
      ]
     },
     "execution_count": 18,
     "metadata": {},
     "output_type": "execute_result"
    }
   ],
   "source": [
    "sales = soup.find_all(\"div\", class_ = \"sales\")\n",
    "sales"
   ]
  },
  {
   "cell_type": "code",
   "execution_count": 19,
   "id": "bff1143a-27ac-435b-b373-981671f114a5",
   "metadata": {
    "scrolled": true
   },
   "outputs": [
    {
     "data": {
      "text/plain": [
       "['30,000,000',\n",
       " '23,000,000',\n",
       " '15,000,000',\n",
       " '14,748,116',\n",
       " '14,000,000',\n",
       " '13,787,460',\n",
       " '12,632,083',\n",
       " '12,134,000',\n",
       " '11,879,785',\n",
       " '11,270,000',\n",
       " '10,873,795',\n",
       " '9,616,263',\n",
       " '9,321,352',\n",
       " '8,976,749',\n",
       " '8,889,124',\n",
       " '7,705,000',\n",
       " '7,687,247',\n",
       " '7,584,588',\n",
       " '7,256,516',\n",
       " '7,166,944',\n",
       " '7,130,621',\n",
       " '7,116,118',\n",
       " '6,920,000',\n",
       " '6,917,500',\n",
       " '6,692,500',\n",
       " '6,674,983',\n",
       " '6,673,000',\n",
       " '6,537,235',\n",
       " '6,500,000',\n",
       " '6,461,665',\n",
       " '6,433,983',\n",
       " '6,371,355',\n",
       " '6,334,619',\n",
       " '6,318,119',\n",
       " '6,290,833',\n",
       " '6,231,084',\n",
       " '6,186,524',\n",
       " '6,182,852',\n",
       " '6,157,000',\n",
       " '6,070,666',\n",
       " '6,046,188',\n",
       " '6,020,087',\n",
       " '6,010,031',\n",
       " '6,002,713',\n",
       " '6,000,000',\n",
       " '5,858,500',\n",
       " '5,790,318',\n",
       " '5,686,733',\n",
       " '5,550,000',\n",
       " '5,490,000']"
      ]
     },
     "execution_count": 19,
     "metadata": {},
     "output_type": "execute_result"
    }
   ],
   "source": [
    "sales_str_fl = []\n",
    "for number in sales:\n",
    "    sales_str_fl.append((number.get_text()).replace(\"Sales: \",\"\"))\n",
    "\n",
    "sales_str_fl"
   ]
  },
  {
   "cell_type": "code",
   "execution_count": 20,
   "id": "bb79e6fd-9880-4b61-8822-43b67271f084",
   "metadata": {},
   "outputs": [],
   "source": [
    "# that got me the sales, but I want the num as an integer."
   ]
  },
  {
   "cell_type": "code",
   "execution_count": 71,
   "id": "d2c90cc5-8eb5-43f4-b800-bbb4f1498224",
   "metadata": {
    "scrolled": true
   },
   "outputs": [
    {
     "data": {
      "text/plain": [
       "[30000000,\n",
       " 23000000,\n",
       " 15000000,\n",
       " 14748116,\n",
       " 14000000,\n",
       " 13787460,\n",
       " 12632083,\n",
       " 12134000,\n",
       " 11879785,\n",
       " 11270000,\n",
       " 10873795,\n",
       " 9616263,\n",
       " 9321352,\n",
       " 8976749,\n",
       " 8889124,\n",
       " 7705000,\n",
       " 7687247,\n",
       " 7584588,\n",
       " 7256516,\n",
       " 7166944,\n",
       " 7130621,\n",
       " 7116118,\n",
       " 6920000,\n",
       " 6917500,\n",
       " 6692500,\n",
       " 6674983,\n",
       " 6673000,\n",
       " 6537235,\n",
       " 6500000,\n",
       " 6461665,\n",
       " 6433983,\n",
       " 6371355,\n",
       " 6334619,\n",
       " 6318119,\n",
       " 6290833,\n",
       " 6231084,\n",
       " 6186524,\n",
       " 6182852,\n",
       " 6157000,\n",
       " 6070666,\n",
       " 6046188,\n",
       " 6020087,\n",
       " 6010031,\n",
       " 6002713,\n",
       " 6000000,\n",
       " 5858500,\n",
       " 5790318,\n",
       " 5686733,\n",
       " 5550000,\n",
       " 5490000]"
      ]
     },
     "execution_count": 71,
     "metadata": {},
     "output_type": "execute_result"
    }
   ],
   "source": [
    "sales_fl = []\n",
    "for integer in sales_str_fl:\n",
    "    sales_fl.append(int(integer.replace(\",\",\"\")))\n",
    "\n",
    "sales_fl"
   ]
  },
  {
   "cell_type": "code",
   "execution_count": null,
   "id": "76cad571-16ab-4072-84bb-05a6085d2c89",
   "metadata": {},
   "outputs": [],
   "source": [
    "# I just need the link now.\n",
    "# which is housed in this: <div class=\"album\"><a href=\"https://bestsellingalbums.org/album/1034\">21</a></div>\n",
    "# so I need to use soup.find(\"div\", class_ = \"album\"), except I need the link, not just the line."
   ]
  },
  {
   "cell_type": "code",
   "execution_count": 73,
   "id": "15657a6b-b370-4a00-bdb6-b8ffc0044d88",
   "metadata": {},
   "outputs": [
    {
     "data": {
      "text/plain": [
       "<div class=\"album\"><a href=\"https://bestsellingalbums.org/album/1034\">21</a></div>"
      ]
     },
     "execution_count": 73,
     "metadata": {},
     "output_type": "execute_result"
    }
   ],
   "source": [
    "soup.find(\"div\", class_ = \"album\")"
   ]
  },
  {
   "cell_type": "code",
   "execution_count": 89,
   "id": "85dd3809-40ab-45db-a63e-5df637290bef",
   "metadata": {
    "scrolled": true
   },
   "outputs": [
    {
     "data": {
      "text/plain": [
       "[<div class=\"album\"><a href=\"https://bestsellingalbums.org/album/1034\">21</a></div>,\n",
       " <div class=\"album\"><a href=\"https://bestsellingalbums.org/album/1035\">25</a></div>,\n",
       " <div class=\"album\"><a href=\"https://bestsellingalbums.org/album/30524\">CHRISTMAS</a></div>,\n",
       " <div class=\"album\"><a href=\"https://bestsellingalbums.org/album/45488\">1989</a></div>,\n",
       " <div class=\"album\"><a href=\"https://bestsellingalbums.org/album/23318\">PURPOSE</a></div>,\n",
       " <div class=\"album\"><a href=\"https://bestsellingalbums.org/album/12876\">DIVIDE</a></div>,\n",
       " <div class=\"album\"><a href=\"https://bestsellingalbums.org/album/42961\">FROZEN</a></div>,\n",
       " <div class=\"album\"><a href=\"https://bestsellingalbums.org/album/23977\">TEENAGE DREAM</a></div>,\n",
       " <div class=\"album\"><a href=\"https://bestsellingalbums.org/album/12880\">X</a></div>,\n",
       " <div class=\"album\"><a href=\"https://bestsellingalbums.org/album/6777\">DOO-WOPS &amp; HOOLIGANS</a></div>,\n",
       " <div class=\"album\"><a href=\"https://bestsellingalbums.org/album/13756\">RECOVERY</a></div>,\n",
       " <div class=\"album\"><a href=\"https://bestsellingalbums.org/album/19810\">NIGHT VISIONS</a></div>,\n",
       " <div class=\"album\"><a href=\"https://bestsellingalbums.org/album/39978\">IN THE LONELY HOUR</a></div>,\n",
       " <div class=\"album\"><a href=\"https://bestsellingalbums.org/album/6778\">UNORTHODOX JUKEBOX</a></div>,\n",
       " <div class=\"album\"><a href=\"https://bestsellingalbums.org/album/45494\">RED</a></div>,\n",
       " <div class=\"album\"><a href=\"https://bestsellingalbums.org/album/12875\">+</a></div>,\n",
       " <div class=\"album\"><a href=\"https://bestsellingalbums.org/album/12457\">VIEWS</a></div>,\n",
       " <div class=\"album\"><a href=\"https://bestsellingalbums.org/album/47839\">BEAUTY BEHIND THE MADNESS</a></div>,\n",
       " <div class=\"album\"><a href=\"https://bestsellingalbums.org/album/5207\">WHEN WE ALL FALL ASLEEP, WHERE DO WE GO?</a></div>,\n",
       " <div class=\"album\"><a href=\"https://bestsellingalbums.org/album/25786\">BORN THIS WAY</a></div>,\n",
       " <div class=\"album\"><a href=\"https://bestsellingalbums.org/album/6859\">MAP OF THE SOUL: 7</a></div>,\n",
       " <div class=\"album\"><a href=\"https://bestsellingalbums.org/album/36763\">BEERBONGS &amp; BENTLEYS</a></div>,\n",
       " <div class=\"album\"><a href=\"https://bestsellingalbums.org/album/12455\">TAKE CARE</a></div>,\n",
       " <div class=\"album\"><a href=\"https://bestsellingalbums.org/album/45496\">SPEAK NOW</a></div>,\n",
       " <div class=\"album\"><a href=\"https://bestsellingalbums.org/album/23975\">PRISM</a></div>,\n",
       " <div class=\"album\"><a href=\"https://bestsellingalbums.org/album/25846\">BORN TO DIE</a></div>,\n",
       " <div class=\"album\"><a href=\"https://bestsellingalbums.org/album/38507\">LOUD</a></div>,\n",
       " <div class=\"album\"><a href=\"https://bestsellingalbums.org/album/38505\">ANTI</a></div>,\n",
       " <div class=\"album\"><a href=\"https://bestsellingalbums.org/album/49504\">BLURRYFACE</a></div>,\n",
       " <div class=\"album\"><a href=\"https://bestsellingalbums.org/album/36764\">HOLLYWOOD'S BLEEDING</a></div>,\n",
       " <div class=\"album\"><a href=\"https://bestsellingalbums.org/album/12453\">SCORPION</a></div>,\n",
       " <div class=\"album\"><a href=\"https://bestsellingalbums.org/album/36765\">STONEY</a></div>,\n",
       " <div class=\"album\"><a href=\"https://bestsellingalbums.org/album/34460\">TAKE ME HOME</a></div>,\n",
       " <div class=\"album\"><a href=\"https://bestsellingalbums.org/album/43568\">THE GREATEST SHOWMAN</a></div>,\n",
       " <div class=\"album\"><a href=\"https://bestsellingalbums.org/album/4969\">BEYONCÉ</a></div>,\n",
       " <div class=\"album\"><a href=\"https://bestsellingalbums.org/album/34874\">THE TRUTH ABOUT LOVE</a></div>,\n",
       " <div class=\"album\"><a href=\"https://bestsellingalbums.org/album/45495\">REPUTATION</a></div>,\n",
       " <div class=\"album\"><a href=\"https://bestsellingalbums.org/album/56027\">?</a></div>,\n",
       " <div class=\"album\"><a href=\"https://bestsellingalbums.org/album/8686\">TRAVELLER</a></div>,\n",
       " <div class=\"album\"><a href=\"https://bestsellingalbums.org/album/47843\">STARBOY</a></div>,\n",
       " <div class=\"album\"><a href=\"https://bestsellingalbums.org/album/34461\">UP ALL NIGHT</a></div>,\n",
       " <div class=\"album\"><a href=\"https://bestsellingalbums.org/album/34459\">MIDNIGHT MEMORIES</a></div>,\n",
       " <div class=\"album\"><a href=\"https://bestsellingalbums.org/album/6860\">MAP OF THE SOUL: PERSONA</a></div>,\n",
       " <div class=\"album\"><a href=\"https://bestsellingalbums.org/album/23018\">GOODBYE &amp; GOOD RIDDANCE</a></div>,\n",
       " <div class=\"album\"><a href=\"https://bestsellingalbums.org/album/9346\">A HEAD FULL OF DREAMS</a></div>,\n",
       " <div class=\"album\"><a href=\"https://bestsellingalbums.org/album/28330\">THE HEIST</a></div>,\n",
       " <div class=\"album\"><a href=\"https://bestsellingalbums.org/album/13762\">THE MARSHALL MATHERS LP 2</a></div>,\n",
       " <div class=\"album\"><a href=\"https://bestsellingalbums.org/album/45493\">LOVER</a></div>,\n",
       " <div class=\"album\"><a href=\"https://bestsellingalbums.org/album/21088\">WATCH THE THRONE</a></div>,\n",
       " <div class=\"album\"><a href=\"https://bestsellingalbums.org/album/28046\">THIS ONE'S FOR YOU</a></div>]"
      ]
     },
     "execution_count": 89,
     "metadata": {},
     "output_type": "execute_result"
    }
   ],
   "source": [
    "albums = soup.find_all(\"div\", class_ = \"album\")\n",
    "albums"
   ]
  },
  {
   "cell_type": "code",
   "execution_count": 168,
   "id": "d2a657b8-17ce-458a-ba0a-cbef439f0460",
   "metadata": {},
   "outputs": [],
   "source": [
    "## Maybe I need to get the a tag within the larger div to get the link? Was having trouble."
   ]
  },
  {
   "cell_type": "code",
   "execution_count": null,
   "id": "5c70d4f4-e166-40f6-a6a6-9982fe0c2c5e",
   "metadata": {},
   "outputs": [],
   "source": [
    "## having trouble: see the cell below."
   ]
  },
  {
   "cell_type": "code",
   "execution_count": 23,
   "id": "bd90ea54-e40e-44ff-a183-83f84290e1a2",
   "metadata": {
    "scrolled": true
   },
   "outputs": [
    {
     "name": "stdout",
     "output_type": "stream",
     "text": [
      "[<a href=\"https://bestsellingalbums.org/album/1034\">21</a>]\n",
      "[<a href=\"https://bestsellingalbums.org/album/1035\">25</a>]\n",
      "[<a href=\"https://bestsellingalbums.org/album/30524\">CHRISTMAS</a>]\n",
      "[<a href=\"https://bestsellingalbums.org/album/45488\">1989</a>]\n",
      "[<a href=\"https://bestsellingalbums.org/album/23318\">PURPOSE</a>]\n",
      "[<a href=\"https://bestsellingalbums.org/album/12876\">DIVIDE</a>]\n",
      "[<a href=\"https://bestsellingalbums.org/album/42961\">FROZEN</a>]\n",
      "[<a href=\"https://bestsellingalbums.org/album/23977\">TEENAGE DREAM</a>]\n",
      "[<a href=\"https://bestsellingalbums.org/album/12880\">X</a>]\n",
      "[<a href=\"https://bestsellingalbums.org/album/6777\">DOO-WOPS &amp; HOOLIGANS</a>]\n",
      "[<a href=\"https://bestsellingalbums.org/album/13756\">RECOVERY</a>]\n",
      "[<a href=\"https://bestsellingalbums.org/album/19810\">NIGHT VISIONS</a>]\n",
      "[<a href=\"https://bestsellingalbums.org/album/39978\">IN THE LONELY HOUR</a>]\n",
      "[<a href=\"https://bestsellingalbums.org/album/6778\">UNORTHODOX JUKEBOX</a>]\n",
      "[<a href=\"https://bestsellingalbums.org/album/45494\">RED</a>]\n",
      "[<a href=\"https://bestsellingalbums.org/album/12875\">+</a>]\n",
      "[<a href=\"https://bestsellingalbums.org/album/12457\">VIEWS</a>]\n",
      "[<a href=\"https://bestsellingalbums.org/album/47839\">BEAUTY BEHIND THE MADNESS</a>]\n",
      "[<a href=\"https://bestsellingalbums.org/album/5207\">WHEN WE ALL FALL ASLEEP, WHERE DO WE GO?</a>]\n",
      "[<a href=\"https://bestsellingalbums.org/album/25786\">BORN THIS WAY</a>]\n",
      "[<a href=\"https://bestsellingalbums.org/album/6859\">MAP OF THE SOUL: 7</a>]\n",
      "[<a href=\"https://bestsellingalbums.org/album/36763\">BEERBONGS &amp; BENTLEYS</a>]\n",
      "[<a href=\"https://bestsellingalbums.org/album/12455\">TAKE CARE</a>]\n",
      "[<a href=\"https://bestsellingalbums.org/album/45496\">SPEAK NOW</a>]\n",
      "[<a href=\"https://bestsellingalbums.org/album/23975\">PRISM</a>]\n",
      "[<a href=\"https://bestsellingalbums.org/album/25846\">BORN TO DIE</a>]\n",
      "[<a href=\"https://bestsellingalbums.org/album/38507\">LOUD</a>]\n",
      "[<a href=\"https://bestsellingalbums.org/album/38505\">ANTI</a>]\n",
      "[<a href=\"https://bestsellingalbums.org/album/49504\">BLURRYFACE</a>]\n",
      "[<a href=\"https://bestsellingalbums.org/album/36764\">HOLLYWOOD'S BLEEDING</a>]\n",
      "[<a href=\"https://bestsellingalbums.org/album/12453\">SCORPION</a>]\n",
      "[<a href=\"https://bestsellingalbums.org/album/36765\">STONEY</a>]\n",
      "[<a href=\"https://bestsellingalbums.org/album/34460\">TAKE ME HOME</a>]\n",
      "[<a href=\"https://bestsellingalbums.org/album/43568\">THE GREATEST SHOWMAN</a>]\n",
      "[<a href=\"https://bestsellingalbums.org/album/4969\">BEYONCÉ</a>]\n",
      "[<a href=\"https://bestsellingalbums.org/album/34874\">THE TRUTH ABOUT LOVE</a>]\n",
      "[<a href=\"https://bestsellingalbums.org/album/45495\">REPUTATION</a>]\n",
      "[<a href=\"https://bestsellingalbums.org/album/56027\">?</a>]\n",
      "[<a href=\"https://bestsellingalbums.org/album/8686\">TRAVELLER</a>]\n",
      "[<a href=\"https://bestsellingalbums.org/album/47843\">STARBOY</a>]\n",
      "[<a href=\"https://bestsellingalbums.org/album/34461\">UP ALL NIGHT</a>]\n",
      "[<a href=\"https://bestsellingalbums.org/album/34459\">MIDNIGHT MEMORIES</a>]\n",
      "[<a href=\"https://bestsellingalbums.org/album/6860\">MAP OF THE SOUL: PERSONA</a>]\n",
      "[<a href=\"https://bestsellingalbums.org/album/23018\">GOODBYE &amp; GOOD RIDDANCE</a>]\n",
      "[<a href=\"https://bestsellingalbums.org/album/9346\">A HEAD FULL OF DREAMS</a>]\n",
      "[<a href=\"https://bestsellingalbums.org/album/28330\">THE HEIST</a>]\n",
      "[<a href=\"https://bestsellingalbums.org/album/13762\">THE MARSHALL MATHERS LP 2</a>]\n",
      "[<a href=\"https://bestsellingalbums.org/album/45493\">LOVER</a>]\n",
      "[<a href=\"https://bestsellingalbums.org/album/21088\">WATCH THE THRONE</a>]\n",
      "[<a href=\"https://bestsellingalbums.org/album/28046\">THIS ONE'S FOR YOU</a>]\n"
     ]
    }
   ],
   "source": [
    "links_fl = []\n",
    "for a in albums:\n",
    "    print(a.find_all(\"a\"))"
   ]
  },
  {
   "cell_type": "code",
   "execution_count": 142,
   "id": "edd22c5b-a8ad-4d0b-8f25-21aab7040b8c",
   "metadata": {},
   "outputs": [
    {
     "data": {
      "text/plain": [
       "<div class=\"album\"><a href=\"https://bestsellingalbums.org/album/1034\">21</a></div>"
      ]
     },
     "execution_count": 142,
     "metadata": {},
     "output_type": "execute_result"
    }
   ],
   "source": [
    "links_div_test = soup.find(class_ = \"album\")\n",
    "links_div_test"
   ]
  },
  {
   "cell_type": "code",
   "execution_count": 184,
   "id": "700a7940-a7aa-4925-8ad7-f520092e432a",
   "metadata": {
    "scrolled": true
   },
   "outputs": [
    {
     "data": {
      "text/plain": [
       "[<a href=\"https://bestsellingalbums.org/album/1034\">21</a>]"
      ]
     },
     "execution_count": 184,
     "metadata": {},
     "output_type": "execute_result"
    }
   ],
   "source": [
    "links_test = links_div_test.find_all(\"a\")\n",
    "links_test"
   ]
  },
  {
   "cell_type": "code",
   "execution_count": 180,
   "id": "92804379-57f1-463f-8d87-e207206a18dd",
   "metadata": {},
   "outputs": [
    {
     "data": {
      "text/plain": [
       "bs4.element.ResultSet"
      ]
     },
     "execution_count": 180,
     "metadata": {},
     "output_type": "execute_result"
    }
   ],
   "source": [
    "type(links_test)"
   ]
  },
  {
   "cell_type": "code",
   "execution_count": 148,
   "id": "04dbb366-956e-41e0-9498-d76017912c21",
   "metadata": {},
   "outputs": [
    {
     "data": {
      "text/plain": [
       "['https://bestsellingalbums.org/album/1034']"
      ]
     },
     "execution_count": 148,
     "metadata": {},
     "output_type": "execute_result"
    }
   ],
   "source": [
    "links_fl_test = []\n",
    "for link in links_test:\n",
    "    links_fl_test.append(link.get(\"href\"))\n",
    "\n",
    "links_fl_test\n",
    "    "
   ]
  },
  {
   "cell_type": "code",
   "execution_count": 179,
   "id": "cd5e1967-3846-402b-983b-003978059953",
   "metadata": {},
   "outputs": [
    {
     "data": {
      "text/plain": [
       "list"
      ]
     },
     "execution_count": 179,
     "metadata": {},
     "output_type": "execute_result"
    }
   ],
   "source": [
    "type(links_fl_test)"
   ]
  },
  {
   "cell_type": "code",
   "execution_count": 149,
   "id": "64776dc2-ee4f-4d4a-893f-aa0f07d87993",
   "metadata": {},
   "outputs": [],
   "source": [
    "## Okay the test worked for 1 -- thanks ChatGPT. \n",
    "## Now to code for all page 1's links "
   ]
  },
  {
   "cell_type": "code",
   "execution_count": 150,
   "id": "9b28efb6-6d44-41a6-8045-bb1ed0ef4bac",
   "metadata": {
    "scrolled": true
   },
   "outputs": [
    {
     "data": {
      "text/plain": [
       "[<div class=\"album\"><a href=\"https://bestsellingalbums.org/album/1034\">21</a></div>,\n",
       " <div class=\"album\"><a href=\"https://bestsellingalbums.org/album/1035\">25</a></div>,\n",
       " <div class=\"album\"><a href=\"https://bestsellingalbums.org/album/30524\">CHRISTMAS</a></div>,\n",
       " <div class=\"album\"><a href=\"https://bestsellingalbums.org/album/45488\">1989</a></div>,\n",
       " <div class=\"album\"><a href=\"https://bestsellingalbums.org/album/23318\">PURPOSE</a></div>,\n",
       " <div class=\"album\"><a href=\"https://bestsellingalbums.org/album/12876\">DIVIDE</a></div>,\n",
       " <div class=\"album\"><a href=\"https://bestsellingalbums.org/album/42961\">FROZEN</a></div>,\n",
       " <div class=\"album\"><a href=\"https://bestsellingalbums.org/album/23977\">TEENAGE DREAM</a></div>,\n",
       " <div class=\"album\"><a href=\"https://bestsellingalbums.org/album/12880\">X</a></div>,\n",
       " <div class=\"album\"><a href=\"https://bestsellingalbums.org/album/6777\">DOO-WOPS &amp; HOOLIGANS</a></div>,\n",
       " <div class=\"album\"><a href=\"https://bestsellingalbums.org/album/13756\">RECOVERY</a></div>,\n",
       " <div class=\"album\"><a href=\"https://bestsellingalbums.org/album/19810\">NIGHT VISIONS</a></div>,\n",
       " <div class=\"album\"><a href=\"https://bestsellingalbums.org/album/39978\">IN THE LONELY HOUR</a></div>,\n",
       " <div class=\"album\"><a href=\"https://bestsellingalbums.org/album/6778\">UNORTHODOX JUKEBOX</a></div>,\n",
       " <div class=\"album\"><a href=\"https://bestsellingalbums.org/album/45494\">RED</a></div>,\n",
       " <div class=\"album\"><a href=\"https://bestsellingalbums.org/album/12875\">+</a></div>,\n",
       " <div class=\"album\"><a href=\"https://bestsellingalbums.org/album/12457\">VIEWS</a></div>,\n",
       " <div class=\"album\"><a href=\"https://bestsellingalbums.org/album/47839\">BEAUTY BEHIND THE MADNESS</a></div>,\n",
       " <div class=\"album\"><a href=\"https://bestsellingalbums.org/album/5207\">WHEN WE ALL FALL ASLEEP, WHERE DO WE GO?</a></div>,\n",
       " <div class=\"album\"><a href=\"https://bestsellingalbums.org/album/25786\">BORN THIS WAY</a></div>,\n",
       " <div class=\"album\"><a href=\"https://bestsellingalbums.org/album/6859\">MAP OF THE SOUL: 7</a></div>,\n",
       " <div class=\"album\"><a href=\"https://bestsellingalbums.org/album/36763\">BEERBONGS &amp; BENTLEYS</a></div>,\n",
       " <div class=\"album\"><a href=\"https://bestsellingalbums.org/album/12455\">TAKE CARE</a></div>,\n",
       " <div class=\"album\"><a href=\"https://bestsellingalbums.org/album/45496\">SPEAK NOW</a></div>,\n",
       " <div class=\"album\"><a href=\"https://bestsellingalbums.org/album/23975\">PRISM</a></div>,\n",
       " <div class=\"album\"><a href=\"https://bestsellingalbums.org/album/25846\">BORN TO DIE</a></div>,\n",
       " <div class=\"album\"><a href=\"https://bestsellingalbums.org/album/38507\">LOUD</a></div>,\n",
       " <div class=\"album\"><a href=\"https://bestsellingalbums.org/album/38505\">ANTI</a></div>,\n",
       " <div class=\"album\"><a href=\"https://bestsellingalbums.org/album/49504\">BLURRYFACE</a></div>,\n",
       " <div class=\"album\"><a href=\"https://bestsellingalbums.org/album/36764\">HOLLYWOOD'S BLEEDING</a></div>,\n",
       " <div class=\"album\"><a href=\"https://bestsellingalbums.org/album/12453\">SCORPION</a></div>,\n",
       " <div class=\"album\"><a href=\"https://bestsellingalbums.org/album/36765\">STONEY</a></div>,\n",
       " <div class=\"album\"><a href=\"https://bestsellingalbums.org/album/34460\">TAKE ME HOME</a></div>,\n",
       " <div class=\"album\"><a href=\"https://bestsellingalbums.org/album/43568\">THE GREATEST SHOWMAN</a></div>,\n",
       " <div class=\"album\"><a href=\"https://bestsellingalbums.org/album/4969\">BEYONCÉ</a></div>,\n",
       " <div class=\"album\"><a href=\"https://bestsellingalbums.org/album/34874\">THE TRUTH ABOUT LOVE</a></div>,\n",
       " <div class=\"album\"><a href=\"https://bestsellingalbums.org/album/45495\">REPUTATION</a></div>,\n",
       " <div class=\"album\"><a href=\"https://bestsellingalbums.org/album/56027\">?</a></div>,\n",
       " <div class=\"album\"><a href=\"https://bestsellingalbums.org/album/8686\">TRAVELLER</a></div>,\n",
       " <div class=\"album\"><a href=\"https://bestsellingalbums.org/album/47843\">STARBOY</a></div>,\n",
       " <div class=\"album\"><a href=\"https://bestsellingalbums.org/album/34461\">UP ALL NIGHT</a></div>,\n",
       " <div class=\"album\"><a href=\"https://bestsellingalbums.org/album/34459\">MIDNIGHT MEMORIES</a></div>,\n",
       " <div class=\"album\"><a href=\"https://bestsellingalbums.org/album/6860\">MAP OF THE SOUL: PERSONA</a></div>,\n",
       " <div class=\"album\"><a href=\"https://bestsellingalbums.org/album/23018\">GOODBYE &amp; GOOD RIDDANCE</a></div>,\n",
       " <div class=\"album\"><a href=\"https://bestsellingalbums.org/album/9346\">A HEAD FULL OF DREAMS</a></div>,\n",
       " <div class=\"album\"><a href=\"https://bestsellingalbums.org/album/28330\">THE HEIST</a></div>,\n",
       " <div class=\"album\"><a href=\"https://bestsellingalbums.org/album/13762\">THE MARSHALL MATHERS LP 2</a></div>,\n",
       " <div class=\"album\"><a href=\"https://bestsellingalbums.org/album/45493\">LOVER</a></div>,\n",
       " <div class=\"album\"><a href=\"https://bestsellingalbums.org/album/21088\">WATCH THE THRONE</a></div>,\n",
       " <div class=\"album\"><a href=\"https://bestsellingalbums.org/album/28046\">THIS ONE'S FOR YOU</a></div>]"
      ]
     },
     "execution_count": 150,
     "metadata": {},
     "output_type": "execute_result"
    }
   ],
   "source": [
    "links_div = soup.find_all(class_ = \"album\")\n",
    "links_div"
   ]
  },
  {
   "cell_type": "code",
   "execution_count": 158,
   "id": "441c2ce5-26a9-44e6-970d-fddc81b8a57f",
   "metadata": {},
   "outputs": [
    {
     "data": {
      "text/plain": [
       "bs4.element.ResultSet"
      ]
     },
     "execution_count": 158,
     "metadata": {},
     "output_type": "execute_result"
    }
   ],
   "source": [
    "type(links_div)"
   ]
  },
  {
   "cell_type": "code",
   "execution_count": 161,
   "id": "3ae8d3d3-82bf-4c0a-9f2c-d29b2c9c34b3",
   "metadata": {},
   "outputs": [
    {
     "ename": "AttributeError",
     "evalue": "ResultSet object has no attribute 'find_all'. You're probably treating a list of elements like a single element. Did you call find_all() when you meant to call find()?",
     "output_type": "error",
     "traceback": [
      "\u001b[0;31m---------------------------------------------------------------------------\u001b[0m",
      "\u001b[0;31mAttributeError\u001b[0m                            Traceback (most recent call last)",
      "Cell \u001b[0;32mIn[161], line 1\u001b[0m\n\u001b[0;32m----> 1\u001b[0m \u001b[43mlinks_div\u001b[49m\u001b[38;5;241;43m.\u001b[39;49m\u001b[43mfind_all\u001b[49m(\u001b[38;5;124m\"\u001b[39m\u001b[38;5;124ma\u001b[39m\u001b[38;5;124m\"\u001b[39m)\n",
      "File \u001b[0;32m~/Library/jupyterlab-desktop/jlab_server/lib/python3.12/site-packages/bs4/element.py:2433\u001b[0m, in \u001b[0;36mResultSet.__getattr__\u001b[0;34m(self, key)\u001b[0m\n\u001b[1;32m   2431\u001b[0m \u001b[38;5;28;01mdef\u001b[39;00m \u001b[38;5;21m__getattr__\u001b[39m(\u001b[38;5;28mself\u001b[39m, key):\n\u001b[1;32m   2432\u001b[0m \u001b[38;5;250m    \u001b[39m\u001b[38;5;124;03m\"\"\"Raise a helpful exception to explain a common code fix.\"\"\"\u001b[39;00m\n\u001b[0;32m-> 2433\u001b[0m     \u001b[38;5;28;01mraise\u001b[39;00m \u001b[38;5;167;01mAttributeError\u001b[39;00m(\n\u001b[1;32m   2434\u001b[0m         \u001b[38;5;124m\"\u001b[39m\u001b[38;5;124mResultSet object has no attribute \u001b[39m\u001b[38;5;124m'\u001b[39m\u001b[38;5;132;01m%s\u001b[39;00m\u001b[38;5;124m'\u001b[39m\u001b[38;5;124m. You\u001b[39m\u001b[38;5;124m'\u001b[39m\u001b[38;5;124mre probably treating a list of elements like a single element. Did you call find_all() when you meant to call find()?\u001b[39m\u001b[38;5;124m\"\u001b[39m \u001b[38;5;241m%\u001b[39m key\n\u001b[1;32m   2435\u001b[0m     )\n",
      "\u001b[0;31mAttributeError\u001b[0m: ResultSet object has no attribute 'find_all'. You're probably treating a list of elements like a single element. Did you call find_all() when you meant to call find()?"
     ]
    }
   ],
   "source": [
    "links_div.find_all(\"a\")"
   ]
  },
  {
   "cell_type": "code",
   "execution_count": null,
   "id": "78fcc079-9525-46b6-b34c-ca0abc6097a8",
   "metadata": {},
   "outputs": [],
   "source": [
    "## try again"
   ]
  },
  {
   "cell_type": "code",
   "execution_count": null,
   "id": "a8e1f672-c5ff-4410-9469-0b60814085f5",
   "metadata": {},
   "outputs": [],
   "source": []
  },
  {
   "cell_type": "code",
   "execution_count": null,
   "id": "4ad4e447-2b09-4d1a-ad69-990d76bd4042",
   "metadata": {},
   "outputs": [],
   "source": []
  },
  {
   "cell_type": "code",
   "execution_count": 171,
   "id": "8c44435a-6149-4c98-a67e-7bf4a039569c",
   "metadata": {
    "scrolled": true
   },
   "outputs": [
    {
     "data": {
      "text/plain": [
       "[<div class=\"album\"><a href=\"https://bestsellingalbums.org/album/1034\">21</a></div>,\n",
       " <div class=\"album\"><a href=\"https://bestsellingalbums.org/album/1035\">25</a></div>,\n",
       " <div class=\"album\"><a href=\"https://bestsellingalbums.org/album/30524\">CHRISTMAS</a></div>,\n",
       " <div class=\"album\"><a href=\"https://bestsellingalbums.org/album/45488\">1989</a></div>,\n",
       " <div class=\"album\"><a href=\"https://bestsellingalbums.org/album/23318\">PURPOSE</a></div>,\n",
       " <div class=\"album\"><a href=\"https://bestsellingalbums.org/album/12876\">DIVIDE</a></div>,\n",
       " <div class=\"album\"><a href=\"https://bestsellingalbums.org/album/42961\">FROZEN</a></div>,\n",
       " <div class=\"album\"><a href=\"https://bestsellingalbums.org/album/23977\">TEENAGE DREAM</a></div>,\n",
       " <div class=\"album\"><a href=\"https://bestsellingalbums.org/album/12880\">X</a></div>,\n",
       " <div class=\"album\"><a href=\"https://bestsellingalbums.org/album/6777\">DOO-WOPS &amp; HOOLIGANS</a></div>,\n",
       " <div class=\"album\"><a href=\"https://bestsellingalbums.org/album/13756\">RECOVERY</a></div>,\n",
       " <div class=\"album\"><a href=\"https://bestsellingalbums.org/album/19810\">NIGHT VISIONS</a></div>,\n",
       " <div class=\"album\"><a href=\"https://bestsellingalbums.org/album/39978\">IN THE LONELY HOUR</a></div>,\n",
       " <div class=\"album\"><a href=\"https://bestsellingalbums.org/album/6778\">UNORTHODOX JUKEBOX</a></div>,\n",
       " <div class=\"album\"><a href=\"https://bestsellingalbums.org/album/45494\">RED</a></div>,\n",
       " <div class=\"album\"><a href=\"https://bestsellingalbums.org/album/12875\">+</a></div>,\n",
       " <div class=\"album\"><a href=\"https://bestsellingalbums.org/album/12457\">VIEWS</a></div>,\n",
       " <div class=\"album\"><a href=\"https://bestsellingalbums.org/album/47839\">BEAUTY BEHIND THE MADNESS</a></div>,\n",
       " <div class=\"album\"><a href=\"https://bestsellingalbums.org/album/5207\">WHEN WE ALL FALL ASLEEP, WHERE DO WE GO?</a></div>,\n",
       " <div class=\"album\"><a href=\"https://bestsellingalbums.org/album/25786\">BORN THIS WAY</a></div>,\n",
       " <div class=\"album\"><a href=\"https://bestsellingalbums.org/album/6859\">MAP OF THE SOUL: 7</a></div>,\n",
       " <div class=\"album\"><a href=\"https://bestsellingalbums.org/album/36763\">BEERBONGS &amp; BENTLEYS</a></div>,\n",
       " <div class=\"album\"><a href=\"https://bestsellingalbums.org/album/12455\">TAKE CARE</a></div>,\n",
       " <div class=\"album\"><a href=\"https://bestsellingalbums.org/album/45496\">SPEAK NOW</a></div>,\n",
       " <div class=\"album\"><a href=\"https://bestsellingalbums.org/album/23975\">PRISM</a></div>,\n",
       " <div class=\"album\"><a href=\"https://bestsellingalbums.org/album/25846\">BORN TO DIE</a></div>,\n",
       " <div class=\"album\"><a href=\"https://bestsellingalbums.org/album/38507\">LOUD</a></div>,\n",
       " <div class=\"album\"><a href=\"https://bestsellingalbums.org/album/38505\">ANTI</a></div>,\n",
       " <div class=\"album\"><a href=\"https://bestsellingalbums.org/album/49504\">BLURRYFACE</a></div>,\n",
       " <div class=\"album\"><a href=\"https://bestsellingalbums.org/album/36764\">HOLLYWOOD'S BLEEDING</a></div>,\n",
       " <div class=\"album\"><a href=\"https://bestsellingalbums.org/album/12453\">SCORPION</a></div>,\n",
       " <div class=\"album\"><a href=\"https://bestsellingalbums.org/album/36765\">STONEY</a></div>,\n",
       " <div class=\"album\"><a href=\"https://bestsellingalbums.org/album/34460\">TAKE ME HOME</a></div>,\n",
       " <div class=\"album\"><a href=\"https://bestsellingalbums.org/album/43568\">THE GREATEST SHOWMAN</a></div>,\n",
       " <div class=\"album\"><a href=\"https://bestsellingalbums.org/album/4969\">BEYONCÉ</a></div>,\n",
       " <div class=\"album\"><a href=\"https://bestsellingalbums.org/album/34874\">THE TRUTH ABOUT LOVE</a></div>,\n",
       " <div class=\"album\"><a href=\"https://bestsellingalbums.org/album/45495\">REPUTATION</a></div>,\n",
       " <div class=\"album\"><a href=\"https://bestsellingalbums.org/album/56027\">?</a></div>,\n",
       " <div class=\"album\"><a href=\"https://bestsellingalbums.org/album/8686\">TRAVELLER</a></div>,\n",
       " <div class=\"album\"><a href=\"https://bestsellingalbums.org/album/47843\">STARBOY</a></div>,\n",
       " <div class=\"album\"><a href=\"https://bestsellingalbums.org/album/34461\">UP ALL NIGHT</a></div>,\n",
       " <div class=\"album\"><a href=\"https://bestsellingalbums.org/album/34459\">MIDNIGHT MEMORIES</a></div>,\n",
       " <div class=\"album\"><a href=\"https://bestsellingalbums.org/album/6860\">MAP OF THE SOUL: PERSONA</a></div>,\n",
       " <div class=\"album\"><a href=\"https://bestsellingalbums.org/album/23018\">GOODBYE &amp; GOOD RIDDANCE</a></div>,\n",
       " <div class=\"album\"><a href=\"https://bestsellingalbums.org/album/9346\">A HEAD FULL OF DREAMS</a></div>,\n",
       " <div class=\"album\"><a href=\"https://bestsellingalbums.org/album/28330\">THE HEIST</a></div>,\n",
       " <div class=\"album\"><a href=\"https://bestsellingalbums.org/album/13762\">THE MARSHALL MATHERS LP 2</a></div>,\n",
       " <div class=\"album\"><a href=\"https://bestsellingalbums.org/album/45493\">LOVER</a></div>,\n",
       " <div class=\"album\"><a href=\"https://bestsellingalbums.org/album/21088\">WATCH THE THRONE</a></div>,\n",
       " <div class=\"album\"><a href=\"https://bestsellingalbums.org/album/28046\">THIS ONE'S FOR YOU</a></div>]"
      ]
     },
     "execution_count": 171,
     "metadata": {},
     "output_type": "execute_result"
    }
   ],
   "source": [
    "test_v2 = soup.find_all(\"div\", class_ = \"album\")\n",
    "test_v2"
   ]
  },
  {
   "cell_type": "code",
   "execution_count": 172,
   "id": "47654840-4f04-4656-bf93-a015c70e542e",
   "metadata": {},
   "outputs": [
    {
     "data": {
      "text/plain": [
       "bs4.element.ResultSet"
      ]
     },
     "execution_count": 172,
     "metadata": {},
     "output_type": "execute_result"
    }
   ],
   "source": [
    "type(test_v2)"
   ]
  },
  {
   "cell_type": "code",
   "execution_count": 178,
   "id": "edd3bae9-492f-4690-ad99-97d4dab7854f",
   "metadata": {},
   "outputs": [
    {
     "ename": "AttributeError",
     "evalue": "ResultSet object has no attribute 'find'. You're probably treating a list of elements like a single element. Did you call find_all() when you meant to call find()?",
     "output_type": "error",
     "traceback": [
      "\u001b[0;31m---------------------------------------------------------------------------\u001b[0m",
      "\u001b[0;31mAttributeError\u001b[0m                            Traceback (most recent call last)",
      "Cell \u001b[0;32mIn[178], line 3\u001b[0m\n\u001b[1;32m      1\u001b[0m urls_fl \u001b[38;5;241m=\u001b[39m []\n\u001b[1;32m      2\u001b[0m \u001b[38;5;28;01mfor\u001b[39;00m href \u001b[38;5;129;01min\u001b[39;00m test_v2:\n\u001b[0;32m----> 3\u001b[0m     link \u001b[38;5;241m=\u001b[39m \u001b[43mtest_v2\u001b[49m\u001b[38;5;241;43m.\u001b[39;49m\u001b[43mfind\u001b[49m(\u001b[38;5;124m\"\u001b[39m\u001b[38;5;124ma\u001b[39m\u001b[38;5;124m\"\u001b[39m)\n\u001b[1;32m      4\u001b[0m     link\u001b[38;5;241m.\u001b[39mget(\u001b[38;5;124m\"\u001b[39m\u001b[38;5;124mhref\u001b[39m\u001b[38;5;124m\"\u001b[39m)\n\u001b[1;32m      5\u001b[0m     urls_fl\u001b[38;5;241m.\u001b[39mappend(url)\n",
      "File \u001b[0;32m~/Library/jupyterlab-desktop/jlab_server/lib/python3.12/site-packages/bs4/element.py:2433\u001b[0m, in \u001b[0;36mResultSet.__getattr__\u001b[0;34m(self, key)\u001b[0m\n\u001b[1;32m   2431\u001b[0m \u001b[38;5;28;01mdef\u001b[39;00m \u001b[38;5;21m__getattr__\u001b[39m(\u001b[38;5;28mself\u001b[39m, key):\n\u001b[1;32m   2432\u001b[0m \u001b[38;5;250m    \u001b[39m\u001b[38;5;124;03m\"\"\"Raise a helpful exception to explain a common code fix.\"\"\"\u001b[39;00m\n\u001b[0;32m-> 2433\u001b[0m     \u001b[38;5;28;01mraise\u001b[39;00m \u001b[38;5;167;01mAttributeError\u001b[39;00m(\n\u001b[1;32m   2434\u001b[0m         \u001b[38;5;124m\"\u001b[39m\u001b[38;5;124mResultSet object has no attribute \u001b[39m\u001b[38;5;124m'\u001b[39m\u001b[38;5;132;01m%s\u001b[39;00m\u001b[38;5;124m'\u001b[39m\u001b[38;5;124m. You\u001b[39m\u001b[38;5;124m'\u001b[39m\u001b[38;5;124mre probably treating a list of elements like a single element. Did you call find_all() when you meant to call find()?\u001b[39m\u001b[38;5;124m\"\u001b[39m \u001b[38;5;241m%\u001b[39m key\n\u001b[1;32m   2435\u001b[0m     )\n",
      "\u001b[0;31mAttributeError\u001b[0m: ResultSet object has no attribute 'find'. You're probably treating a list of elements like a single element. Did you call find_all() when you meant to call find()?"
     ]
    }
   ],
   "source": [
    "urls_fl = []\n",
    "for href in test_v2:\n",
    "    link = test_v2.find(\"a\")\n",
    "    link.get(\"href\")\n",
    "    urls_fl.append(url)\n",
    "\n",
    "urls_fl"
   ]
  },
  {
   "cell_type": "code",
   "execution_count": null,
   "id": "35af37f0-db5b-48fd-8689-452d6e8dd7ac",
   "metadata": {},
   "outputs": [],
   "source": [
    "## test 4"
   ]
  },
  {
   "cell_type": "code",
   "execution_count": 181,
   "id": "0e1726ad-2941-4628-ab75-c3be495f9d4c",
   "metadata": {
    "scrolled": true
   },
   "outputs": [
    {
     "data": {
      "text/plain": [
       "[<div class=\"album\"><a href=\"https://bestsellingalbums.org/album/1034\">21</a></div>,\n",
       " <div class=\"album\"><a href=\"https://bestsellingalbums.org/album/1035\">25</a></div>,\n",
       " <div class=\"album\"><a href=\"https://bestsellingalbums.org/album/30524\">CHRISTMAS</a></div>,\n",
       " <div class=\"album\"><a href=\"https://bestsellingalbums.org/album/45488\">1989</a></div>,\n",
       " <div class=\"album\"><a href=\"https://bestsellingalbums.org/album/23318\">PURPOSE</a></div>,\n",
       " <div class=\"album\"><a href=\"https://bestsellingalbums.org/album/12876\">DIVIDE</a></div>,\n",
       " <div class=\"album\"><a href=\"https://bestsellingalbums.org/album/42961\">FROZEN</a></div>,\n",
       " <div class=\"album\"><a href=\"https://bestsellingalbums.org/album/23977\">TEENAGE DREAM</a></div>,\n",
       " <div class=\"album\"><a href=\"https://bestsellingalbums.org/album/12880\">X</a></div>,\n",
       " <div class=\"album\"><a href=\"https://bestsellingalbums.org/album/6777\">DOO-WOPS &amp; HOOLIGANS</a></div>,\n",
       " <div class=\"album\"><a href=\"https://bestsellingalbums.org/album/13756\">RECOVERY</a></div>,\n",
       " <div class=\"album\"><a href=\"https://bestsellingalbums.org/album/19810\">NIGHT VISIONS</a></div>,\n",
       " <div class=\"album\"><a href=\"https://bestsellingalbums.org/album/39978\">IN THE LONELY HOUR</a></div>,\n",
       " <div class=\"album\"><a href=\"https://bestsellingalbums.org/album/6778\">UNORTHODOX JUKEBOX</a></div>,\n",
       " <div class=\"album\"><a href=\"https://bestsellingalbums.org/album/45494\">RED</a></div>,\n",
       " <div class=\"album\"><a href=\"https://bestsellingalbums.org/album/12875\">+</a></div>,\n",
       " <div class=\"album\"><a href=\"https://bestsellingalbums.org/album/12457\">VIEWS</a></div>,\n",
       " <div class=\"album\"><a href=\"https://bestsellingalbums.org/album/47839\">BEAUTY BEHIND THE MADNESS</a></div>,\n",
       " <div class=\"album\"><a href=\"https://bestsellingalbums.org/album/5207\">WHEN WE ALL FALL ASLEEP, WHERE DO WE GO?</a></div>,\n",
       " <div class=\"album\"><a href=\"https://bestsellingalbums.org/album/25786\">BORN THIS WAY</a></div>,\n",
       " <div class=\"album\"><a href=\"https://bestsellingalbums.org/album/6859\">MAP OF THE SOUL: 7</a></div>,\n",
       " <div class=\"album\"><a href=\"https://bestsellingalbums.org/album/36763\">BEERBONGS &amp; BENTLEYS</a></div>,\n",
       " <div class=\"album\"><a href=\"https://bestsellingalbums.org/album/12455\">TAKE CARE</a></div>,\n",
       " <div class=\"album\"><a href=\"https://bestsellingalbums.org/album/45496\">SPEAK NOW</a></div>,\n",
       " <div class=\"album\"><a href=\"https://bestsellingalbums.org/album/23975\">PRISM</a></div>,\n",
       " <div class=\"album\"><a href=\"https://bestsellingalbums.org/album/25846\">BORN TO DIE</a></div>,\n",
       " <div class=\"album\"><a href=\"https://bestsellingalbums.org/album/38507\">LOUD</a></div>,\n",
       " <div class=\"album\"><a href=\"https://bestsellingalbums.org/album/38505\">ANTI</a></div>,\n",
       " <div class=\"album\"><a href=\"https://bestsellingalbums.org/album/49504\">BLURRYFACE</a></div>,\n",
       " <div class=\"album\"><a href=\"https://bestsellingalbums.org/album/36764\">HOLLYWOOD'S BLEEDING</a></div>,\n",
       " <div class=\"album\"><a href=\"https://bestsellingalbums.org/album/12453\">SCORPION</a></div>,\n",
       " <div class=\"album\"><a href=\"https://bestsellingalbums.org/album/36765\">STONEY</a></div>,\n",
       " <div class=\"album\"><a href=\"https://bestsellingalbums.org/album/34460\">TAKE ME HOME</a></div>,\n",
       " <div class=\"album\"><a href=\"https://bestsellingalbums.org/album/43568\">THE GREATEST SHOWMAN</a></div>,\n",
       " <div class=\"album\"><a href=\"https://bestsellingalbums.org/album/4969\">BEYONCÉ</a></div>,\n",
       " <div class=\"album\"><a href=\"https://bestsellingalbums.org/album/34874\">THE TRUTH ABOUT LOVE</a></div>,\n",
       " <div class=\"album\"><a href=\"https://bestsellingalbums.org/album/45495\">REPUTATION</a></div>,\n",
       " <div class=\"album\"><a href=\"https://bestsellingalbums.org/album/56027\">?</a></div>,\n",
       " <div class=\"album\"><a href=\"https://bestsellingalbums.org/album/8686\">TRAVELLER</a></div>,\n",
       " <div class=\"album\"><a href=\"https://bestsellingalbums.org/album/47843\">STARBOY</a></div>,\n",
       " <div class=\"album\"><a href=\"https://bestsellingalbums.org/album/34461\">UP ALL NIGHT</a></div>,\n",
       " <div class=\"album\"><a href=\"https://bestsellingalbums.org/album/34459\">MIDNIGHT MEMORIES</a></div>,\n",
       " <div class=\"album\"><a href=\"https://bestsellingalbums.org/album/6860\">MAP OF THE SOUL: PERSONA</a></div>,\n",
       " <div class=\"album\"><a href=\"https://bestsellingalbums.org/album/23018\">GOODBYE &amp; GOOD RIDDANCE</a></div>,\n",
       " <div class=\"album\"><a href=\"https://bestsellingalbums.org/album/9346\">A HEAD FULL OF DREAMS</a></div>,\n",
       " <div class=\"album\"><a href=\"https://bestsellingalbums.org/album/28330\">THE HEIST</a></div>,\n",
       " <div class=\"album\"><a href=\"https://bestsellingalbums.org/album/13762\">THE MARSHALL MATHERS LP 2</a></div>,\n",
       " <div class=\"album\"><a href=\"https://bestsellingalbums.org/album/45493\">LOVER</a></div>,\n",
       " <div class=\"album\"><a href=\"https://bestsellingalbums.org/album/21088\">WATCH THE THRONE</a></div>,\n",
       " <div class=\"album\"><a href=\"https://bestsellingalbums.org/album/28046\">THIS ONE'S FOR YOU</a></div>]"
      ]
     },
     "execution_count": 181,
     "metadata": {},
     "output_type": "execute_result"
    }
   ],
   "source": [
    "links_div_test4 = soup.find_all(class_ = \"album\")\n",
    "links_div_test4"
   ]
  },
  {
   "cell_type": "code",
   "execution_count": 216,
   "id": "35d7aa18-6b37-4b21-ba58-2e668441babb",
   "metadata": {},
   "outputs": [
    {
     "data": {
      "text/plain": [
       "bs4.element.ResultSet"
      ]
     },
     "execution_count": 216,
     "metadata": {},
     "output_type": "execute_result"
    }
   ],
   "source": [
    "type(links_div_test4)"
   ]
  },
  {
   "cell_type": "code",
   "execution_count": 198,
   "id": "48e58084-e863-4643-a9ca-165fc2f3a0e3",
   "metadata": {
    "collapsed": true,
    "jupyter": {
     "outputs_hidden": true
    },
    "scrolled": true
   },
   "outputs": [
    {
     "ename": "AttributeError",
     "evalue": "ResultSet object has no attribute 'find_all'. You're probably treating a list of elements like a single element. Did you call find_all() when you meant to call find()?",
     "output_type": "error",
     "traceback": [
      "\u001b[0;31m---------------------------------------------------------------------------\u001b[0m",
      "\u001b[0;31mAttributeError\u001b[0m                            Traceback (most recent call last)",
      "Cell \u001b[0;32mIn[198], line 1\u001b[0m\n\u001b[0;32m----> 1\u001b[0m links_test4 \u001b[38;5;241m=\u001b[39m \u001b[43mlinks_div_test4\u001b[49m\u001b[38;5;241;43m.\u001b[39;49m\u001b[43mfind_all\u001b[49m(\u001b[38;5;124m\"\u001b[39m\u001b[38;5;124ma\u001b[39m\u001b[38;5;124m\"\u001b[39m) \u001b[38;5;66;03m## error\u001b[39;00m\n",
      "File \u001b[0;32m~/Library/jupyterlab-desktop/jlab_server/lib/python3.12/site-packages/bs4/element.py:2433\u001b[0m, in \u001b[0;36mResultSet.__getattr__\u001b[0;34m(self, key)\u001b[0m\n\u001b[1;32m   2431\u001b[0m \u001b[38;5;28;01mdef\u001b[39;00m \u001b[38;5;21m__getattr__\u001b[39m(\u001b[38;5;28mself\u001b[39m, key):\n\u001b[1;32m   2432\u001b[0m \u001b[38;5;250m    \u001b[39m\u001b[38;5;124;03m\"\"\"Raise a helpful exception to explain a common code fix.\"\"\"\u001b[39;00m\n\u001b[0;32m-> 2433\u001b[0m     \u001b[38;5;28;01mraise\u001b[39;00m \u001b[38;5;167;01mAttributeError\u001b[39;00m(\n\u001b[1;32m   2434\u001b[0m         \u001b[38;5;124m\"\u001b[39m\u001b[38;5;124mResultSet object has no attribute \u001b[39m\u001b[38;5;124m'\u001b[39m\u001b[38;5;132;01m%s\u001b[39;00m\u001b[38;5;124m'\u001b[39m\u001b[38;5;124m. You\u001b[39m\u001b[38;5;124m'\u001b[39m\u001b[38;5;124mre probably treating a list of elements like a single element. Did you call find_all() when you meant to call find()?\u001b[39m\u001b[38;5;124m\"\u001b[39m \u001b[38;5;241m%\u001b[39m key\n\u001b[1;32m   2435\u001b[0m     )\n",
      "\u001b[0;31mAttributeError\u001b[0m: ResultSet object has no attribute 'find_all'. You're probably treating a list of elements like a single element. Did you call find_all() when you meant to call find()?"
     ]
    }
   ],
   "source": [
    "links_test4 = links_div_test4.find_all(\"a\") ## error"
   ]
  },
  {
   "cell_type": "code",
   "execution_count": 222,
   "id": "9acb75cb-d79f-4007-af61-9449cf097643",
   "metadata": {
    "scrolled": true
   },
   "outputs": [
    {
     "data": {
      "text/plain": [
       "[[<a href=\"https://bestsellingalbums.org/album/1034\">21</a>],\n",
       " [<a href=\"https://bestsellingalbums.org/album/1035\">25</a>],\n",
       " [<a href=\"https://bestsellingalbums.org/album/30524\">CHRISTMAS</a>],\n",
       " [<a href=\"https://bestsellingalbums.org/album/45488\">1989</a>],\n",
       " [<a href=\"https://bestsellingalbums.org/album/23318\">PURPOSE</a>],\n",
       " [<a href=\"https://bestsellingalbums.org/album/12876\">DIVIDE</a>],\n",
       " [<a href=\"https://bestsellingalbums.org/album/42961\">FROZEN</a>],\n",
       " [<a href=\"https://bestsellingalbums.org/album/23977\">TEENAGE DREAM</a>],\n",
       " [<a href=\"https://bestsellingalbums.org/album/12880\">X</a>],\n",
       " [<a href=\"https://bestsellingalbums.org/album/6777\">DOO-WOPS &amp; HOOLIGANS</a>],\n",
       " [<a href=\"https://bestsellingalbums.org/album/13756\">RECOVERY</a>],\n",
       " [<a href=\"https://bestsellingalbums.org/album/19810\">NIGHT VISIONS</a>],\n",
       " [<a href=\"https://bestsellingalbums.org/album/39978\">IN THE LONELY HOUR</a>],\n",
       " [<a href=\"https://bestsellingalbums.org/album/6778\">UNORTHODOX JUKEBOX</a>],\n",
       " [<a href=\"https://bestsellingalbums.org/album/45494\">RED</a>],\n",
       " [<a href=\"https://bestsellingalbums.org/album/12875\">+</a>],\n",
       " [<a href=\"https://bestsellingalbums.org/album/12457\">VIEWS</a>],\n",
       " [<a href=\"https://bestsellingalbums.org/album/47839\">BEAUTY BEHIND THE MADNESS</a>],\n",
       " [<a href=\"https://bestsellingalbums.org/album/5207\">WHEN WE ALL FALL ASLEEP, WHERE DO WE GO?</a>],\n",
       " [<a href=\"https://bestsellingalbums.org/album/25786\">BORN THIS WAY</a>],\n",
       " [<a href=\"https://bestsellingalbums.org/album/6859\">MAP OF THE SOUL: 7</a>],\n",
       " [<a href=\"https://bestsellingalbums.org/album/36763\">BEERBONGS &amp; BENTLEYS</a>],\n",
       " [<a href=\"https://bestsellingalbums.org/album/12455\">TAKE CARE</a>],\n",
       " [<a href=\"https://bestsellingalbums.org/album/45496\">SPEAK NOW</a>],\n",
       " [<a href=\"https://bestsellingalbums.org/album/23975\">PRISM</a>],\n",
       " [<a href=\"https://bestsellingalbums.org/album/25846\">BORN TO DIE</a>],\n",
       " [<a href=\"https://bestsellingalbums.org/album/38507\">LOUD</a>],\n",
       " [<a href=\"https://bestsellingalbums.org/album/38505\">ANTI</a>],\n",
       " [<a href=\"https://bestsellingalbums.org/album/49504\">BLURRYFACE</a>],\n",
       " [<a href=\"https://bestsellingalbums.org/album/36764\">HOLLYWOOD'S BLEEDING</a>],\n",
       " [<a href=\"https://bestsellingalbums.org/album/12453\">SCORPION</a>],\n",
       " [<a href=\"https://bestsellingalbums.org/album/36765\">STONEY</a>],\n",
       " [<a href=\"https://bestsellingalbums.org/album/34460\">TAKE ME HOME</a>],\n",
       " [<a href=\"https://bestsellingalbums.org/album/43568\">THE GREATEST SHOWMAN</a>],\n",
       " [<a href=\"https://bestsellingalbums.org/album/4969\">BEYONCÉ</a>],\n",
       " [<a href=\"https://bestsellingalbums.org/album/34874\">THE TRUTH ABOUT LOVE</a>],\n",
       " [<a href=\"https://bestsellingalbums.org/album/45495\">REPUTATION</a>],\n",
       " [<a href=\"https://bestsellingalbums.org/album/56027\">?</a>],\n",
       " [<a href=\"https://bestsellingalbums.org/album/8686\">TRAVELLER</a>],\n",
       " [<a href=\"https://bestsellingalbums.org/album/47843\">STARBOY</a>],\n",
       " [<a href=\"https://bestsellingalbums.org/album/34461\">UP ALL NIGHT</a>],\n",
       " [<a href=\"https://bestsellingalbums.org/album/34459\">MIDNIGHT MEMORIES</a>],\n",
       " [<a href=\"https://bestsellingalbums.org/album/6860\">MAP OF THE SOUL: PERSONA</a>],\n",
       " [<a href=\"https://bestsellingalbums.org/album/23018\">GOODBYE &amp; GOOD RIDDANCE</a>],\n",
       " [<a href=\"https://bestsellingalbums.org/album/9346\">A HEAD FULL OF DREAMS</a>],\n",
       " [<a href=\"https://bestsellingalbums.org/album/28330\">THE HEIST</a>],\n",
       " [<a href=\"https://bestsellingalbums.org/album/13762\">THE MARSHALL MATHERS LP 2</a>],\n",
       " [<a href=\"https://bestsellingalbums.org/album/45493\">LOVER</a>],\n",
       " [<a href=\"https://bestsellingalbums.org/album/21088\">WATCH THE THRONE</a>],\n",
       " [<a href=\"https://bestsellingalbums.org/album/28046\">THIS ONE'S FOR YOU</a>]]"
      ]
     },
     "execution_count": 222,
     "metadata": {},
     "output_type": "execute_result"
    }
   ],
   "source": [
    "urls_fl_test4 = [] ## what did I do differently here? lol, but it worked.\n",
    "for link in links_div_test4:\n",
    "    urls_fl_test4.append(link.find_all(\"a\"))\n",
    "\n",
    "urls_fl_test4\n",
    "    ## this is a list of lists which makes it hard to pull out the href?"
   ]
  },
  {
   "cell_type": "code",
   "execution_count": 215,
   "id": "65365903-6060-4f08-b62d-415ef0e18796",
   "metadata": {
    "scrolled": true
   },
   "outputs": [
    {
     "name": "stdout",
     "output_type": "stream",
     "text": [
      "[]\n"
     ]
    }
   ],
   "source": [
    "urls_fl_test4 = []\n",
    "for link in links_div_test4:\n",
    "    anchor_tags = link.find_all(\"a\")\n",
    "    for anchor in anchor_tags:\n",
    "        url = anchor.get(href)\n",
    "        if url:\n",
    "            urls_fl_test4.append(url)\n",
    "\n",
    "print(urls_fl_test4)"
   ]
  },
  {
   "cell_type": "code",
   "execution_count": 196,
   "id": "a36a4238-db44-4ae0-ab73-7f88d3eb1fa7",
   "metadata": {},
   "outputs": [
    {
     "data": {
      "text/plain": [
       "list"
      ]
     },
     "execution_count": 196,
     "metadata": {},
     "output_type": "execute_result"
    }
   ],
   "source": [
    "type(urls)"
   ]
  },
  {
   "cell_type": "code",
   "execution_count": 210,
   "id": "62c7a85a-097f-4fb0-9909-6e15d6d20e45",
   "metadata": {},
   "outputs": [],
   "source": [
    "\n"
   ]
  },
  {
   "cell_type": "code",
   "execution_count": null,
   "id": "f404867d-89d7-4c21-88db-f8de9ccf8cd0",
   "metadata": {},
   "outputs": [],
   "source": []
  }
 ],
 "metadata": {
  "kernelspec": {
   "display_name": "Python 3 (ipykernel)",
   "language": "python",
   "name": "python3"
  },
  "language_info": {
   "codemirror_mode": {
    "name": "ipython",
    "version": 3
   },
   "file_extension": ".py",
   "mimetype": "text/x-python",
   "name": "python",
   "nbconvert_exporter": "python",
   "pygments_lexer": "ipython3",
   "version": "3.9.7"
  }
 },
 "nbformat": 4,
 "nbformat_minor": 5
}
