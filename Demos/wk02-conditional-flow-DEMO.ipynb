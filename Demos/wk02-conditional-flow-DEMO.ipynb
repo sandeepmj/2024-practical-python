{
 "cells": [
  {
   "cell_type": "markdown",
   "id": "417c67d6",
   "metadata": {},
   "source": [
    "# Controlling the flow\n",
    "\n",
    "We always need to ensure that our scripts are able to handle various scenarios to return error-free and meaningful outputs. We do this by controlling the flow of our code (and not just how fast it runs).\n",
    "\n",
    "Here are two main reasons we will control the flow:\n",
    "\n",
    "### 1. Conditional Statements: decision-making based on conditions\n",
    "\n",
    "> We want our code to flow based on inputs, calculations and other needs. Without flow control, a program would execute linearly without any logical progression.\n",
    "\n",
    "### 2. Exception Handling: managing unforeseen errors\n",
    "\n",
    "> Our scripts might need to interact with external web pages (or documents or other data). We can't account for every single variation we might run into and our code will break down when it doesn't know how to proceed.\n",
    "\n",
    "> Flow control ensures that when errors happen, the program can handle them gracefully instead of crashing.\n",
    "\n",
    "\n",
    "\n",
    "\n",
    "\n",
    "\n",
    "\n",
    "\n"
   ]
  },
  {
   "cell_type": "markdown",
   "id": "a7c95e85",
   "metadata": {},
   "source": [
    "### 1. Conditional Statements\n",
    "\n",
    "\n",
    "<img src=\"https://sandeepmj.github.io/image-host/if-else.png\" width=\"300\">\n"
   ]
  },
  {
   "cell_type": "code",
   "execution_count": 3,
   "id": "35ac8b0f",
   "metadata": {},
   "outputs": [
    {
     "name": "stdout",
     "output_type": "stream",
     "text": [
      "What will you have?\n"
     ]
    }
   ],
   "source": [
    "## Write an expression that evaluates someone's age and decides \n",
    "## whether they can be served alcohol\n",
    "\n",
    "age = 21\n",
    "if age < 21:\n",
    "    print(\"No booze for you!\")\n",
    "else:\n",
    "    print(\"What will you have?\")\n"
   ]
  },
  {
   "cell_type": "markdown",
   "id": "e2dfad7e",
   "metadata": {},
   "source": [
    "### more often than not, there are multiple conditions that have to be tested:\n",
    "<img src=\"https://sandeepmj.github.io/image-host/if-elif-else.png\" width=\"300\">"
   ]
  },
  {
   "cell_type": "markdown",
   "id": "26dd7657",
   "metadata": {},
   "source": [
    "<b>Create a credit rating expression based on the following values</b>\n",
    "\n",
    "- 300-579: Poor\n",
    "- 580-669: Fair\n",
    "- 670-739: Good\n",
    "- 740-799: Very good\n",
    "- 800-850: Excellent\n",
    "\n",
    "Your output should say \"Your credit of (whatever) is (rating)!\""
   ]
  },
  {
   "cell_type": "code",
   "execution_count": 7,
   "id": "b1f670c9",
   "metadata": {},
   "outputs": [
    {
     "name": "stdout",
     "output_type": "stream",
     "text": [
      "Your credit of 800 is excellent.\n"
     ]
    }
   ],
   "source": [
    "## code here\n",
    "credit = 800\n",
    "\n",
    "if credit <= 579:\n",
    "    print(f\"Your credit of {credit} is poor.\")\n",
    "elif 580 <= credit <= 669:\n",
    "    print(f\"Your credit of {credit} is fair.\")\n",
    "elif 670 <= credit <= 739:\n",
    "    print(f\"Your credit of {credit} is good.\")\n",
    "elif 740 <= credit <= 799:\n",
    "    print(f\"Your credit of {credit} is very good.\")\n",
    "else:\n",
    "    print(f\"Your credit of {credit} is excellent.\") "
   ]
  },
  {
   "cell_type": "markdown",
   "id": "4e4c5a56",
   "metadata": {},
   "source": [
    "## Inputs\n",
    "\n",
    "So far we've been assigning a value to a variable.\n",
    "\n",
    "But we can ask for inputs."
   ]
  },
  {
   "cell_type": "code",
   "execution_count": 8,
   "id": "75928eb4",
   "metadata": {},
   "outputs": [
    {
     "name": "stdout",
     "output_type": "stream",
     "text": [
      "How old are you? 4\n"
     ]
    }
   ],
   "source": [
    "## ask someone to enter their age\n",
    "age = input(\"How old are you? \")"
   ]
  },
  {
   "cell_type": "code",
   "execution_count": 9,
   "id": "12c3c085",
   "metadata": {},
   "outputs": [
    {
     "data": {
      "text/plain": [
       "'4'"
      ]
     },
     "execution_count": 9,
     "metadata": {},
     "output_type": "execute_result"
    }
   ],
   "source": [
    "## call the age\n",
    "\n",
    "age"
   ]
  },
  {
   "cell_type": "code",
   "execution_count": 10,
   "id": "e119e880",
   "metadata": {},
   "outputs": [
    {
     "data": {
      "text/plain": [
       "str"
      ]
     },
     "execution_count": 10,
     "metadata": {},
     "output_type": "execute_result"
    }
   ],
   "source": [
    "## what type of data is it?\n",
    "type(age)"
   ]
  },
  {
   "cell_type": "code",
   "execution_count": 12,
   "id": "78616e8a",
   "metadata": {},
   "outputs": [
    {
     "name": "stdout",
     "output_type": "stream",
     "text": [
      "how old are you? 4\n"
     ]
    }
   ],
   "source": [
    "## convert to a number\n",
    "age = int(input(\"how old are you? \"))"
   ]
  },
  {
   "cell_type": "code",
   "execution_count": 13,
   "id": "0b249250",
   "metadata": {},
   "outputs": [
    {
     "data": {
      "text/plain": [
       "int"
      ]
     },
     "execution_count": 13,
     "metadata": {},
     "output_type": "execute_result"
    }
   ],
   "source": [
    "## what type of data is it?\n",
    "type(age)"
   ]
  },
  {
   "cell_type": "code",
   "execution_count": 15,
   "id": "0b82bd0d",
   "metadata": {},
   "outputs": [
    {
     "name": "stdout",
     "output_type": "stream",
     "text": [
      "how old are you? 4.5\n"
     ]
    }
   ],
   "source": [
    "## ask for age but convert to float\n",
    "age = float(input(\"how old are you? \"))"
   ]
  },
  {
   "cell_type": "code",
   "execution_count": 16,
   "id": "a70fb85a",
   "metadata": {},
   "outputs": [
    {
     "data": {
      "text/plain": [
       "float"
      ]
     },
     "execution_count": 16,
     "metadata": {},
     "output_type": "execute_result"
    }
   ],
   "source": [
    "## what type of data is it?\n",
    "type(age)"
   ]
  },
  {
   "cell_type": "markdown",
   "id": "74398769",
   "metadata": {},
   "source": [
    "## Search & Replace\n",
    "\n",
    "Sometimes we have to search for a value and remove it."
   ]
  },
  {
   "cell_type": "code",
   "execution_count": 17,
   "id": "516183cf",
   "metadata": {},
   "outputs": [],
   "source": [
    "## find and remove the honorific \"Dr.\"\n",
    "my_name = \"Dr. Sandeep Junnarkar\""
   ]
  },
  {
   "cell_type": "code",
   "execution_count": 18,
   "id": "8ab69d33",
   "metadata": {},
   "outputs": [
    {
     "data": {
      "text/plain": [
       "'Sandeep Junnarkar'"
      ]
     },
     "execution_count": 18,
     "metadata": {},
     "output_type": "execute_result"
    }
   ],
   "source": [
    "## code it here\n",
    "updated_name = my_name.replace(\"Dr. \", \"\")\n",
    "updated_name"
   ]
  },
  {
   "cell_type": "code",
   "execution_count": 19,
   "id": "ccc41c65",
   "metadata": {},
   "outputs": [],
   "source": [
    "## one more\n",
    "## Find and replace the % symbol with the word \"percent\"\n",
    "\n",
    "my_pct = \"The price jumped 10%.\"\n"
   ]
  },
  {
   "cell_type": "code",
   "execution_count": 20,
   "id": "ac93f359",
   "metadata": {},
   "outputs": [
    {
     "data": {
      "text/plain": [
       "'The price jumped 10 percent.'"
      ]
     },
     "execution_count": 20,
     "metadata": {},
     "output_type": "execute_result"
    }
   ],
   "source": [
    "## code it here\n",
    "updated_pct = my_pct.replace(\"%\", \" percent\")\n",
    "updated_pct"
   ]
  },
  {
   "cell_type": "code",
   "execution_count": null,
   "id": "4194ff73",
   "metadata": {},
   "outputs": [],
   "source": [
    "## String search"
   ]
  },
  {
   "cell_type": "code",
   "execution_count": 26,
   "id": "6e2d124a",
   "metadata": {},
   "outputs": [],
   "source": [
    "## call this string\n",
    "mystring = \"The cat ran through the house onto the roof!\""
   ]
  },
  {
   "cell_type": "code",
   "execution_count": 28,
   "id": "566ef63b",
   "metadata": {},
   "outputs": [
    {
     "data": {
      "text/plain": [
       "False"
      ]
     },
     "execution_count": 28,
     "metadata": {},
     "output_type": "execute_result"
    }
   ],
   "source": [
    "## search \n",
    "\"dog\" in mystring"
   ]
  },
  {
   "cell_type": "markdown",
   "id": "d4bb08d1",
   "metadata": {},
   "source": [
    "## Your Challenge\n",
    "\n",
    "Update the list below with numbers you can actually run calculations on.\n",
    "\n",
    "Store the updated values in a list called ```calc_revenues```."
   ]
  },
  {
   "cell_type": "code",
   "execution_count": 24,
   "id": "d33a9977",
   "metadata": {},
   "outputs": [],
   "source": [
    "## run this cell\n",
    "revenues = [\"$4.5 million\", \n",
    "            \"$1.1 billion\", \n",
    "            \"$2.1 trillion\", \n",
    "            \"$5.6 million\", \n",
    "            \"$6.9 billion\",\n",
    "           \"$100\",\n",
    "           \"$1,000\"]"
   ]
  },
  {
   "cell_type": "code",
   "execution_count": 43,
   "id": "ec7c0d9b",
   "metadata": {},
   "outputs": [],
   "source": [
    "## CODE IT HERE\n",
    "\n",
    "calc_revenues = [] ## empty list to hold updated values\n",
    "\n",
    "## iterate through my list\n",
    "for revenue in revenues:\n",
    "#     print(revenue)\n",
    "    value = revenue.replace(\"$\", \"\").replace(\",\",\"\") ## remove string values \n",
    "#     print(value)\n",
    "    ## conditionals\n",
    "    if \"million\" in value:\n",
    "        calc_revenues.append(float(value.replace(\"million\", \"\")) * 1_000_000)\n",
    "    elif \"billion\" in value:\n",
    "        calc_revenues.append(float(value.replace(\"billion\", \"\")) * 1_000_000_000)\n",
    "    elif \"trillion\" in value:\n",
    "        calc_revenues.append(float(value.replace(\"trillion\", \"\")) * 1_000_000_000_000)\n",
    "    else:\n",
    "        calc_revenues.append(float(value))\n",
    "        \n",
    "\n",
    "        "
   ]
  },
  {
   "cell_type": "code",
   "execution_count": 45,
   "id": "61fe0c82",
   "metadata": {},
   "outputs": [],
   "source": [
    "calc_revenues = [] ## empty list to hold updated values\n",
    "\n",
    "## iterate through my list\n",
    "for revenue in revenues:\n",
    "#     print(revenue)\n",
    "    value = revenue.replace(\"$\", \"\").replace(\",\",\"\") ## remove string values \n",
    "#     print(value)\n",
    "    ## conditionals\n",
    "    if \"million\" in value:\n",
    "        updated_value = (float(value.replace(\"million\", \"\")) * 1_000_000)\n",
    "    elif \"billion\" in value:\n",
    "        updated_value =  (float(value.replace(\"billion\", \"\")) * 1_000_000_000)\n",
    "    elif \"trillion\" in value:\n",
    "        updated_value = (float(value.replace(\"trillion\", \"\")) * 1_000_000_000_000)\n",
    "    else:\n",
    "        updated_value = (float(value))\n",
    "        \n",
    "    calc_revenues.append(updated_value)"
   ]
  },
  {
   "cell_type": "code",
   "execution_count": 46,
   "id": "31af689f",
   "metadata": {},
   "outputs": [
    {
     "data": {
      "text/plain": [
       "[4500000.0,\n",
       " 1100000000.0,\n",
       " 2100000000000.0,\n",
       " 5600000.0,\n",
       " 6900000000.0,\n",
       " 100.0,\n",
       " 1000.0]"
      ]
     },
     "execution_count": 46,
     "metadata": {},
     "output_type": "execute_result"
    }
   ],
   "source": [
    "## call our updated calc_revenues\n",
    "\n",
    "calc_revenues"
   ]
  },
  {
   "cell_type": "code",
   "execution_count": 47,
   "id": "0ff6003f",
   "metadata": {},
   "outputs": [
    {
     "name": "stdout",
     "output_type": "stream",
     "text": [
      "The Zen of Python, by Tim Peters\n",
      "\n",
      "Beautiful is better than ugly.\n",
      "Explicit is better than implicit.\n",
      "Simple is better than complex.\n",
      "Complex is better than complicated.\n",
      "Flat is better than nested.\n",
      "Sparse is better than dense.\n",
      "Readability counts.\n",
      "Special cases aren't special enough to break the rules.\n",
      "Although practicality beats purity.\n",
      "Errors should never pass silently.\n",
      "Unless explicitly silenced.\n",
      "In the face of ambiguity, refuse the temptation to guess.\n",
      "There should be one-- and preferably only one --obvious way to do it.\n",
      "Although that way may not be obvious at first unless you're Dutch.\n",
      "Now is better than never.\n",
      "Although never is often better than *right* now.\n",
      "If the implementation is hard to explain, it's a bad idea.\n",
      "If the implementation is easy to explain, it may be a good idea.\n",
      "Namespaces are one honking great idea -- let's do more of those!\n"
     ]
    }
   ],
   "source": [
    "import this"
   ]
  },
  {
   "cell_type": "markdown",
   "id": "c62290c0",
   "metadata": {},
   "source": [
    "### 2. Exception Handling: managing unforeseen errors\n",
    "\n",
    "> Our scripts might need to interact with external web pages (or documents or other data). We can't account for every single variation we might run into and our code will break down when it doesn't know how to proceed.\n",
    "\n",
    "> Flow control ensures that when errors happen, the program can handle them gracefully instead of crashing.\n"
   ]
  },
  {
   "cell_type": "markdown",
   "id": "8781e768",
   "metadata": {},
   "source": [
    "In Python, an ```exception``` is an error that occurs during the execution of a script.\n",
    "If not handled, exceptions will stop the program and raise an error message, like below.\n",
    "\n",
    "We will run into errors when we scrape webpages, read documents and run natural language analysis. \n",
    "\n",
    "We might have to iterate through 10,000 links to scrape the content of each page. If some of those pages aren't structured as our scraper expects, our script will break. We'll get to those more complex cases in the near future. Today, we'll deal with a simplier ```exception```."
   ]
  },
  {
   "cell_type": "code",
   "execution_count": 48,
   "id": "c695dccd",
   "metadata": {},
   "outputs": [
    {
     "data": {
      "text/plain": [
       "10.0"
      ]
     },
     "execution_count": 48,
     "metadata": {},
     "output_type": "execute_result"
    }
   ],
   "source": [
    "## divide 100 by 10\n",
    "100 / 10"
   ]
  },
  {
   "cell_type": "code",
   "execution_count": 49,
   "id": "c541f8db",
   "metadata": {},
   "outputs": [
    {
     "ename": "ZeroDivisionError",
     "evalue": "division by zero",
     "output_type": "error",
     "traceback": [
      "\u001b[0;31m---------------------------------------------------------------------------\u001b[0m",
      "\u001b[0;31mZeroDivisionError\u001b[0m                         Traceback (most recent call last)",
      "Cell \u001b[0;32mIn[49], line 3\u001b[0m\n\u001b[1;32m      1\u001b[0m \u001b[38;5;66;03m## divide 100 by 0\u001b[39;00m\n\u001b[0;32m----> 3\u001b[0m \u001b[38;5;241;43m100\u001b[39;49m\u001b[43m \u001b[49m\u001b[38;5;241;43m/\u001b[39;49m\u001b[43m \u001b[49m\u001b[38;5;241;43m0\u001b[39;49m\n",
      "\u001b[0;31mZeroDivisionError\u001b[0m: division by zero"
     ]
    }
   ],
   "source": [
    "## divide 100 by 0\n",
    "\n",
    "100 / 0"
   ]
  },
  {
   "cell_type": "markdown",
   "id": "b8f761e1",
   "metadata": {},
   "source": [
    "### ```try-except``` blocks:\n",
    "\n",
    "<img src=\"https://sandeepmj.github.io/image-host/try-except.png\" width=\"550\">\n"
   ]
  },
  {
   "cell_type": "code",
   "execution_count": 51,
   "id": "224b7c7a",
   "metadata": {},
   "outputs": [
    {
     "name": "stdout",
     "output_type": "stream",
     "text": [
      "Enter a number: 0\n",
      "You can't divide by zero!\n"
     ]
    }
   ],
   "source": [
    "## code try-except block here\n",
    "\n",
    "try:\n",
    "    num = int(input(\"Enter a number: \"))\n",
    "    result = 100 / num\n",
    "    print(f\"100 divided by {num} is {result}\")\n",
    "except ZeroDivisionError:\n",
    "    print(\"You can't divide by zero!\")\n"
   ]
  },
  {
   "cell_type": "markdown",
   "id": "ff453850",
   "metadata": {},
   "source": [
    "### You can have multiple exceptions"
   ]
  },
  {
   "cell_type": "code",
   "execution_count": 54,
   "id": "9343935c",
   "metadata": {},
   "outputs": [
    {
     "ename": "ValueError",
     "evalue": "invalid literal for int() with base 10: 'dog'",
     "output_type": "error",
     "traceback": [
      "\u001b[0;31m---------------------------------------------------------------------------\u001b[0m",
      "\u001b[0;31mValueError\u001b[0m                                Traceback (most recent call last)",
      "Cell \u001b[0;32mIn[54], line 2\u001b[0m\n\u001b[1;32m      1\u001b[0m \u001b[38;5;66;03m## divide a number by a string\u001b[39;00m\n\u001b[0;32m----> 2\u001b[0m \u001b[38;5;241m100\u001b[39m \u001b[38;5;241m/\u001b[39m \u001b[38;5;28;43mint\u001b[39;49m\u001b[43m(\u001b[49m\u001b[38;5;124;43m\"\u001b[39;49m\u001b[38;5;124;43mdog\u001b[39;49m\u001b[38;5;124;43m\"\u001b[39;49m\u001b[43m)\u001b[49m\n",
      "\u001b[0;31mValueError\u001b[0m: invalid literal for int() with base 10: 'dog'"
     ]
    }
   ],
   "source": [
    "## divide a number by a string\n",
    "100 / int(\"dog\")"
   ]
  },
  {
   "cell_type": "code",
   "execution_count": 57,
   "id": "a2712ba6",
   "metadata": {},
   "outputs": [
    {
     "name": "stdout",
     "output_type": "stream",
     "text": [
      "Enter a number: 50\n",
      "100 divided by 50 is 2.0\n"
     ]
    }
   ],
   "source": [
    "## code try-multiple exceptions here\n",
    "try:\n",
    "    num = int(input(\"Enter a number: \"))\n",
    "    result = 100 / num\n",
    "    print(f\"100 divided by {num} is {result}\")\n",
    "except ZeroDivisionError:\n",
    "    print(\"You can't divide by zero!\")\n",
    "    \n",
    "except ValueError:\n",
    "    print(\"You had an invalid input. please enter an integer\")"
   ]
  },
  {
   "cell_type": "markdown",
   "id": "4aff1a5a",
   "metadata": {},
   "source": [
    "### ```try-except-finally```\n",
    "\n",
    "We tack on a ```finally``` block that executes code regardless of whether an exception was raised or not, usually just to show us how far our code has progressed.\n",
    "\n",
    "<img src=\"https://sandeepmj.github.io/image-host/try-except-finally.png\" width=\"550\">\n"
   ]
  },
  {
   "cell_type": "code",
   "execution_count": 67,
   "id": "056e1ee3",
   "metadata": {},
   "outputs": [
    {
     "name": "stdout",
     "output_type": "stream",
     "text": [
      "200\n",
      "Things are tough\n"
     ]
    }
   ],
   "source": [
    "## demo here\n",
    "\n",
    "rent = 1_000\n",
    "food = 300\n",
    "income = 1_500\n",
    "# income = \"$1,500\"\n",
    "# food = \"300\"\n",
    "\n",
    "try:\n",
    "    remaining_balance = income - food - rent\n",
    "    print(remaining_balance)\n",
    "except TypeError:\n",
    "    print(\"You seem to have a string value as a variable\")\n",
    "finally:\n",
    "    print(\"Things are tough\")"
   ]
  },
  {
   "cell_type": "markdown",
   "id": "d57a391c",
   "metadata": {},
   "source": [
    "## Totally Unexpected Errors?\n",
    "\n",
    "You actually don't even need to know what type of error you might encounter.\n",
    "\n",
    "Let's say you scraped the following items from a website. Each index position in each list are related items."
   ]
  },
  {
   "cell_type": "code",
   "execution_count": 69,
   "id": "0f1b7ddb",
   "metadata": {},
   "outputs": [],
   "source": [
    "## RUN THIS CELL\n",
    "rents = [1_200, 1_700, \" \", 2_100, \"%\", 1_999]\n",
    "incomes = [3_000, 3_500, 4_000, 6_000, 3_500, 5_000 ]"
   ]
  },
  {
   "cell_type": "markdown",
   "id": "97afd90e",
   "metadata": {},
   "source": [
    "**We want to calculate what percent of the income is spent on rent.**"
   ]
  },
  {
   "cell_type": "markdown",
   "id": "9926d990",
   "metadata": {},
   "source": [
    "##  ```zip()``` allows us to ```for loop``` through multiple items¶\n"
   ]
  },
  {
   "cell_type": "code",
   "execution_count": 70,
   "id": "b424f223",
   "metadata": {},
   "outputs": [
    {
     "name": "stdout",
     "output_type": "stream",
     "text": [
      "The rent is 1200 and income is 3000\n",
      "The rent is 1700 and income is 3500\n",
      "The rent is   and income is 4000\n",
      "The rent is 2100 and income is 6000\n",
      "The rent is % and income is 3500\n",
      "The rent is 1999 and income is 5000\n"
     ]
    }
   ],
   "source": [
    "## zip these two lists together\n",
    "for (rent, income) in zip(rents, incomes):\n",
    "    print(f\"The rent is {rent} and income is {income}\")"
   ]
  },
  {
   "cell_type": "code",
   "execution_count": 74,
   "id": "838664bc",
   "metadata": {},
   "outputs": [
    {
     "name": "stdout",
     "output_type": "stream",
     "text": [
      "A person pays 1200 in rent while earning 3000.That is 40.0 percent of their income\n",
      "A person pays 1700 in rent while earning 3500.That is 48.57142857142857 percent of their income\n",
      "There is an error in this list\n",
      " , 4000\n",
      "A person pays 2100 in rent while earning 6000.That is 35.0 percent of their income\n",
      "There is an error in this list\n",
      "%, 3500\n",
      "A person pays 1999 in rent while earning 5000.That is 39.98 percent of their income\n"
     ]
    }
   ],
   "source": [
    "## calculate the percent of income spent on rent:\n",
    "## round to zero decimal places\n",
    "## print( A person pays XXX in rent while earning xxx. That is xx percent of their income)\n",
    "## If there's an exception, print \"There's some error in this list\" and print out the values.\n",
    "\n",
    "for (rent, income) in zip(rents, incomes):\n",
    "    try:\n",
    "        percent = (rent/income) * 100\n",
    "        print(f\"A person pays {rent} in rent while earning {income}.\\\n",
    "That is {percent} percent of their income\")\n",
    "    except:\n",
    "        print(\"There is an error in this list\")\n",
    "        print(f\"{rent}, {income}\")"
   ]
  },
  {
   "cell_type": "code",
   "execution_count": 77,
   "id": "1ff0c3cc",
   "metadata": {},
   "outputs": [
    {
     "data": {
      "text/plain": [
       "True"
      ]
     },
     "execution_count": 77,
     "metadata": {},
     "output_type": "execute_result"
    }
   ],
   "source": [
    "len(rents) == len(incomes)"
   ]
  },
  {
   "cell_type": "markdown",
   "id": "dbbdf884",
   "metadata": {},
   "source": [
    "### Tracking Errors\n",
    "\n",
    "It's critical to **compile** where and what caused the error.\n",
    "\n",
    "How could we do that?"
   ]
  },
  {
   "cell_type": "code",
   "execution_count": 75,
   "id": "311a4b22",
   "metadata": {},
   "outputs": [
    {
     "name": "stdout",
     "output_type": "stream",
     "text": [
      "A person pays 1200 in rent while earning 3000.That is 40.0 percent of their income\n",
      "A person pays 1700 in rent while earning 3500.That is 48.57142857142857 percent of their income\n",
      "There is an error in this list\n",
      "A person pays 2100 in rent while earning 6000.That is 35.0 percent of their income\n",
      "There is an error in this list\n",
      "A person pays 1999 in rent while earning 5000.That is 39.98 percent of their income\n"
     ]
    }
   ],
   "source": [
    "### create a list of dictionaries for the related errors\n",
    "\n",
    "errors = []\n",
    "\n",
    "for (rent, income) in zip(rents, incomes):\n",
    "    try:\n",
    "        percent = (rent/income) * 100\n",
    "        print(f\"A person pays {rent} in rent while earning {income}.\\\n",
    "That is {percent} percent of their income\")\n",
    "    except:\n",
    "        print(\"There is an error in this list\")\n",
    "        errors.append({\"rent\": rent, \"income\": income})       "
   ]
  },
  {
   "cell_type": "code",
   "execution_count": 76,
   "id": "3a522541",
   "metadata": {},
   "outputs": [
    {
     "data": {
      "text/plain": [
       "[{'rent': ' ', 'income': 4000}, {'rent': '%', 'income': 3500}]"
      ]
     },
     "execution_count": 76,
     "metadata": {},
     "output_type": "execute_result"
    }
   ],
   "source": [
    "## call errors\n",
    "errors"
   ]
  },
  {
   "cell_type": "markdown",
   "id": "6a7d5d7f",
   "metadata": {},
   "source": [
    "## Uses in Data Journalism\n",
    "\n",
    "When we scrape, analyze data or documents, we need to control the flow of our code.\n",
    "\n",
    "- ```conditional expressions``` will allow you build logic and control the flow of your code.\n",
    "- ```error handling``` will allos you to write script that doesn't break down when it encounters its first blip, and will even let you collect info on what exactly went wrong."
   ]
  },
  {
   "cell_type": "markdown",
   "id": "3e0c4f86",
   "metadata": {},
   "source": [
    "# If time :-) "
   ]
  },
  {
   "cell_type": "markdown",
   "id": "a55f57c7",
   "metadata": {
    "id": "jT5n6Up0wQbE"
   },
   "source": [
    "## List Comprehension"
   ]
  },
  {
   "cell_type": "code",
   "execution_count": 79,
   "id": "0d658132",
   "metadata": {
    "colab": {
     "base_uri": "https://localhost:8080/"
    },
    "executionInfo": {
     "elapsed": 318,
     "status": "ok",
     "timestamp": 1646150036647,
     "user": {
      "displayName": "Sandeep Junnarkar",
      "photoUrl": "https://lh3.googleusercontent.com/a/default-user=s64",
      "userId": "15658885848901522782"
     },
     "user_tz": 300
    },
    "id": "ewAafTSZffPi",
    "outputId": "bf150f7c-d4f0-438f-f328-98b369d2d97d"
   },
   "outputs": [
    {
     "data": {
      "text/plain": [
       "[0, 1, 2, 3, 4, 5, 6, 7, 8, 9, 10]"
      ]
     },
     "execution_count": 79,
     "metadata": {},
     "output_type": "execute_result"
    }
   ],
   "source": [
    "## run this list\n",
    "numbers = [0, 1, 2, 3, 4, 5, 6, 7, 8, 9, 10]\n",
    "numbers"
   ]
  },
  {
   "cell_type": "code",
   "execution_count": 80,
   "id": "ce368b91",
   "metadata": {
    "colab": {
     "base_uri": "https://localhost:8080/"
    },
    "executionInfo": {
     "elapsed": 163,
     "status": "ok",
     "timestamp": 1646150219777,
     "user": {
      "displayName": "Sandeep Junnarkar",
      "photoUrl": "https://lh3.googleusercontent.com/a/default-user=s64",
      "userId": "15658885848901522782"
     },
     "user_tz": 300
    },
    "id": "PYQ8RjbGfsT4",
    "outputId": "d6fa8ecd-0a75-432a-ec82-36140efcfdc5"
   },
   "outputs": [
    {
     "data": {
      "text/plain": [
       "[0, 10, 20, 30, 40, 50, 60, 70, 80, 90, 100]"
      ]
     },
     "execution_count": 80,
     "metadata": {},
     "output_type": "execute_result"
    }
   ],
   "source": [
    "## use a FOR LOOP (FL) to create a list that holds the numbers times 10\n",
    "numbers_fl = []\n",
    "for number in numbers:\n",
    "    numbers_fl.append(number * 10)\n",
    "    \n",
    "numbers_fl"
   ]
  },
  {
   "cell_type": "code",
   "execution_count": 81,
   "id": "b420a56a",
   "metadata": {
    "colab": {
     "base_uri": "https://localhost:8080/"
    },
    "executionInfo": {
     "elapsed": 269,
     "status": "ok",
     "timestamp": 1646150335897,
     "user": {
      "displayName": "Sandeep Junnarkar",
      "photoUrl": "https://lh3.googleusercontent.com/a/default-user=s64",
      "userId": "15658885848901522782"
     },
     "user_tz": 300
    },
    "id": "ZuKI0ebYf1ON",
    "outputId": "0f38a160-4d15-4287-cf72-585f964bd92e"
   },
   "outputs": [
    {
     "data": {
      "text/plain": [
       "[0, 10, 20, 30, 40, 50, 60, 70, 80, 90, 100]"
      ]
     },
     "execution_count": 81,
     "metadata": {},
     "output_type": "execute_result"
    }
   ],
   "source": [
    "## use list comprehension (LC) to create a list that holds the numbers times 10\n",
    "\n",
    "numbers_lc = [number * 10 for number in numbers]\n",
    "numbers_lc\n"
   ]
  },
  {
   "cell_type": "code",
   "execution_count": null,
   "id": "5e69d4cb",
   "metadata": {},
   "outputs": [],
   "source": [
    "## CALL NUMBERS\n",
    "\n"
   ]
  },
  {
   "cell_type": "code",
   "execution_count": null,
   "id": "89229884",
   "metadata": {},
   "outputs": [],
   "source": [
    "## use a for loop to hold on to numbers x 3 and hold only the even numbers in a few list\n",
    "\n"
   ]
  },
  {
   "cell_type": "code",
   "execution_count": null,
   "id": "24ed2f6d",
   "metadata": {},
   "outputs": [],
   "source": [
    "## use a for loop to hold on to numbers x 3 and hold only the odd numbers in a few list\n",
    "\n"
   ]
  },
  {
   "cell_type": "code",
   "execution_count": null,
   "id": "9667767d",
   "metadata": {
    "colab": {
     "base_uri": "https://localhost:8080/"
    },
    "executionInfo": {
     "elapsed": 380,
     "status": "ok",
     "timestamp": 1646150869735,
     "user": {
      "displayName": "Sandeep Junnarkar",
      "photoUrl": "https://lh3.googleusercontent.com/a/default-user=s64",
      "userId": "15658885848901522782"
     },
     "user_tz": 300
    },
    "id": "R9EJBM96gBWy",
    "outputId": "fcc10778-0196-4d5a-8ae5-fee31ae09a53"
   },
   "outputs": [],
   "source": [
    "## use LC to create a list that holds only the even numbers \n",
    "even_lc = [number * 3 for number in numbers if (number * 3) % 2 == 0]\n",
    "even_lc"
   ]
  },
  {
   "cell_type": "code",
   "execution_count": null,
   "id": "a0f5eb1b",
   "metadata": {
    "colab": {
     "base_uri": "https://localhost:8080/"
    },
    "executionInfo": {
     "elapsed": 221,
     "status": "ok",
     "timestamp": 1646151168648,
     "user": {
      "displayName": "Sandeep Junnarkar",
      "photoUrl": "https://lh3.googleusercontent.com/a/default-user=s64",
      "userId": "15658885848901522782"
     },
     "user_tz": 300
    },
    "id": "23TpWeMAgLOX",
    "outputId": "82c1b481-7ae9-4ed5-841a-0cc346b72575"
   },
   "outputs": [],
   "source": [
    "## use LC to create a list that holds only the odd numbers \n",
    "\n"
   ]
  },
  {
   "cell_type": "markdown",
   "id": "ec4e0a8e",
   "metadata": {
    "id": "EEXSVGi2C-w4"
   },
   "source": [
    "###  Combine different data points together \n",
    "\n",
    "#### You scrape some URLs and place them in a list called myURLS (provided below):\n"
   ]
  },
  {
   "cell_type": "code",
   "execution_count": null,
   "id": "f709c223",
   "metadata": {
    "id": "mQwOrDIWC-w4"
   },
   "outputs": [],
   "source": [
    "## run this cell to activate the list\n",
    "myURLS = [\n",
    "    'great-unique-data-1.html',\n",
    "    'great-unique-data-2.html',\n",
    "    'great-unique-data-3.html',\n",
    "    'great-unique-data-4.html',\n",
    "    'great-unique-data-5.html',\n",
    "    'great-unique-data-6.html',\n",
    "    'great-unique-data-7.html',\n",
    "    'great-unique-data-8.html',\n",
    "    'great-unique-data-9.html',\n",
    "    'great-unique-data-10.html',\n",
    "    'great-unique-data-11.html',\n",
    "    'great-unique-data-12.html',\n",
    "    'great-unique-data-13.html',\n",
    "    'great-unique-data-14.html',\n",
    "    'great-unique-data-15.html'\n",
    "]\n"
   ]
  },
  {
   "cell_type": "code",
   "execution_count": null,
   "id": "00b55173",
   "metadata": {
    "colab": {
     "base_uri": "https://localhost:8080/"
    },
    "id": "XGrsmmioC-w4",
    "outputId": "daf42c56-696e-45c5-daec-967ea4801db2"
   },
   "outputs": [],
   "source": [
    "## CALL myURLS to check it out\n"
   ]
  },
  {
   "cell_type": "markdown",
   "id": "6923662f",
   "metadata": {
    "id": "_W4WZ9-_C-w5"
   },
   "source": [
    "### * You realize that these URLs are missing the base of \"http://www.importantsite.com/\"\n",
    "### * Use a ```for loop``` to join the base URL to every partial URL in your list.\n",
    "### * Print each FULL URL\n",
    "It should look like: ```\"http://www.importantsite.com/great-unique-data-14.html``` but with unique numbers"
   ]
  },
  {
   "cell_type": "code",
   "execution_count": null,
   "id": "71e1f570",
   "metadata": {},
   "outputs": [],
   "source": [
    "## build here:\n"
   ]
  },
  {
   "cell_type": "markdown",
   "id": "c18fe304",
   "metadata": {},
   "source": [
    "## Back to toxins list comprehension"
   ]
  },
  {
   "cell_type": "code",
   "execution_count": 82,
   "id": "420aae03",
   "metadata": {},
   "outputs": [],
   "source": [
    "# run this cell\n",
    "toxins = [\n",
    "        \"Recombinant Bovine Growth Hormone\", \n",
    "        \"Butylated Hydroxyanisole\", \n",
    "        \"Sodium Aluminum Sulphate\",\n",
    "        \"Potassium Aluminum Sulphate\",\n",
    "        \"Sodium Nitrite\",\n",
    "        \"Polycyclic Aromatic Hydrocarbons\",\n",
    "        \"Dioxins\",\n",
    "        \"Heterocyclic Amines\",\n",
    "        \"Butylated Hydroxytoluene\",\n",
    "        \"Polyvinyl Chloride\",\n",
    "        \"PVC\",\n",
    "        \"Perfluorooctanoic Acid\",\n",
    "        \"PFOA\",\n",
    "        \"Triclosan\",\n",
    "        \"Bisphenol-A\",\n",
    "        \"BPA\",\n",
    "        \"Formaldehyde\",\n",
    "        \"Naphthalene\",\n",
    "        \"Asbestos\"\n",
    "         ]"
   ]
  },
  {
   "cell_type": "markdown",
   "id": "0d2c9a58",
   "metadata": {},
   "source": [
    "Using a ```list comprehension``` create a list called ```sodium_lc``` that captures only the toxins that have the word ```sodium``` in them."
   ]
  },
  {
   "cell_type": "code",
   "execution_count": 90,
   "id": "62234f6a",
   "metadata": {},
   "outputs": [
    {
     "data": {
      "text/plain": [
       "['Potassium Aluminum Sulphate']"
      ]
     },
     "execution_count": 90,
     "metadata": {},
     "output_type": "execute_result"
    }
   ],
   "source": [
    "## build here: \n",
    "sodium_tox_lc = [toxin for toxin in toxins if \"potassium\" in toxin.lower()]\n",
    "sodium_tox_lc"
   ]
  },
  {
   "cell_type": "code",
   "execution_count": 88,
   "id": "579b56da",
   "metadata": {},
   "outputs": [
    {
     "data": {
      "text/plain": [
       "['Sodium Aluminum Sulphate', 'Sodium Nitrite']"
      ]
     },
     "execution_count": 88,
     "metadata": {},
     "output_type": "execute_result"
    }
   ],
   "source": [
    "toxins_fl = []\n",
    "for toxin in toxins:\n",
    "    if \"sodium\" in toxin.lower():\n",
    "        toxins_fl.append(toxin)\n",
    "    \n",
    "toxins_fl"
   ]
  },
  {
   "cell_type": "code",
   "execution_count": null,
   "id": "d2468323",
   "metadata": {},
   "outputs": [],
   "source": [
    "lc = [item.upper() for item in items]"
   ]
  }
 ],
 "metadata": {
  "kernelspec": {
   "display_name": "Python 3 (ipykernel)",
   "language": "python",
   "name": "python3"
  },
  "language_info": {
   "codemirror_mode": {
    "name": "ipython",
    "version": 3
   },
   "file_extension": ".py",
   "mimetype": "text/x-python",
   "name": "python",
   "nbconvert_exporter": "python",
   "pygments_lexer": "ipython3",
   "version": "3.9.7"
  }
 },
 "nbformat": 4,
 "nbformat_minor": 5
}
