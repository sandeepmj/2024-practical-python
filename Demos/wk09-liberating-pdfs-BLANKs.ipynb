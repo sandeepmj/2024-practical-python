{
 "cells": [
  {
   "cell_type": "markdown",
   "id": "af959b74",
   "metadata": {},
   "source": [
    "# Liberating Data from PDFs\n",
    "\n",
    "Like it or not, many institutions love to cram data into PDFs. This data can take the form of unstructured text (like memos, emails, court filings) that we may want to pull into a spreadsheet. Or it may just be tables locked into PDFs.\n",
    "\n",
    "Today we'll learn to:\n",
    "\n",
    "- Unlock tables\n",
    "- Extract text held in PDFs\n",
    "- Deal with obnoxious PDFs"
   ]
  },
  {
   "cell_type": "markdown",
   "id": "e3d69f68",
   "metadata": {},
   "source": [
    "## Tables scattered in PDFs\n",
    "\n",
    "As it is, PDFs are notoriously obnoxious. They are designed so people can't change them easily.\n",
    "\n",
    "PDFs that hold tables are pretty much the worst.\n",
    "\n",
    "We want to <a href=\"https://drive.google.com/file/d/1_zzdyqwfMP6F0ukmmlMBaXTwZ36Iadba/view?usp=sharing\">scrape data from these sample digital PDFs</a>.\n",
    "\n",
    "You might have worked with the <a href=\"https://tabula.technology/\">Tabula GUI</a> to extract tables from PDFs. But there's a lot of manual work involved. \n",
    "\n",
    "To automate the process, we'll use the **Tabula Python Library**.\n",
    "\n",
    "#### There's NO satisfaction guarantee, but at least it's a way to try to tackle PDFs with tables."
   ]
  },
  {
   "cell_type": "markdown",
   "id": "7c1f67e2",
   "metadata": {},
   "source": [
    "Use  ```!pip install tabula-py``` in a code cell.\n"
   ]
  },
  {
   "cell_type": "code",
   "execution_count": null,
   "id": "ab887424",
   "metadata": {},
   "outputs": [],
   "source": [
    "pip install -q tabula-py"
   ]
  },
  {
   "cell_type": "markdown",
   "id": "84da191e",
   "metadata": {},
   "source": [
    "You may need ```pip install install-jdk``` the first time you run this package."
   ]
  },
  {
   "cell_type": "code",
   "execution_count": null,
   "id": "15b92df3",
   "metadata": {},
   "outputs": [],
   "source": [
    "pip install install-jdk"
   ]
  },
  {
   "cell_type": "code",
   "execution_count": null,
   "id": "a50f79db",
   "metadata": {},
   "outputs": [],
   "source": [
    "## import needed packages and libraries\n",
    "\n",
    "import pandas as pd ## pandas to work with data\n",
    "\n",
    "import tabula\n",
    "tabula.environment_info() ## not need always ## check it's versioning\n"
   ]
  },
  {
   "cell_type": "markdown",
   "id": "fe133143",
   "metadata": {},
   "source": [
    "Still having problems?\n",
    "\n",
    "Are you getting a ```JDK error``` within your notebook?\n",
    "\n",
    "Try this:  I installed the latest version of Oracle’s Java JDK. For those with an M1 machine, the appropriate one is the ARM file under the MacOS tab; for those with intel, it’s the x64.\n",
    "\n",
    "https://www.oracle.com/java/technologies/downloads/#jdk17-mac"
   ]
  },
  {
   "cell_type": "code",
   "execution_count": null,
   "id": "b421a1be",
   "metadata": {},
   "outputs": [],
   "source": [
    "# Suppress the specific FutureWarning\n",
    "import warnings\n",
    "\n",
    "\n",
    "warnings.filterwarnings(\"ignore\", category=FutureWarning, message=\".*errors='ignore' is deprecated.*\")\n"
   ]
  },
  {
   "cell_type": "code",
   "execution_count": null,
   "id": "517a91f3",
   "metadata": {},
   "outputs": [],
   "source": [
    "## Let's pull in our first pdf with a single page, single table\n"
   ]
  },
  {
   "cell_type": "code",
   "execution_count": null,
   "id": "a0ded8f5",
   "metadata": {},
   "outputs": [],
   "source": [
    "## WHAT TYPE OF DATA?\n"
   ]
  },
  {
   "cell_type": "code",
   "execution_count": null,
   "id": "a7c48a81",
   "metadata": {},
   "outputs": [],
   "source": [
    "## what does this list hold?\n"
   ]
  },
  {
   "cell_type": "code",
   "execution_count": null,
   "id": "f5149e59",
   "metadata": {},
   "outputs": [],
   "source": [
    "## let's get the first table\n"
   ]
  },
  {
   "cell_type": "code",
   "execution_count": null,
   "id": "291fb813",
   "metadata": {},
   "outputs": [],
   "source": [
    "## store into df\n"
   ]
  },
  {
   "cell_type": "code",
   "execution_count": null,
   "id": "dd27947a",
   "metadata": {},
   "outputs": [],
   "source": [
    "## Export and download as CSV file\n",
    "df1.to_csv(\"table1.csv\", encoding = \"UTF-8\", index = False)"
   ]
  },
  {
   "cell_type": "markdown",
   "id": "bc027320",
   "metadata": {},
   "source": [
    "### Multiple pages/ Multiple tables\n",
    "We at target our PDF for multiple pages and tables"
   ]
  },
  {
   "cell_type": "code",
   "execution_count": null,
   "id": "6f3aab93",
   "metadata": {},
   "outputs": [],
   "source": [
    "## pdf2\n"
   ]
  },
  {
   "cell_type": "code",
   "execution_count": null,
   "id": "514d0aab",
   "metadata": {},
   "outputs": [],
   "source": [
    "## table extraction\n"
   ]
  },
  {
   "cell_type": "code",
   "execution_count": null,
   "id": "0d67be06",
   "metadata": {},
   "outputs": [],
   "source": [
    "## let's get the second table\n"
   ]
  },
  {
   "cell_type": "markdown",
   "id": "0eae5b57",
   "metadata": {},
   "source": [
    "## Foundational Multi-page, Multi-table\n",
    "\n",
    "### Campaign contribution demo"
   ]
  },
  {
   "cell_type": "code",
   "execution_count": null,
   "id": "3a65b59c",
   "metadata": {},
   "outputs": [],
   "source": [
    "## path to our \"campaign_contribs.pdf\" PDF\n",
    "# pdf3 = \"pdf_samples/pa-oct-1-contribs.pdf\"\n"
   ]
  },
  {
   "cell_type": "code",
   "execution_count": null,
   "id": "ee6c753c",
   "metadata": {},
   "outputs": [],
   "source": [
    "## get all the pages\n"
   ]
  },
  {
   "cell_type": "code",
   "execution_count": null,
   "id": "aa979ce7",
   "metadata": {},
   "outputs": [],
   "source": [
    "## confirm we have the correct number of tables. should have 601 tables\n"
   ]
  },
  {
   "cell_type": "code",
   "execution_count": null,
   "id": "f8e2852d",
   "metadata": {},
   "outputs": [],
   "source": [
    "## check out a couple of tables\n"
   ]
  },
  {
   "cell_type": "code",
   "execution_count": null,
   "id": "f36b23cf",
   "metadata": {},
   "outputs": [],
   "source": [
    "## combine all the tables into one df\n"
   ]
  },
  {
   "cell_type": "markdown",
   "id": "9b269ca7",
   "metadata": {},
   "source": [
    "### Reality Check"
   ]
  },
  {
   "cell_type": "code",
   "execution_count": null,
   "id": "03438508",
   "metadata": {},
   "outputs": [],
   "source": [
    "## import who_covid.pdf\n"
   ]
  },
  {
   "cell_type": "code",
   "execution_count": null,
   "id": "75b24bf9",
   "metadata": {},
   "outputs": [],
   "source": [
    "## call the first table on page 3\n"
   ]
  },
  {
   "cell_type": "markdown",
   "id": "81d5d3e0",
   "metadata": {},
   "source": [
    "#### Compare to actual PDF table.\n",
    "What is happening?"
   ]
  },
  {
   "cell_type": "markdown",
   "id": "4bc7acc7",
   "metadata": {},
   "source": [
    "# No Satisfaction Guarantee\n",
    "\n",
    "What did I mean by that?\n",
    "\n",
    "The results really depend on the PDF and how it was put together.\n",
    "\n",
    "Here are some issues you will encounter:\n",
    "\n",
    "1. The Tables have too many sub-columns and sub-rows and groupings (bad_table.pdf)\n",
    "\n",
    "2. Multiple different tables on the same page that are too close together will be processed as a single table and be an utter mess.\n",
    "\n",
    "3. Documents and reports that have been scanned and are really images of PDFs can't be processed with Tabula or PyPDF2. Tables on these types of scans require advanced Python and graphical analysis skills beyond the scope of this course."
   ]
  },
  {
   "cell_type": "markdown",
   "id": "a7afd54b",
   "metadata": {},
   "source": [
    "## Extracting Text from PDFs\n",
    "\n",
    "In many cases, we just need the text from a single or multiple PDFs so we can convert them to structured data or run natural language analysis on them.\n",
    "\n",
    "It will depend on the type of PDFs we are dealing. Some PDFs are good, others just okay and some are just **very, very bad**. \n",
    "\n",
    "This folder contains PDFs that come in many different flavors. <a href=\"https://drive.google.com/file/d/1flBD4b2Dz6_6EfC1VuU-6Uv2FAYtKbia/view?usp=sharing\">Download it</a> and place in the same directory as your notebook.\n",
    "\n",
    "Here are several strategies:\n",
    "\n",
    "### Good PDFs\n",
    "\n",
    "Well-behaving PDFs are those that were the digital text can easily be copied and pasted. We just don't want to copy and paste for hundreds of files. \n",
    "\n",
    "We'll use one of the most modern packages used to read PDFs to incorporate into Large Language Models.\n",
    "\n"
   ]
  },
  {
   "cell_type": "code",
   "execution_count": null,
   "id": "2494c68b",
   "metadata": {},
   "outputs": [],
   "source": [
    "pip install pymupdf4llm"
   ]
  },
  {
   "cell_type": "code",
   "execution_count": null,
   "id": "b48bd360",
   "metadata": {},
   "outputs": [],
   "source": [
    "import pymupdf4llm"
   ]
  },
  {
   "cell_type": "markdown",
   "id": "04a6456e",
   "metadata": {},
   "source": [
    "#### ```to_markdown()```\n",
    "\n",
    "```pymupdf4llm``` has a power ```to_markdown()``` method.\n",
    "\n",
    "Provide a path to your PDF and it stores the text."
   ]
  },
  {
   "cell_type": "code",
   "execution_count": null,
   "id": "9b30ea46",
   "metadata": {},
   "outputs": [],
   "source": [
    "# Extract a simple PDF content as Markdown\n"
   ]
  },
  {
   "cell_type": "markdown",
   "id": "04d36b80",
   "metadata": {},
   "source": [
    "#### You don't need to read an entire PDF. You can just specify a page, or a range of pages."
   ]
  },
  {
   "cell_type": "code",
   "execution_count": null,
   "id": "a3d9b8b0",
   "metadata": {},
   "outputs": [],
   "source": [
    "## extract single page\n"
   ]
  },
  {
   "cell_type": "markdown",
   "id": "5f791841",
   "metadata": {},
   "source": [
    "## Extract a range of pages\n"
   ]
  },
  {
   "cell_type": "code",
   "execution_count": null,
   "id": "1c1f04c0",
   "metadata": {},
   "outputs": [],
   "source": [
    "## create a range of pages + some\n"
   ]
  },
  {
   "cell_type": "code",
   "execution_count": null,
   "id": "ea080494",
   "metadata": {},
   "outputs": [],
   "source": [
    "\n",
    "## extract range page\n",
    "\n"
   ]
  },
  {
   "cell_type": "code",
   "execution_count": null,
   "id": "9fbd19a8",
   "metadata": {},
   "outputs": [],
   "source": [
    "## create a range of pages + some\n"
   ]
  },
  {
   "cell_type": "code",
   "execution_count": null,
   "id": "4cd67fab",
   "metadata": {},
   "outputs": [],
   "source": [
    "\n",
    "## extract range page\n"
   ]
  },
  {
   "cell_type": "markdown",
   "id": "39834bdd",
   "metadata": {},
   "source": [
    "#### We can write it to an ```.md``` file in case we want to hold on to it."
   ]
  },
  {
   "cell_type": "code",
   "execution_count": null,
   "id": "8309dcdf",
   "metadata": {},
   "outputs": [],
   "source": [
    "# Specify the output Markdown file\n"
   ]
  },
  {
   "cell_type": "code",
   "execution_count": null,
   "id": "287dfb68",
   "metadata": {},
   "outputs": [],
   "source": [
    "## Let's turn into a function\n",
    "\n",
    "     \n",
    "         "
   ]
  },
  {
   "cell_type": "code",
   "execution_count": null,
   "id": "32386486",
   "metadata": {},
   "outputs": [],
   "source": [
    "## export range to md\n"
   ]
  },
  {
   "cell_type": "markdown",
   "id": "4c841636",
   "metadata": {},
   "source": [
    "### Now the problematic kids..."
   ]
  },
  {
   "cell_type": "code",
   "execution_count": null,
   "id": "50561b4b",
   "metadata": {},
   "outputs": [],
   "source": [
    "## another with image and text \n",
    "## This one doesn't quite work\n"
   ]
  },
  {
   "cell_type": "code",
   "execution_count": null,
   "id": "a3087030",
   "metadata": {},
   "outputs": [],
   "source": [
    "# on file with image and text\n"
   ]
  },
  {
   "cell_type": "code",
   "execution_count": null,
   "id": "222b5ab9",
   "metadata": {},
   "outputs": [],
   "source": [
    "## even more problems\n"
   ]
  },
  {
   "cell_type": "code",
   "execution_count": null,
   "id": "1ff635b3",
   "metadata": {},
   "outputs": [],
   "source": [
    "## how about as an md file?\n"
   ]
  },
  {
   "cell_type": "markdown",
   "id": "6ea00ee4",
   "metadata": {},
   "source": [
    "### Obnoxious PDF"
   ]
  },
  {
   "cell_type": "code",
   "execution_count": null,
   "id": "988455ff",
   "metadata": {},
   "outputs": [],
   "source": [
    "## read \"columbus_bank_trust.pdf\" to a text docucment\n",
    "## read and store document in an object\n"
   ]
  },
  {
   "cell_type": "markdown",
   "id": "Glx0bEpqRFLX",
   "metadata": {
    "id": "Glx0bEpqRFLX"
   },
   "source": [
    "# Strategy to Vanquish Obnoxious PDFs\n",
    "\n",
    "\n"
   ]
  },
  {
   "cell_type": "markdown",
   "id": "dfTV9ko7-XbI",
   "metadata": {
    "id": "dfTV9ko7-XbI"
   },
   "source": [
    "### The problem:\n",
    "*   PDFs all have different encodings: UTF-8, ASCII, Unicode, etc\n",
    "*   Therefore a possible loss of data during the conversion \n",
    "\n",
    "### The solution:\n",
    "*   Convert the PDF to an image\n",
    "*   Use optical character recognition (OCR) to capture the text\n",
    "*   Export to a text file\n",
    "\n",
    "\n",
    "\n",
    "### mangoCR to the rescue.\n",
    "This <a href=\"https://pypi.org/project/mangoCR/\">package overcomes</a> many of the problems above.\n",
    "\n"
   ]
  },
  {
   "cell_type": "code",
   "execution_count": null,
   "id": "cb9f2c84",
   "metadata": {},
   "outputs": [],
   "source": []
  },
  {
   "cell_type": "code",
   "execution_count": null,
   "id": "cc976593",
   "metadata": {},
   "outputs": [],
   "source": [
    "## import library\n"
   ]
  },
  {
   "cell_type": "code",
   "execution_count": null,
   "id": "82b7dc55",
   "metadata": {},
   "outputs": [],
   "source": [
    "## bank pdf\n"
   ]
  },
  {
   "cell_type": "code",
   "execution_count": null,
   "id": "ef7edd2c",
   "metadata": {},
   "outputs": [],
   "source": [
    "## nixon pdf\n"
   ]
  },
  {
   "cell_type": "markdown",
   "id": "afc33747",
   "metadata": {},
   "source": [
    "## What about a list of PDFs?"
   ]
  },
  {
   "cell_type": "code",
   "execution_count": null,
   "id": "4dd60d40",
   "metadata": {},
   "outputs": [],
   "source": [
    "## import glob\n"
   ]
  },
  {
   "cell_type": "code",
   "execution_count": null,
   "id": "6e91e2d1",
   "metadata": {},
   "outputs": [],
   "source": [
    "## police cases memos\n"
   ]
  },
  {
   "cell_type": "code",
   "execution_count": null,
   "id": "2918607e",
   "metadata": {},
   "outputs": [],
   "source": [
    "## mangoCR it\n"
   ]
  },
  {
   "cell_type": "markdown",
   "id": "4c587a66",
   "metadata": {},
   "source": [
    "## Now you can tackle really any and all PDFs you encounter in your investigations!"
   ]
  },
  {
   "cell_type": "code",
   "execution_count": null,
   "id": "604c9619",
   "metadata": {},
   "outputs": [],
   "source": []
  }
 ],
 "metadata": {
  "kernelspec": {
   "display_name": "Python 3 (ipykernel)",
   "language": "python",
   "name": "python3"
  },
  "language_info": {
   "codemirror_mode": {
    "name": "ipython",
    "version": 3
   },
   "file_extension": ".py",
   "mimetype": "text/x-python",
   "name": "python",
   "nbconvert_exporter": "python",
   "pygments_lexer": "ipython3",
   "version": "3.9.7"
  }
 },
 "nbformat": 4,
 "nbformat_minor": 5
}
