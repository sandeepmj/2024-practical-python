{
 "cells": [
  {
   "cell_type": "markdown",
   "metadata": {
    "id": "s1gmCxq4kQCP"
   },
   "source": [
    "# Challenges Scraping Non-Tabular Data\n",
    "\n",
    "On <a href=\"https://sandeepmj.github.io/scrape-example-page\">this demo page</a> I've reproduced several variations of issues we are likely to encounter when scraping.\n",
    "\n",
    "- Review scrape of an well-organized page.\n",
    "- Dynamically getting column names.\n",
    "- Scraping a challenging page.\n",
    "- Excluding multi-classes.\n",
    "\n",
    "\n",
    "Let's start by scraping <a href=\"https://sandeepmj.github.io/scrape-example-page/#organized\">the organized CEO data</a>."
   ]
  },
  {
   "cell_type": "markdown",
   "metadata": {
    "id": "YfF9k_35kQCS"
   },
   "source": [
    "### The same steps each time:\n",
    "\n",
    "* Is the content on the page (use ```Reveal Source```)?\n",
    "* Where and how is the content held on the page?\n",
    "* Which classes and IDs do we target?\n",
    "* Is there a pattern?\n",
    "* Is there anything that breaks the pattern?"
   ]
  },
  {
   "cell_type": "markdown",
   "metadata": {
    "id": "TTxmq3ZJkQCa"
   },
   "source": [
    "# Excluding classes\n",
    "\n",
    "Most modern sites have tags that include multiple classes.\n",
    "\n",
    "What if you want to target a tag with a single class but that class also appears in tags with others that holds other types of content.\n",
    "\n",
    "For example, capture ```Excluding Some Classes``` section of our page in ```BeautifulSoup``` object.\n",
    "\n"
   ]
  },
  {
   "cell_type": "code",
   "execution_count": 42,
   "metadata": {
    "id": "AnYKKYHFHNTi"
   },
   "outputs": [],
   "source": [
    "## RUN this cell that holds some html\n",
    "some_html = '''<li> Silly List </li>\n",
    "<li class=\"a\"> A alone  - UNWANTED </li>\n",
    "<li class=\"a z\"> A and Z  - UNWANTED </li>\n",
    "<li class=\"z\"> Z first - my target</li>\n",
    "<li class=\"b z\"> B and Z  - UNWANTED</li>\n",
    "<li class=\"x z\"> X and Z - UNWANTED </li>\n",
    "<li class=\"z\"> Z second - my target</li>'''\n",
    "\n"
   ]
  },
  {
   "cell_type": "markdown",
   "metadata": {
    "id": "GVXYAOG_HNTi"
   },
   "source": [
    "### Back to our CEOs"
   ]
  },
  {
   "cell_type": "code",
   "execution_count": null,
   "metadata": {},
   "outputs": [],
   "source": []
  }
 ],
 "metadata": {
  "celltoolbar": "Slideshow",
  "colab": {
   "provenance": []
  },
  "kernelspec": {
   "display_name": "Python 3 (ipykernel)",
   "language": "python",
   "name": "python3"
  },
  "language_info": {
   "codemirror_mode": {
    "name": "ipython",
    "version": 3
   },
   "file_extension": ".py",
   "mimetype": "text/x-python",
   "name": "python",
   "nbconvert_exporter": "python",
   "pygments_lexer": "ipython3",
   "version": "3.9.7"
  }
 },
 "nbformat": 4,
 "nbformat_minor": 1
}
